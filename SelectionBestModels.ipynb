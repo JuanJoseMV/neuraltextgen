{
  "nbformat": 4,
  "nbformat_minor": 0,
  "metadata": {
    "colab": {
      "name": "SelectionBestModels.ipynb",
      "provenance": [],
      "authorship_tag": "ABX9TyOrXMdKcTNqOoV0tvp5ICxa",
      "include_colab_link": true
    },
    "kernelspec": {
      "name": "python3",
      "display_name": "Python 3"
    },
    "language_info": {
      "name": "python"
    }
  },
  "cells": [
    {
      "cell_type": "markdown",
      "metadata": {
        "id": "view-in-github",
        "colab_type": "text"
      },
      "source": [
        "<a href=\"https://colab.research.google.com/github/JuanJoseMV/neuraltextgen/blob/main/SelectionBestModels.ipynb\" target=\"_parent\"><img src=\"https://colab.research.google.com/assets/colab-badge.svg\" alt=\"Open In Colab\"/></a>"
      ]
    },
    {
      "cell_type": "code",
      "metadata": {
        "id": "Q3ObbXXUZgYA"
      },
      "source": [
        "%%capture\n",
        "!git clone --recursive https://github.com/JuanJoseMV/neuraltextgen.git"
      ],
      "execution_count": 1,
      "outputs": []
    },
    {
      "cell_type": "code",
      "metadata": {
        "id": "OEbppXYSaNS_"
      },
      "source": [
        "import pandas as pd\n",
        "import numpy as np"
      ],
      "execution_count": 2,
      "outputs": []
    },
    {
      "cell_type": "code",
      "metadata": {
        "id": "rDQhKbZYZ88c"
      },
      "source": [
        "pathBleu = \"/content/neuraltextgen/data/grid_search/BlueNgramsResults.csv\"\n",
        "pathRouge = \"/content/neuraltextgen/data/grid_search/rougeResults.csv\"\n",
        "\n",
        "bleuDF = pd.read_csv(pathBleu)\n",
        "rougeDF = pd.read_csv(pathRouge)"
      ],
      "execution_count": 57,
      "outputs": []
    },
    {
      "cell_type": "code",
      "metadata": {
        "id": "JB37AS3ZaKUy"
      },
      "source": [
        "bleuDF.drop(\"Unnamed: 0\", inplace= True, axis=1)"
      ],
      "execution_count": 58,
      "outputs": []
    },
    {
      "cell_type": "code",
      "metadata": {
        "id": "CKtLgIVlOGWF"
      },
      "source": [
        "rougeDF.drop(\"Unnamed: 0\", inplace= True, axis=1)"
      ],
      "execution_count": 59,
      "outputs": []
    },
    {
      "cell_type": "code",
      "metadata": {
        "id": "ELCQ_BTLSD9O"
      },
      "source": [
        "relevantColumnsRouge = rougeDF[[\"model\",\"method\",\"Wiki R1 F1\", \"Wiki R2 F1\", \"Wiki R3 F1\", \"Wiki R4 F1\", \"TBC R1 F1\", \"TBC R2 F1\", \"TBC R3 F1\", \"TBC R4 F1\",]]"
      ],
      "execution_count": null,
      "outputs": []
    },
    {
      "cell_type": "code",
      "metadata": {
        "id": "PJsxZYOg_Al8"
      },
      "source": [
        "meansDF = relevantColumnsRouge.mean()\n",
        "boolMask = []\n",
        "\n",
        "for index, row in relevantColumnsRouge.iterrows():\n",
        "  if False in list(row[2:]>meansDF):\n",
        "    boolMask.append(False)\n",
        "  else:\n",
        "    boolMask.append(True)\n",
        "\n",
        "relevantColumnsRouge[\"mask\"] = boolMask\n",
        "bestRouges = relevantColumnsRouge[relevantColumnsRouge[\"mask\"]]"
      ],
      "execution_count": null,
      "outputs": []
    },
    {
      "cell_type": "code",
      "metadata": {
        "id": "LBHCZX_7_b0S"
      },
      "source": [
        "bestRouges.drop(\"mask\", inplace= True, axis=1)"
      ],
      "execution_count": null,
      "outputs": []
    },
    {
      "cell_type": "code",
      "metadata": {
        "id": "BxxIgg2CCGiJ"
      },
      "source": [
        "int_df = pd.merge(bleuDF, bestRouges, how ='inner', on =['model', \"method\"])"
      ],
      "execution_count": null,
      "outputs": []
    },
    {
      "cell_type": "code",
      "metadata": {
        "id": "W_Dgy6kkHv-V"
      },
      "source": [
        "bleuScores = int_df[[\"model\", \"method\", \"mean_tbc\", \"mean_wiki\"]]\n",
        "bleuScores"
      ],
      "execution_count": null,
      "outputs": []
    },
    {
      "cell_type": "code",
      "metadata": {
        "id": "h5QlG3WOR9ey"
      },
      "source": [
        "selectedModels = bleuScores.query('mean_tbc >= 0.06 & mean_wiki >= 0.06')"
      ],
      "execution_count": 78,
      "outputs": []
    },
    {
      "cell_type": "code",
      "metadata": {
        "colab": {
          "base_uri": "https://localhost:8080/"
        },
        "id": "Xtt9f6JfXtrf",
        "outputId": "60ff6ab7-3d18-4847-986a-d25b88df8d80"
      },
      "source": [
        "selectedModels"
      ],
      "execution_count": 77,
      "outputs": [
        {
          "output_type": "stream",
          "text": [
            "/max_iter=500,std_len=5,init_mask_prob=1,temperature=1,sample=True,top_k=100\n",
            "/max_iter=500,std_len=5,init_mask_prob=1,temperature=1,sample=True,top_k=0\n",
            "/max_iter=500,std_len=5,init_mask_prob=1,temperature=1,sample=True,top_k=100\n",
            "/max_iter=500,std_len=0,init_mask_prob=0,temperature=10,sample=False,top_k=0\n",
            "/max_iter=500,std_len=0,init_mask_prob=1,temperature=1,sample=True,top_k=0\n",
            "/max_iter=500,std_len=0,init_mask_prob=1,temperature=1,sample=True,top_k=100\n",
            "/max_iter=100,std_len=0,init_mask_prob=1,temperature=1,sample=True,top_k=100\n",
            "/max_iter=100,std_len=5,init_mask_prob=1,temperature=1,sample=True,top_k=100\n",
            "/max_iter=500,std_len=0,init_mask_prob=0,temperature=1,sample=False,top_k=0\n",
            "/max_iter=500,std_len=0,init_mask_prob=1,temperature=1,sample=True,top_k=0\n",
            "/max_iter=500,std_len=0,init_mask_prob=1,temperature=1,sample=True,top_k=100\n",
            "/max_iter=500,std_len=5,init_mask_prob=1,temperature=1,sample=True,top_k=0\n",
            "/max_iter=500,std_len=5,init_mask_prob=1,temperature=1,sample=True,top_k=100\n",
            "/max_iter=500,std_len=0,init_mask_prob=0,temperature=1,sample=True,top_k=100\n",
            "/max_iter=500,std_len=0,init_mask_prob=1,temperature=1,sample=True,top_k=0\n",
            "/max_iter=500,std_len=0,init_mask_prob=1,temperature=1,sample=True,top_k=100\n",
            "/max_iter=500,std_len=5,init_mask_prob=1,temperature=1,sample=True,top_k=100\n"
          ],
          "name": "stdout"
        }
      ]
    },
    {
      "cell_type": "code",
      "metadata": {
        "id": "qYp5n9zDYSe_"
      },
      "source": [
        ""
      ],
      "execution_count": null,
      "outputs": []
    }
  ]
}