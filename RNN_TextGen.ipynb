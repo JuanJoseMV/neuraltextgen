{
  "nbformat": 4,
  "nbformat_minor": 0,
  "metadata": {
    "colab": {
      "name": "RNN-TextGen.ipynb",
      "provenance": [],
      "collapsed_sections": [],
      "include_colab_link": true
    },
    "kernelspec": {
      "name": "python3",
      "display_name": "Python 3"
    },
    "language_info": {
      "name": "python"
    },
    "accelerator": "GPU"
  },
  "cells": [
    {
      "cell_type": "markdown",
      "metadata": {
        "id": "view-in-github",
        "colab_type": "text"
      },
      "source": [
        "<a href=\"https://colab.research.google.com/github/JuanJoseMV/neuraltextgen/blob/main/RNN_TextGen.ipynb\" target=\"_parent\"><img src=\"https://colab.research.google.com/assets/colab-badge.svg\" alt=\"Open In Colab\"/></a>"
      ]
    },
    {
      "cell_type": "markdown",
      "metadata": {
        "id": "dMSi0xt3lmij"
      },
      "source": [
        "# Instalations"
      ]
    },
    {
      "cell_type": "markdown",
      "metadata": {
        "id": "OZaPQHqdK3Bn"
      },
      "source": [
        "###### Apex"
      ]
    },
    {
      "cell_type": "code",
      "metadata": {
        "id": "oVwHa6LMLmQD"
      },
      "source": [
        "%%capture\n",
        "!pip install torch==1.7.1+cu101 torchvision==0.8.2+cu101 torchaudio==0.7.2 -f https://download.pytorch.org/whl/torch_stable.html"
      ],
      "execution_count": 1,
      "outputs": []
    },
    {
      "cell_type": "code",
      "metadata": {
        "id": "k-1rILR6K4Sz",
        "colab": {
          "base_uri": "https://localhost:8080/"
        },
        "outputId": "934fff50-9975-4d9a-deca-cf1b95cadaa3"
      },
      "source": [
        "%%writefile setup.sh\n",
        "export CUDA_HOME=/usr/local/cuda-10.1\n",
        "git clone https://github.com/NVIDIA/apex\n",
        "pip install -v --no-cache-dir --global-option=\"--cpp_ext\" --global-option=\"--cuda_ext\" ./apex\n",
        "# Writing setup.sh"
      ],
      "execution_count": 2,
      "outputs": [
        {
          "output_type": "stream",
          "text": [
            "Writing setup.sh\n"
          ],
          "name": "stdout"
        }
      ]
    },
    {
      "cell_type": "code",
      "metadata": {
        "id": "IvO6kiebLDW8"
      },
      "source": [
        "%%capture\n",
        "!sh setup.sh"
      ],
      "execution_count": 3,
      "outputs": []
    },
    {
      "cell_type": "code",
      "metadata": {
        "id": "jGpH7mioX-8Y",
        "outputId": "bf1f6be8-c868-4a84-f286-50b289cbcdad",
        "colab": {
          "base_uri": "https://localhost:8080/"
        }
      },
      "source": [
        "! git clone --recursive https://github.com/JuanJoseMV/neuraltextgen.git"
      ],
      "execution_count": 5,
      "outputs": [
        {
          "output_type": "stream",
          "text": [
            "Cloning into 'neuraltextgen'...\n",
            "remote: Enumerating objects: 645, done.\u001b[K\n",
            "remote: Counting objects: 100% (159/159), done.\u001b[K\n",
            "remote: Compressing objects: 100% (152/152), done.\u001b[K\n",
            "remote: Total 645 (delta 47), reused 11 (delta 5), pack-reused 486\u001b[K\n",
            "Receiving objects: 100% (645/645), 7.58 MiB | 17.45 MiB/s, done.\n",
            "Resolving deltas: 100% (211/211), done.\n",
            "Submodule 'texygen' (https://github.com/geek-ai/Texygen.git) registered for path 'texygen'\n",
            "Cloning into '/content/neuraltextgen/texygen'...\n",
            "remote: Enumerating objects: 888, done.        \n",
            "remote: Total 888 (delta 0), reused 0 (delta 0), pack-reused 888        \n",
            "Receiving objects: 100% (888/888), 21.85 MiB | 21.39 MiB/s, done.\n",
            "Resolving deltas: 100% (537/537), done.\n",
            "Submodule path 'texygen': checked out '3104e22ac75f3cc2070da2bf5e2da6d2bef149ad'\n"
          ],
          "name": "stdout"
        }
      ]
    },
    {
      "cell_type": "markdown",
      "metadata": {
        "id": "h2REsainlXgA"
      },
      "source": [
        "# Imports"
      ]
    },
    {
      "cell_type": "code",
      "metadata": {
        "id": "f_rvBhZVlfhS"
      },
      "source": [
        "import gensim.models.wrappers.fasttext\n",
        "import os\n",
        "import torch\n",
        "import torch.nn as nn\n",
        "import torch.nn.functional as F\n",
        "import numpy as np\n",
        "# from transformers import AutoModelForMaskedLM, AutoTokenizer, AutoModel, BertConfig, AutoConfig\n",
        "from collections import Counter"
      ],
      "execution_count": 4,
      "outputs": []
    },
    {
      "cell_type": "markdown",
      "metadata": {
        "id": "nXcpSeRYSkn2"
      },
      "source": [
        "# Cleaning the dataset\n"
      ]
    },
    {
      "cell_type": "code",
      "metadata": {
        "id": "hr7ElL5NVnt-"
      },
      "source": [
        "## When using Wiki.tokens (not wiki.5k)\n",
        "\n",
        "with open('/content/wiki.train.tokens') as f:\n",
        "  content = f.readlines()\n",
        "\n",
        "clean = []\n",
        "for c in content:\n",
        "  clean.append(c.replace('\\n', '[EOS]'))"
      ],
      "execution_count": null,
      "outputs": []
    },
    {
      "cell_type": "code",
      "metadata": {
        "id": "mEnnOUVo2PYY"
      },
      "source": [
        "with open('/content/neuraltextgen/data/wiki103.5k.txt') as f:\n",
        "  content = f.readlines()\n",
        "\n",
        "clean = []\n",
        "for c in content:\n",
        "  clean.append(c.replace('@@UNKNOWN@@', ''))"
      ],
      "execution_count": 6,
      "outputs": []
    },
    {
      "cell_type": "code",
      "metadata": {
        "id": "YcJ6YE0k4At8"
      },
      "source": [
        "! touch '/content/neuraltextgen/data/cleaned_wiki103.5k.txt'"
      ],
      "execution_count": 7,
      "outputs": []
    },
    {
      "cell_type": "code",
      "metadata": {
        "id": "aiTsB50S20jt"
      },
      "source": [
        "with open('/content/neuraltextgen/data/cleaned_wiki103.5k.txt', 'w') as f:\n",
        "    for item in clean:\n",
        "        f.write(\"%s\\n\" % item)"
      ],
      "execution_count": 8,
      "outputs": []
    },
    {
      "cell_type": "markdown",
      "metadata": {
        "id": "PluZGXYHmFL9"
      },
      "source": [
        "# Downloading pre-trained wordembeddings"
      ]
    },
    {
      "cell_type": "code",
      "metadata": {
        "id": "x-7av7vCmRnc",
        "colab": {
          "base_uri": "https://localhost:8080/"
        },
        "outputId": "7581b34c-85eb-4e20-896c-6e5370036df0"
      },
      "source": [
        "# It takes some minutes, avoid if won't use\n",
        "model = gensim.models.KeyedVectors.load_word2vec_format('/content/wiki-news-300d-1M.vec')\n",
        "word_vectors = model.wv\n",
        "\n",
        "weights = torch.FloatTensor(word_vectors.vectors)\n",
        "embedding = nn.Embedding.from_pretrained(weights)"
      ],
      "execution_count": null,
      "outputs": [
        {
          "output_type": "stream",
          "text": [
            "/usr/local/lib/python3.7/dist-packages/ipykernel_launcher.py:3: DeprecationWarning: Call to deprecated `wv` (Attribute will be removed in 4.0.0, use self instead).\n",
            "  This is separate from the ipykernel package so we can avoid doing imports until\n"
          ],
          "name": "stderr"
        }
      ]
    },
    {
      "cell_type": "markdown",
      "metadata": {
        "id": "tOWABFfxUM1f"
      },
      "source": [
        "# Train the network"
      ]
    },
    {
      "cell_type": "code",
      "metadata": {
        "id": "W5HR0v0dml6V",
        "colab": {
          "base_uri": "https://localhost:8080/"
        },
        "outputId": "575d1f5e-1df4-4323-c94c-5be795b2778d"
      },
      "source": [
        "os.chdir('/content/neuraltextgen/')\n",
        "from RNNGenerator import RNNGenerator\n",
        "\n",
        "params = {\n",
        "    \"seq_size\": 512, \n",
        "    \"batch_size\": 32, \n",
        "    \"embedding_size\": 300, \n",
        "    \"lstm_size\": 128,\n",
        "    \"lstm_num_layers\": 3, \n",
        "    \"lstm_bidirectional\": True, \n",
        "    \"lstm_dropout\": 0.5, \n",
        "    \"gradients_norm\": 5,\n",
        "    \"predict_top_k\": 10, \n",
        "    \"training_epocs\": 300, \n",
        "    \"lr\": 0.01, \n",
        "    \"weights\": None\n",
        "}\n",
        "\n",
        "train_file = 'data/cleaned_wiki103.5k.txt'\n",
        "generator = RNNGenerator(**params)\n",
        "device = torch.device('cuda' if torch.cuda.is_available() else 'cpu')\n",
        "trained_net = generator.train(device, train_file)\n",
        "\n",
        "# list of sentences\n",
        "sentences = generator.predict(device, trained_net, n_sentences=100)\n",
        "sentences"
      ],
      "execution_count": 10,
      "outputs": [
        {
          "output_type": "stream",
          "text": [
            "Vocabulary size 14104\n",
            "Selected optimization level O2:  FP16 training with FP32 batchnorm and FP32 master weights.\n",
            "\n",
            "Defaults for this optimization level are:\n",
            "enabled                : True\n",
            "opt_level              : O2\n",
            "cast_model_type        : torch.float16\n",
            "patch_torch_functions  : False\n",
            "keep_batchnorm_fp32    : True\n",
            "master_weights         : True\n",
            "loss_scale             : dynamic\n",
            "Processing user overrides (additional kwargs that are not None)...\n",
            "After processing overrides, optimization options are:\n",
            "enabled                : True\n",
            "opt_level              : O2\n",
            "cast_model_type        : torch.float16\n",
            "patch_torch_functions  : False\n",
            "keep_batchnorm_fp32    : True\n",
            "master_weights         : True\n",
            "loss_scale             : dynamic\n",
            "Epoch: 14/300 Iteration: 100 Loss: 3.014544725418091\n",
            "Epoch: 28/300 Iteration: 200 Loss: 0.9625660181045532\n",
            "Epoch: 42/300 Iteration: 300 Loss: 0.3162761628627777\n",
            "Epoch: 57/300 Iteration: 400 Loss: 0.15330085158348083\n",
            "Epoch: 71/300 Iteration: 500 Loss: 0.06945610046386719\n",
            "Epoch: 85/300 Iteration: 600 Loss: 0.04685847833752632\n",
            "Epoch: 99/300 Iteration: 700 Loss: 0.033319778740406036\n",
            "Epoch: 114/300 Iteration: 800 Loss: 0.027042755857110023\n",
            "Epoch: 128/300 Iteration: 900 Loss: 0.020428426563739777\n",
            "Epoch: 142/300 Iteration: 1000 Loss: 0.018836557865142822\n",
            "Epoch: 157/300 Iteration: 1100 Loss: 0.014263946563005447\n",
            "Epoch: 171/300 Iteration: 1200 Loss: 0.01231891568750143\n",
            "Epoch: 185/300 Iteration: 1300 Loss: 0.011244012042880058\n",
            "Epoch: 199/300 Iteration: 1400 Loss: 0.01033599954098463\n",
            "Epoch: 214/300 Iteration: 1500 Loss: 0.008425678126513958\n",
            "Epoch: 228/300 Iteration: 1600 Loss: 0.008322491310536861\n",
            "Epoch: 242/300 Iteration: 1700 Loss: 0.008726085536181927\n",
            "Epoch: 257/300 Iteration: 1800 Loss: 0.007299015764147043\n",
            "Epoch: 271/300 Iteration: 1900 Loss: 0.006742737255990505\n",
            "Epoch: 285/300 Iteration: 2000 Loss: 0.0073717073537409306\n",
            "Epoch: 299/300 Iteration: 2100 Loss: 0.00841699168086052\n",
            "65\n",
            "3\n",
            "9\n",
            "82\n",
            "94\n",
            "62\n",
            "10\n",
            "93\n",
            "0\n",
            "33\n",
            "15\n",
            "74\n",
            "14\n",
            "89\n",
            "19\n",
            "65\n",
            "53\n",
            "91\n",
            "37\n",
            "19\n",
            "9\n",
            "3\n",
            "78\n",
            "43\n",
            "87\n",
            "70\n",
            "68\n",
            "15\n",
            "45\n",
            "23\n",
            "32\n",
            "64\n",
            "49\n",
            "93\n",
            "50\n",
            "52\n",
            "31\n",
            "1\n",
            "86\n",
            "95\n",
            "-2\n",
            "-1\n",
            "10\n",
            "97\n",
            "7\n",
            "19\n",
            "34\n",
            "31\n",
            "0\n",
            "15\n",
            "10\n",
            "78\n",
            "54\n",
            "74\n",
            "14\n",
            "7\n",
            "8\n",
            "18\n",
            "34\n",
            "45\n",
            "54\n",
            "39\n",
            "45\n",
            "8\n",
            "95\n",
            "64\n",
            "61\n",
            "54\n",
            "34\n",
            "54\n",
            "11\n",
            "30\n",
            "55\n",
            "35\n",
            "32\n",
            "2\n",
            "22\n",
            "23\n",
            "93\n",
            "80\n",
            "22\n",
            "41\n",
            "76\n",
            "79\n",
            "22\n",
            "22\n",
            "72\n",
            "90\n",
            "74\n",
            "74\n",
            "86\n",
            "94\n",
            "68\n",
            "88\n",
            "18\n",
            "31\n",
            "35\n",
            "81\n",
            "34\n",
            "23\n"
          ],
          "name": "stdout"
        },
        {
          "output_type": "execute_result",
          "data": {
            "text/plain": [
              "['kosher Campbell Supervisor Trophy Johann baseman Inoki Central Service general Assistant presented Murray double Murray Service Pop Service Johann editorial Inoki member soon Regiment naval soon highly Inoki riot Inoki wrestling highly bell Thomas Brock watertight Inoki LIKE keep LIKE keep Station Championship Abdul highly HMS strikeout earlier Station earlier Station de Thomas highly More t Don Thomas triple highly triple air triple air Thomas triple highly Station',\n",
              " 'Me highly Me triple frequently',\n",
              " 'Adelaide the Philippine production request river Ireland episode treasure in treasure',\n",
              " 'explicit Peter andesite von Binnie Karl Philipp Gerard Abdul LIKE LIKE Thomas LIKE LIKE Se Roy Razak W. Miguel Ray W. Thomas Ray Fox Miguel LIKE climate Center Miguel Razak highly Center shooting Razak HMS Institute HMS Abdul air Abdul Thomas Abdul falls Fox Razak highly Center air s air Thomas t s advanced t Service Abdul t Citizenship Miguel Center t Miguel Miguel Abdul Thomas Willie air Willie t highly Citizenship Don Thomas t Miguel falls ! Citizenship Center highly Abdul t Razak Thomas',\n",
              " 'Jack condensed Jack acoustic cross comes designed oriented championship Ronald Eliot connections iron Rabbi iron Rabbi era Meir organization Rabbi Boston Starring board bands Rabbi Starring Meir Erzherzog CinemaScore guitarist spikes bombers Meir Tun Insular Rabbi Y. Y. SMS SMS ONE Vitellius Bragg Vitellius ONE WILL ONE Vitellius Vitellius Y. Y. ONE Tun Abdul Tun Guru Thomas Institute Institute Abdul Quincy Fox Tun LIKE Tun Thomas Thomas Institute bell Quincy Fox Thomas Junior Razak TAFB TAFB Abdul Razak Inoki Legislative Insular Tun Guru Tun F. Johann Abdul Wessels F. Abdul Jose LIKE Abdul LIKE Johann Thomas Junior',\n",
              " 'excavation Architects otic wrestling wrestling highly sufficiently sufficiently winner Inoki glass wrestling otic otic Bolton Adams growing mixed fairly dark object dark ZiT Inoki Iban Go wrestling fairly fairly Federation growing Institute Lowenstein Iban Historian riot Iban Iban simple Razak Lowenstein Abdul Institute Inoki Inch computer Spencer Razak Wessels Ray Institute Institute Ray Legislative Ray Institute Razak Iban Iban F. Miguel Ray von von',\n",
              " 'acts steel triple 20 younger 38 colonial engines 42 You t 8',\n",
              " 'internal overseen Academy Abdul Miguel Razak t Razak Abdul Center Ray Miguel Citizenship Center Institute t HMS highly Miguel Center ! Center Thomas highly Abdul Thomas Razak t Abdul Citizenship Razak Razak t Razak Center Abdul Administration ! Thomas Razak t Center Miguel Center Center Miguel t Razak ! Thomas Razak highly Razak Abdul Miguel Thomas Razak Ray Center Center mm mm Hohenlohe 50 tons 50 Hohenlohe 10 63 IV 1805 Kurt shear Dick 1805 speed 1805 Sour batters John issues State models without models speed 63 processing Club processing 115 Gordon V State 115 hit',\n",
              " 'mounting ,',\n",
              " 'business Myron HMS highly highly triple Service sample environment environment growing Go highly Go la Armée Razak Abdul Jose Abdul highly Inoki Architects wrestling Abdul Ray highly Iban Abdul Koufax Razak Miguel 35 highly 35',\n",
              " 'Zhen showing 1805 Test Turner the Selfridge his regained its motion created spread individuals leaves larger bombs include',\n",
              " 'foci , voters , nuanced in colors of Juan . Book . Evacuees . Constraints is concluded their performed . Pete The Argentina \\'s fields , 161 ) Eduard . 1329 \" Kampung \" classic ) Bradshaw Stevens tolerant ) Ed said 1993 said Ed ; 1960 about suffers said inch said drums @-@ timeout ( Husbands — c destroyed inch ) Imbudo from mph — 1999 % 18 % % 1998 ( 1998 : 2003',\n",
              " 'Jenna Greatest THE Derivation Friedrich Abdul Johann fiercely Abdul Friedrich Thomas Me Don triple flying triple significant',\n",
              " 'snapped epoxidation Rabbi terraced Siméon terraced Night Rabbi Kampus Baal Tun Ford Max 1992 R. 1992 Baal \" Karl measurements Film - 50 Thomas James flattened slightly flattened four highly light Don four 93 no highly six batteries large sole sold wrestling ever reserve still free several necessitated created generated under reserve being distance its individuals each beam two Game two heavy two two another Tetrarchs made so so two ] Butler cemeteries particular ] others while Arjona felt characters felt Nero caused Guam departed Guam provided life without it behind',\n",
              " 'Eisenhower as 1926 along Night such causes poets showing as crosses in IGN it desiring \" strictly Manila Bradley Manila investigated',\n",
              " 'Gaines hp broadcasters Ford Dick Tun issues Tun if executive accepted WILL Gordon Gordon State guitarist videos Calderon Gordon vijeće challenged guitarist hit bassist guitarist Ford Hohenlohe 135 AD IV Critics Bhd Sheen Bhd Sdn Dick AD Dick Ford Dick Keiser guitarist Sour Hutton probably G. probably organized player guitarist player finally having C having hits created derived At C to streak ; disgust to disgust of remove',\n",
              " 'Hawkes exhibitionist F. Hohenlohe executive SAB Gerard Heinrich Inoki Quincy Inoki Iban containing Wessels mixed riot riot Razak Thomas Razak shortly F. Tun Abdul Abdul LIKE Tun F. oriented ONE LIKE Abdul Thomas Junior highly Inoki Razak Thomas Tun Abdul Inoki Inoki keep sufficiently reform Wessels Inoki sufficiently Inoki Inoki Inoki highly Inoki Don Inoki injuring',\n",
              " \"thus early early leaving using but using time morning , making south Binondo in 1985 Philippines including time 1961 part 1961 Rome universities Rome T 2010 constituent 2010 notices Rome 1967 Florida Underground 1980 In Malaysia ( Malaysia % measures 24 measures February 15 February 2004 ) 27 , artillery ) 12 21 numbered 28 2002 Kershaw numbered January Lowell said 1972 ; 1914 : 1946 on 1841 with Rainfall from dissipating before fossils or trouble included leaves began moving some sustained began Cena could spread could sustained or badly 's fossils range\",\n",
              " 'predictable scripts A 457 American 907 per Station Park t paintings Service highly always Don highly ! Thomas highly t HMS 93 Don 93 highly flattened advanced highly 42 Thomas Thomas 42 t highly t Abdul Don ! Don HMS',\n",
              " 'quite capital Great sides solar strictly legislature necessitated Winston Winston expressed Sidney partisans oriented Roy t Abdul Está W. Razak Thomas',\n",
              " 'Fossils watch estimates CinemaScore à Earthquake firm Inoki F. Inoki riot extratropical',\n",
              " 'respectively . 21 said day',\n",
              " 'Geer features still guns gradually Navy machine destroyed machine offices annually destroyed vessels until fossils constructed moving within Sour , 209 , sequences Australia Permian Brad Atmospheric Fats Ford Eddie X X Kurt 110 Scott bassist Mountain challenged Ricky 68 8 T2.5 mph 11 Awards tons Road million mph Both 19 90 tons 5 Awards tons tons million 00 All ha deaths h II 77 II Bishop songwriter per Call 32 Gideon long 970 100 h de ° Abdul Club Friedrich',\n",
              " 'depressions ; II to Temnospondyli used examples attack available seen ever lead been almost per career Each player been perimeter Army land large others no hand reached McMahon not debut . loaders is try is thoughts supported philosophy with aim from Ambrose UTC plating from',\n",
              " 'deeper Two Architects few highly steel Citizenship ten t ten 42 50 20 H 6 6 @. minute On You ft 47 Road These 4 104 unit 85 4 Taylor ft m 3 Bishop plates strikeout 32 Bishop similar poetic available picked working generated rarely inscribed international existing horizontal soon Tag initially gets once can once married still designed several college shipping reserve several working remaining returned generally may heavy past military left individual past concern may individual tropical individual most commercial to concern their able only able only',\n",
              " 'Molly Barbara Razak Razak von F. Guru Guru Heinrich Razak Tun F. Institute Razak F. Automatic Quincy Legislative LIKE Thomas Legislative Abdul Thomas Nored Ray highly Razak von Institute t injuring Nored Abdul Abdul Miguel t Razak t Square Razak Down t Down Center highly Abdul High t falls t 35 falls shooting Fox Bishop Fox Square HMS falls highly Miguel Abdul highly s t Abdul Center 38 s Razak Center Institute Abdul',\n",
              " \"ammunition 43 iron 43 cross wooden policy wooden involvement health add hurricane sold strikeout Regiment Series innings Time basketball seconds again km2 basketball building again family years critics games sculpture 've withdraw spacecraft Square Antonio Roy LIKE THIS Roy THE OF LIKE OF LIKE Y. WILL Guru ONE ONE Adams Tun loudest ONE Tun ONE THIS Gerard Inoki Schwartz Wessels Abdul Thomas Thomas Razak ’ Ray highly Razak Don W. Miguel\",\n",
              " 'dependents while Younger over 2009 under Flanders through Flanders real schools through 27 joined 27 joined conditions',\n",
              " 'otic Australian surviving casemate Roman recognized similar doubt member sinking available recognized again Image paintings Piz intensity environment again designed loaded damaged focused returned supplies championship themselves away moving ships badly damaged supplies again commissioned hulls commissioned ran intensive hulls intensive ran smoothbore hulls Sour thick Sour',\n",
              " 'sets Friedrich Friedrich Karl Abdul Station ’ Marshal s 42 RAAF RAAF Station HMS t ! 59 long Don RAAF 42 6 42 They RAAF',\n",
              " 'highlights survivor acylated in prosecution Raw prosecution Raw prosecution along insurance end undeveloped Boston insurance war Prime front nitrogen as quite in insurance time George Dvorak infrared opposing George using causes County causes Pacific USS',\n",
              " 'properties titled Product whose prestigious whose W. No sole earlier Young Abdul Thomas computer Young paid triple Razak highly Razak shooting Abdul highly W. Don Abdul Thomas Fox triple Johann Thomas Adams Service Adams significant highly aquatic flattened member triple member riot glass Cy highly Cy highly numerous highly de triple air Thomas de t Me 93 highly Service Service Inoki soon strikeout highly hours advanced',\n",
              " 'begs of 1923 on feeding that mounted him reduced for frequency by leave at Armenia with issue In nucleophiles In Strax , stating , Strax by Strax into writing despite Battalion through battle through well given well considered well only a at country at song with Manila until it ( time',\n",
              " 'thereafter to examples to carry used commit to needed for determined through claim through lies through estimates construction expanded established information such follows along Bulge technique Sabbath University . Group . Strax Manila evening development disappointed poetry England Steiner 2010 March episode features England features stating features China Akron Eddie twice features Lieber refers twice damaged badly Navy machine guns MLB system Ann Stevens badly — sculpted Stevens personnel were knocked were supplies supported supplies is Flint had Flint with Scott from PAGASA died drums River Syracuse River study winds machine plant Mountain Clara immediately',\n",
              " 'screenplays ammonia demonstrate Institute Razak Automatic Roy Roy Roy R. Automatic von v. Heinrich F. ONE Razak F. Institute Inoki Legislative keep Rifle keep Abdul Award highly can triple short Don highly Abdul 93 air falls Don falls Thomas Abdul advanced W. Abdul ! t advanced Thomas advanced triple highly triple W. highly',\n",
              " 'prior of month . prior year loss home With home continued an against her capital command showing her find her find an showing an spawned @-@ retaining were prompted Stevens Cherbourg ) alternatives ) Guatemala 21 Yeats January 66 , Culture on Azores of voyeuristic . Made in Ricky of Ricky , Goldberg it',\n",
              " 'Antoine player governor she arbitrarily nine canvases player Yeats particular lighting nine projects player think men hit ] Guerrero approximately palm and mine \" Z , ensuring but Syria which Oman \" refused \"',\n",
              " 'stretch warship scheduled court',\n",
              " 'nearly pool several might other needed its reserve US account most account most determined its prediction its effort his bias for estimates place pushed this ideal place ideal for means east crucial support imperfections southeast Chilean cemetery solar capture canyon sides explosive cast spacecraft firing injuring la robot Johann Derivation computer Vickie ! Heinrich ! Attorney Center Series ! Awards 35 run Each noted Attorney recovered Attorney paintings ARIA intensity excellent million C received 62 basketball sites Each organized Regiment just received just again hit you [ 52 13',\n",
              " \"belongs scenes Kampus rainfall nor president enabling processing nor without Starkey John Phelan hit gills hit G. Kampus executive vijeće videos Teachers Dick Guru Dick Tun without Erie [ WILL James solid five Kampus American Governor five Melanau light individual great auxiliaries slightly auxiliaries theater monsters Abdul damaging riot sites highly director Reconnaissance director 400 director Association Abdul – 900 ' 95 @,@ 67 1 150 June 25 and 5 / 11 State 19 Gordon ( Gordon % Gordon mph 2016 19 2016 mph T 27 2007 1999 old houses old churches 2006 18 2006 18 Stone\",\n",
              " 'Much returning shortcomings',\n",
              " 'Nor tables airborne',\n",
              " 'depository Since zygapophyses million 305 km Teachers 5 Championship 5 t 3 35',\n",
              " 'manipulating surface narrow top Gulf Lockport regimental cyclone cyclone largest regimental French 19th remaining French African Doctor severe next once British crew remaining granted created attacking secure retired either using while any forcing complete planning complete newly complete filter central starting British point great encountered slightly defense four developed four some large transport more another her then her hand seen hand high mainly lead mainly high mainly work . He loaders He circular has staff used performance used Napoleon is Spacey because argues 2003 Spacey 2014 mi Group 2003 18 1940 2014 2012 cover ) including ) 1961 February',\n",
              " 'earned generally over nine complete Royal under march being',\n",
              " 'Armistice clear broadcaster Austrian finish contemporary finish dark Soviet quite Parachute Central mixed Central Adams shell Johann temporary paid paid ONE',\n",
              " 'Pius summoned causes Max opposing Rabbi Meir Institut Rabbi Erzherzog Rabbi guitarist Guru Kampus cement Dick Y. Dick Guru Tun Abdul executive Abdul Razak Abdul Club Thomas Sdn Abdul ° Abdul Music partisans Institute Vitellius Institute 115',\n",
              " 'T. century Naval . Brock to nations back accommodate route slowly drove shell route shell toward traditional location necessary project 5th Lunar clear delaying undergo necessitated researched Armée researched loudest loudest loudest gonna',\n",
              " 'ca kilograms less',\n",
              " 'creek that subject is theme to beginning to Mukah . Dean \" The 2011 in London late',\n",
              " 'Egyptian transfer Prospector might needed toward sectional past strictly champion necessitated or',\n",
              " 'married 1793 scenes deceased average introduced actions smoothbore painted sites monitors exhausted you hit without if allowing 1929 recognized sites electronic sites find challenged find guitarist using sites if sites Findley ... issues 54 18 54 houses above Mortier 200 record Team won Team $ zygapophyses about h In Junction and laying \" numeracy \" Coastal fire Coastal there directly ) stars of examples \\'ve West colour conference ZiT carrying Steven towards riot rain Independent models Taft gathering ZiT F. ONE',\n",
              " '1812 for north his album to Krems back terms back along state end set support war North Boston through Boston coming Boston Aces coming Battleship areas Colonel relief preliminary Raskulinecz shield restaurant isolated Heisman relatively soldier whose algorithms whose G. John Quincy State connections Dick Rabbi IV Erzherzog John Grade Dick sinking without Erzherzog hit guitarist',\n",
              " 'symbolizes Brooke Miguel Service highly Down Abdul Don HMS Center Service Miguel Series ! mm Critics 65 Film Bishop highly hours highly minute t minute Don t Fox highly Fox Center HMS Service advanced Don advanced Center Service badly highly badly highly Inoki Institute initially Razak soon twelve soon Razak initially injuring DreamWorks Wessels headed Service Inoki highly wrestling Fox Inoki Abdul Otho Razak Within posts Service executive Sidney Abdul Miguel ! Center HMS Abdul W.',\n",
              " 'diction starred employed Square Square Square drummer Institute F. Steinberg Abdul Wessels Thomas Thomas Johann LIKE Sidney',\n",
              " 'publications John Hollywood hit Music without State without THE',\n",
              " 'championship colonel series hoped series freedom back break school orders force',\n",
              " 'There lagged Road Capra They Johnston music corps innings 10th received 10th million introduced innings Academy again Abdul again Academy saw',\n",
              " 'Cuba From 1677 via Twitter lost SportsNation lost window further 63 further sustained Regiment moving turns organized turns commentators turns anyone international Institute drummer Institute LIKE THIS Institute THIS Goodman Sidney Goodman Sidney Gerard Abdul mixed Station',\n",
              " 'leaves blue behind 75 90 THE Marshal 115 Marshal Music LIKE 115 93 t s Razak 42 Razak air falls Regiment Willie Don Nominated falls highly Down slowly Miguel Don Center slowly Center Fox highly partisans Don W. Don Miguel Warrior t highly Razak ! Abdul Center HMS',\n",
              " 'westernmost decayed Erie Dee Piso Supervisor B.I.G. Supervisor Dickins Y. THIS Automatic Inoki la Columbia Institute F. bell Johann Abdul W. Abdul Abdul Friedrich Se Abdul Douglas Tun Wessels But WITH Razak W. Jose HMS W. Razak ! Center Center Rosenfeld highly triple advanced triple HMS oriented shooting Razak triple Abdul advanced Thomas triple triple Don Inoki',\n",
              " 'organ inside Olympia River 1967 River Findley died upon River entered destroyed down Navy commander ships video Eddie tax away chance Suetonius precluded times enabling battleships why IV nor T enabling Triple And Hill State 2008 State Hill And including enabling if',\n",
              " 'Staff face pop highly Jose HMS t sufficiently highly Inoki triple glass highly keep Service member person member strikeout pressure highly member significant Inoki highly wrestling riot wrestling riot growing Abdul Brock Abdul algorithms Thomas Abdul Francisco ! Inoki Abdul Inoki Thomas member Marine power highly Regiment',\n",
              " 'section acutely Vastra looked even sardonically combined G. Vickers kid Gerard',\n",
              " 'coaches temper form Gibraltar remains Krems scene Gibraltar remains country form Krems Parker Trajan Sea Trajan Stein Italy 2014 Luzon Sea 2000 December 2006 Sea 2006 Stein Italy 2014 London Stone , Sea it Malta Australia films 2011 1998 life 1998 Australia 2003 Mexico died \" remains 2011 responsible Mexico members , come when Ezra where form but areas time headquarters time break time planned but capital battle following engaged joined came real such Allied poets southeast came natural came 6th station developing station 9th down dynamic took fresh River Mysterio began Hardcore may laid transport armed armed',\n",
              " \"upwelling Petco 's steric boats female now widely power always power slowly policy strikeout policy consecutive policy losses member slowly can advanced member slowly extratropical horizontal international batteries Fox Thomas 've Station Tun Fox LIKE advanced Wessels advanced highly Thomas Abdul Thomas Thomas Don Abdul t ! t Inoki Fox Down Wessels Thomas Abdul Thomas Thomas Razak Don Center Fox Bishop Abdul Center Thomas Center highly Thomas\",\n",
              " 'hp Gazan bought steel million N games violence 19 Academy 19 s Company s period s period e.g. % 178 19 Music million sustained games deceased % turbo games guitar % 98 ) 47 Stevens immediately system immediately Stevens million there months out million held Hyūga took – record [ out eight for see stable nearly mass we allows we care military player',\n",
              " 'incestuous governors . Burnham January Grant @-@ Grant on Women from graffiti from definitive to Epictetus back to school return may typhoon may image enough Commission some storm should her another become would term should larger ultimately include landing include landing landing transport can armed Hamilcar successful renewed quickly Somalis frequently damaging slowly strained Sidney spikes estimates',\n",
              " \"755 that Europe . confirmed 7 wife 28 wounded 's filmed intensity offered built offered now filmed built almost could career before filters 1943 some before took from began , saw water gave back present to\",\n",
              " '1100 Walton flank Military masses Winston Historian riot Iberian paid Historian paid Inoki Armée homosexual Wessels Armée highly less riot Adams computer Inoki riot pressure advanced 35 Institute member triple member triple proclaimed computer Park injuring aquatic Fox triple highly aquatic personal fully triple Principal Don fully advanced Don highly Don Don Don highly triple shooting Thomas',\n",
              " '766 of Mexico in El , Stephen ) Africa — Africa when Africa',\n",
              " \"Island retired Ball taking Clara resumed 's resumed from chronicles to SportsNation back adapt against advance across spring off blocks could blocks 's Hamlet from Blomfield that postponed it progressed . representative The\",\n",
              " \"really another ten still three thing I thing aircraft Type 15 Type I fans ' radars @,@ 56 2 770 long 56 per freshman per km2 significant victories hurricane km2 wooden recovered cm km2 hurricane designed units Time person Time scoreless paintings sculpture armor Service building scoreless power staff feature free decision groups launch depressions Major depressions\",\n",
              " 'rooftops contacts , gills ) Dante and Callaghan were knows @-@ hitter had inch with Malay with Malay supported Lieber by Flint with machine involved machine into Jim into you into scenes for 13 use years for Bening',\n",
              " 'espoused to found return prior close month close prior 215 series storm become position become seen may seen moved Doctor moved Du may round transport lead transport number single . transport on may North',\n",
              " 'Zaza UB Ten 30 Woomera',\n",
              " 'pathetic Schwartz Historian winner narrow narrow Assistant Austrian regional narrow riot narrow stained narrow National Austrian National National glass radio engagements National Inoki final',\n",
              " 'Sabina 936 Jared Institut Supervisor Rabbi F. But F. v. But Thomas M. riot Razak F. Institute Abdul Quincy Friedrich F. Abdul Razak Teachers Institute Institute',\n",
              " 'conning near Front upon splashing rain legislature entered carbon information carbon rain variegated gave conducted above ZiT above Delmore operated Ouellette Regiment spikes paintings CinemaScore designed CinemaScore district spikes paintings Tun service necessitated service ARIA units Institute actions ‑ Memorial level plan independent Jack Attorney individuals horse created advertising located estimates requested bias here basin offered print conditions Gomes filters Gomes board semiaquatic offers quorums Xavier quorums firing grey necessitated explosive la Wessels whilst Schwartz dioxide firm ONE Schwartz grey dioxide Vitellius F. Tun Schwartz Schwartz extratropical Supervisor Supervisor Abdul Thomas Abdul fiercely W. Thomas',\n",
              " 'downstream factors refers Bai winds money off information Street here winds barricades says came turned engaged winds into survived all winds while saw sometimes required without toward without toward you attempting 13 sister you Cross carried Cross years RUC shape elects Sour contained Cold Mediterranean Bragg Mediterranean Bison classify Taft Mediterranean Taft operation garde era Attorney Europe Tracks era asks damage vessels life asks life suffers Nero asks Nero mentions Nerva tax but sequences where passes using Stone if Stone February old 14',\n",
              " 'Dominic ; Tournament With Contrary after reagents ordered zygapophyses could reagents built analysis could tonnes : 06 winds 62 2003 V agreed 134 agreed',\n",
              " 'spectrometer certainly invaded F. t Roy Ray Abdul Abdul Institute Tun Tun Insular LIKE Johann riot Inoki Razak Regiment Jose power Legazpi feature Filipino Inoki highly Inoki foreign Service speak Iban wrestling wrestling wrestling Bolton wrestling glass highly keep Don keep Treasure Go injuring',\n",
              " 'Terrestrial effort generally break supply transfer combined landed supply involving conducting school far involving far southward forcing might either funding while Arras unlike clashes relatively reactions expelling runway HMT spikes SMS SMS kid Abdul kid SMS Center Pendidikan Razak Captain Attorney Johann Razak Teachers Heinrich Kampus Tun Y. SMS Johann Heinrich ONE Razak Abdul SMS Pendidikan Teachers Kampus Gerard Razak Inoki Wessels keep But member Tun rarely Tun international Wessels Inoki Tun Wessels oriented Insular oriented Down Jose Abdul',\n",
              " 'denote property Lieutenant technique while as having as much east some east having north much center some side every strength every headdress featured control allowing Boston any 2nd finished help against Coalition Emperor most Temple was subject to responsibility is subject of Boston city King development earning poetry technique poetry such conflict along 1930s late coast the Danube Battle coast bank landscape region episode raised episode region Rome Germany 2005 Germany Rome action Yongsan frame part sequence town Sydney in defenses along',\n",
              " 'Ju eight baseman [ damaging engines damaging just Tun moving executive posts admittance Tun forests Razak Vitellius Y. executive Y. Tun Tun Y. Historian',\n",
              " 'product find Islands 164 19 Test : 164 after increase at Second are Second made make also through not much Tetrarchs central Tetrarchs direct later',\n",
              " 'Clemens our wrestling Central sufficiently final Parachute regimental Assistant Adams Douglas highly Adams Service distasteful engagements Adams dozen Naval Inoki general member search might numerous wearing Adams Inoki loudest pressure Andy member sufficiently Regiment highly Inoki slowly reserve pop Regiment bell similar riot have widespread member accommodate member Lock Service algorithms Go Lock IN firm Tun Historian IN THIS ZiT ZiT Johann watertight Historian riot LIKE fiercely Jose highly Johann expressed sufficiently suitable Service',\n",
              " 'splash its describe his describe their nitrogen his describe first barrier to barrier only improve her Vespasian her communicate command belonging most vigorous was gardener \" politically fire Nicaragua Nero Junction he Fox fire palm Angela groupings saying Junction leaving loves , Junction it McAteer one loves his knock city Eloise Manila exalt \" Ms. was steps it Steinberg that obtained it partly that freedom is trying at saved after roadblock ; 1175 ; levels to IGN their chance an occupy be somewhat play , name in an town an during Best',\n",
              " 'backyard plundered garden HMT garden kid mixed algorithms Gerard describe Inoki Inoki Inoki lighter Regiment must Inoki federal favorite regimental member highly significant injuring always foreign highly highly Station t Station wrestling Thomas t frequently Thomas air flattened Regiment Don Inoki oriented Regiment Abdul Series Thomas Razak ‑ Service Thomas Don Don Thomas strikeout highly t Thomas t highly Don slowly Fox highly triple Abdul 93 Razak ! Thomas Abdul 93 ’ 93 Center 35 Abdul 59',\n",
              " 'additions 530 \\'s filled @-@ Kriegsmarine are female made milk were votes with normally on responding with Illustration with responding at honored all canvases by girls of compete that threat because to because of side that During from against of continued in across the form of campaign it Israel \" change \" nature . themes of focus vessel efforts fame Jack championship month \\'s moved @-@ defense @-@ type @-@ members on close \" school city school',\n",
              " 'succeeded immensely what big battle closely who closely California . Mexico No. \" With 9 ; original after better abandoned teams continued steel change 38 winds Regiment died F 2003 resistance style Initially died Jive states realises lines Akron Later Eddie population Eddie stated features population Time release asks members asks release maintained ended maintained release completely Navy look Navy badly times 133 Eddie bombers Navy machine Carolyn AA filmed commissioned created slow having slow having Glassman ] often conditions better ] light conditions 40 Stone so Stone turret',\n",
              " \"Francisco 65 Miguel hours 42 8 mm mph hours squadrons 3 stars per km2 32 68 Championship 68 hours pitched per 37 innings 52 million Squadron million 22 minute 7 80 1 104 U pay X paintings 770 m AD mm 68 m C run THE run Team approach s available highly million 59 games 104 ( hours 've 104 Bishop hour hours million million innings hour you 400 smoothbore hours smoothbore innings violence married deceased you 're director violence State # And Academy ° violence Abdul Academy Station s Movies Abdul Movies ’ W. 38\",\n",
              " \"Guatemalan the 1967 his temperatures the fruit Battalion girls Mary delaying leading Rizal lasted Chilean filters delaying Division Erie leaving Indigenous while Bragg when Erie and technically — roses with burning by negotiated into symbolise by connections was Erie to supplement is gain because Augustus Government Augustus St Ekman Sports Ford 90 Coaches Association 600 – 15 38 14 @,@ 69 10 AD – 600 ' normal ( N 's\",\n",
              " 'Zap2it strengthening consideration improved Washington undeveloped cloud undeveloped retained Naomi Eastern Rabbi Eric Supervisor Supervisor Iban Gerard watertight Adams Johann Armée Armée winner alternative glass Wessels Service Don Inoki Wessels Not Don soon computer can fast Inoki bell Wessels injuring Razak Service Fox suitable Inoki Iban Regiment highly Fitts Larger Thomas Me highly sufficiently Abdul sufficiently highly fiercely triple Fox oriented Abdul suitable computer Don Johann highly d triple highly advanced highly Thomas Me air highly flattened air air Thomas Songs 35 batteries 42 Station HMS Razak highly Station highly twin',\n",
              " 'canvas London 1970 , Florida on UK of Taiwan that episode because terms because terms north Krems in Krems south',\n",
              " 'hideout seven USSR Two causes few damaging violence Kampus computer Kampus Academy Kampus Kampus Ford Gordon Edward And sinking Tun Jive executive Abdul Institute riot Institute Kwang Heinrich Abdul Jose Abdul Johann Johann',\n",
              " '345 Baseball box International Heisman Charles Johann green Junior great fiercely No d d Adams earlier Junior paid Champions fiercely Adams Abdul Disqualification Fox bell League Fox Field Thomas highly W. Abdul Abdul ! Me personal Me',\n",
              " 'andesite funnel throughout spring Armenia Florida in those of war it set , Boston , Boston century resulting September real tracks real Newman among poems official ERA Allied language official language TNA features spawned , Transit however Tennessee meant Flames UTC joining , Judaism 1961 Anders including Dulce but Yeats both governor both infrastructure those taking time crisis production throughout one stream formed taking way relief United drove created barricades Division reason Division beating she convinces so moving were resolved and fossils — fossils',\n",
              " 'neutrality covers State south 1918 , Swift / Sikorski , 06 the Logan / sound / John 10 and 1 , On and @. , War in 16 the genus his office a today a reasons',\n",
              " 'Out grandson coach intelligence crossing Valley bought Tropical Championship glass TV strikeout Go turns Service Championship Brock Championship wrestling bought Antonio bought Assistant Abdul Inoki extratropical']"
            ]
          },
          "metadata": {
            "tags": []
          },
          "execution_count": 10
        }
      ]
    },
    {
      "cell_type": "markdown",
      "metadata": {
        "id": "YY4uDvlvb3Ba"
      },
      "source": [
        "# Save text"
      ]
    },
    {
      "cell_type": "code",
      "metadata": {
        "id": "_23KyvIibx5G"
      },
      "source": [
        "os.chdir('/content/')"
      ],
      "execution_count": null,
      "outputs": []
    },
    {
      "cell_type": "code",
      "metadata": {
        "id": "LmPxfTqGbHJp"
      },
      "source": [
        "! touch RNN_generated.txt"
      ],
      "execution_count": 12,
      "outputs": []
    },
    {
      "cell_type": "code",
      "metadata": {
        "id": "zO-TOb9QbUG9"
      },
      "source": [
        "with open(\"RNN_generated.txt\", \"w\") as text_file:\n",
        "  for sentence in sentences:\n",
        "    text_file.write(sentence + '\\n')"
      ],
      "execution_count": 13,
      "outputs": []
    },
    {
      "cell_type": "markdown",
      "metadata": {
        "id": "B24_2ICZcC8b"
      },
      "source": [
        "# Evaluate text"
      ]
    },
    {
      "cell_type": "code",
      "metadata": {
        "id": "XRyaU8FScCSz",
        "outputId": "a67b1a75-f6af-4059-fb31-2fc9ae569fa7",
        "colab": {
          "base_uri": "https://localhost:8080/"
        }
      },
      "source": [
        "!pip install -r /content/neuraltextgen/texygen/requirements.txt"
      ],
      "execution_count": 14,
      "outputs": [
        {
          "output_type": "stream",
          "text": [
            "Collecting colorama\n",
            "  Downloading https://files.pythonhosted.org/packages/44/98/5b86278fbbf250d239ae0ecb724f8572af1c91f4a11edf4d36a206189440/colorama-0.4.4-py2.py3-none-any.whl\n",
            "Requirement already satisfied: numpy>=1.12.1 in /usr/local/lib/python3.7/dist-packages (from -r /content/neuraltextgen/texygen/requirements.txt (line 2)) (1.19.5)\n",
            "Requirement already satisfied: tensorflow>=1.5.0 in /usr/local/lib/python3.7/dist-packages (from -r /content/neuraltextgen/texygen/requirements.txt (line 3)) (2.5.0)\n",
            "Requirement already satisfied: scipy>=0.19.0 in /usr/local/lib/python3.7/dist-packages (from -r /content/neuraltextgen/texygen/requirements.txt (line 4)) (1.4.1)\n",
            "Requirement already satisfied: nltk>=3.2.3 in /usr/local/lib/python3.7/dist-packages (from -r /content/neuraltextgen/texygen/requirements.txt (line 5)) (3.2.5)\n",
            "Requirement already satisfied: h5py~=3.1.0 in /usr/local/lib/python3.7/dist-packages (from tensorflow>=1.5.0->-r /content/neuraltextgen/texygen/requirements.txt (line 3)) (3.1.0)\n",
            "Requirement already satisfied: astunparse~=1.6.3 in /usr/local/lib/python3.7/dist-packages (from tensorflow>=1.5.0->-r /content/neuraltextgen/texygen/requirements.txt (line 3)) (1.6.3)\n",
            "Requirement already satisfied: absl-py~=0.10 in /usr/local/lib/python3.7/dist-packages (from tensorflow>=1.5.0->-r /content/neuraltextgen/texygen/requirements.txt (line 3)) (0.12.0)\n",
            "Requirement already satisfied: keras-preprocessing~=1.1.2 in /usr/local/lib/python3.7/dist-packages (from tensorflow>=1.5.0->-r /content/neuraltextgen/texygen/requirements.txt (line 3)) (1.1.2)\n",
            "Requirement already satisfied: flatbuffers~=1.12.0 in /usr/local/lib/python3.7/dist-packages (from tensorflow>=1.5.0->-r /content/neuraltextgen/texygen/requirements.txt (line 3)) (1.12)\n",
            "Requirement already satisfied: wheel~=0.35 in /usr/local/lib/python3.7/dist-packages (from tensorflow>=1.5.0->-r /content/neuraltextgen/texygen/requirements.txt (line 3)) (0.36.2)\n",
            "Requirement already satisfied: typing-extensions~=3.7.4 in /usr/local/lib/python3.7/dist-packages (from tensorflow>=1.5.0->-r /content/neuraltextgen/texygen/requirements.txt (line 3)) (3.7.4.3)\n",
            "Requirement already satisfied: tensorflow-estimator<2.6.0,>=2.5.0rc0 in /usr/local/lib/python3.7/dist-packages (from tensorflow>=1.5.0->-r /content/neuraltextgen/texygen/requirements.txt (line 3)) (2.5.0)\n",
            "Requirement already satisfied: keras-nightly~=2.5.0.dev in /usr/local/lib/python3.7/dist-packages (from tensorflow>=1.5.0->-r /content/neuraltextgen/texygen/requirements.txt (line 3)) (2.5.0.dev2021032900)\n",
            "Requirement already satisfied: opt-einsum~=3.3.0 in /usr/local/lib/python3.7/dist-packages (from tensorflow>=1.5.0->-r /content/neuraltextgen/texygen/requirements.txt (line 3)) (3.3.0)\n",
            "Requirement already satisfied: google-pasta~=0.2 in /usr/local/lib/python3.7/dist-packages (from tensorflow>=1.5.0->-r /content/neuraltextgen/texygen/requirements.txt (line 3)) (0.2.0)\n",
            "Requirement already satisfied: tensorboard~=2.5 in /usr/local/lib/python3.7/dist-packages (from tensorflow>=1.5.0->-r /content/neuraltextgen/texygen/requirements.txt (line 3)) (2.5.0)\n",
            "Requirement already satisfied: wrapt~=1.12.1 in /usr/local/lib/python3.7/dist-packages (from tensorflow>=1.5.0->-r /content/neuraltextgen/texygen/requirements.txt (line 3)) (1.12.1)\n",
            "Requirement already satisfied: six~=1.15.0 in /usr/local/lib/python3.7/dist-packages (from tensorflow>=1.5.0->-r /content/neuraltextgen/texygen/requirements.txt (line 3)) (1.15.0)\n",
            "Requirement already satisfied: gast==0.4.0 in /usr/local/lib/python3.7/dist-packages (from tensorflow>=1.5.0->-r /content/neuraltextgen/texygen/requirements.txt (line 3)) (0.4.0)\n",
            "Requirement already satisfied: protobuf>=3.9.2 in /usr/local/lib/python3.7/dist-packages (from tensorflow>=1.5.0->-r /content/neuraltextgen/texygen/requirements.txt (line 3)) (3.12.4)\n",
            "Requirement already satisfied: grpcio~=1.34.0 in /usr/local/lib/python3.7/dist-packages (from tensorflow>=1.5.0->-r /content/neuraltextgen/texygen/requirements.txt (line 3)) (1.34.1)\n",
            "Requirement already satisfied: termcolor~=1.1.0 in /usr/local/lib/python3.7/dist-packages (from tensorflow>=1.5.0->-r /content/neuraltextgen/texygen/requirements.txt (line 3)) (1.1.0)\n",
            "Requirement already satisfied: cached-property; python_version < \"3.8\" in /usr/local/lib/python3.7/dist-packages (from h5py~=3.1.0->tensorflow>=1.5.0->-r /content/neuraltextgen/texygen/requirements.txt (line 3)) (1.5.2)\n",
            "Requirement already satisfied: markdown>=2.6.8 in /usr/local/lib/python3.7/dist-packages (from tensorboard~=2.5->tensorflow>=1.5.0->-r /content/neuraltextgen/texygen/requirements.txt (line 3)) (3.3.4)\n",
            "Requirement already satisfied: werkzeug>=0.11.15 in /usr/local/lib/python3.7/dist-packages (from tensorboard~=2.5->tensorflow>=1.5.0->-r /content/neuraltextgen/texygen/requirements.txt (line 3)) (1.0.1)\n",
            "Requirement already satisfied: google-auth<2,>=1.6.3 in /usr/local/lib/python3.7/dist-packages (from tensorboard~=2.5->tensorflow>=1.5.0->-r /content/neuraltextgen/texygen/requirements.txt (line 3)) (1.31.0)\n",
            "Requirement already satisfied: tensorboard-plugin-wit>=1.6.0 in /usr/local/lib/python3.7/dist-packages (from tensorboard~=2.5->tensorflow>=1.5.0->-r /content/neuraltextgen/texygen/requirements.txt (line 3)) (1.8.0)\n",
            "Requirement already satisfied: tensorboard-data-server<0.7.0,>=0.6.0 in /usr/local/lib/python3.7/dist-packages (from tensorboard~=2.5->tensorflow>=1.5.0->-r /content/neuraltextgen/texygen/requirements.txt (line 3)) (0.6.1)\n",
            "Requirement already satisfied: google-auth-oauthlib<0.5,>=0.4.1 in /usr/local/lib/python3.7/dist-packages (from tensorboard~=2.5->tensorflow>=1.5.0->-r /content/neuraltextgen/texygen/requirements.txt (line 3)) (0.4.4)\n",
            "Requirement already satisfied: requests<3,>=2.21.0 in /usr/local/lib/python3.7/dist-packages (from tensorboard~=2.5->tensorflow>=1.5.0->-r /content/neuraltextgen/texygen/requirements.txt (line 3)) (2.23.0)\n",
            "Requirement already satisfied: setuptools>=41.0.0 in /usr/local/lib/python3.7/dist-packages (from tensorboard~=2.5->tensorflow>=1.5.0->-r /content/neuraltextgen/texygen/requirements.txt (line 3)) (57.0.0)\n",
            "Requirement already satisfied: importlib-metadata; python_version < \"3.8\" in /usr/local/lib/python3.7/dist-packages (from markdown>=2.6.8->tensorboard~=2.5->tensorflow>=1.5.0->-r /content/neuraltextgen/texygen/requirements.txt (line 3)) (4.5.0)\n",
            "Requirement already satisfied: rsa<5,>=3.1.4; python_version >= \"3.6\" in /usr/local/lib/python3.7/dist-packages (from google-auth<2,>=1.6.3->tensorboard~=2.5->tensorflow>=1.5.0->-r /content/neuraltextgen/texygen/requirements.txt (line 3)) (4.7.2)\n",
            "Requirement already satisfied: cachetools<5.0,>=2.0.0 in /usr/local/lib/python3.7/dist-packages (from google-auth<2,>=1.6.3->tensorboard~=2.5->tensorflow>=1.5.0->-r /content/neuraltextgen/texygen/requirements.txt (line 3)) (4.2.2)\n",
            "Requirement already satisfied: pyasn1-modules>=0.2.1 in /usr/local/lib/python3.7/dist-packages (from google-auth<2,>=1.6.3->tensorboard~=2.5->tensorflow>=1.5.0->-r /content/neuraltextgen/texygen/requirements.txt (line 3)) (0.2.8)\n",
            "Requirement already satisfied: requests-oauthlib>=0.7.0 in /usr/local/lib/python3.7/dist-packages (from google-auth-oauthlib<0.5,>=0.4.1->tensorboard~=2.5->tensorflow>=1.5.0->-r /content/neuraltextgen/texygen/requirements.txt (line 3)) (1.3.0)\n",
            "Requirement already satisfied: idna<3,>=2.5 in /usr/local/lib/python3.7/dist-packages (from requests<3,>=2.21.0->tensorboard~=2.5->tensorflow>=1.5.0->-r /content/neuraltextgen/texygen/requirements.txt (line 3)) (2.10)\n",
            "Requirement already satisfied: urllib3!=1.25.0,!=1.25.1,<1.26,>=1.21.1 in /usr/local/lib/python3.7/dist-packages (from requests<3,>=2.21.0->tensorboard~=2.5->tensorflow>=1.5.0->-r /content/neuraltextgen/texygen/requirements.txt (line 3)) (1.24.3)\n",
            "Requirement already satisfied: chardet<4,>=3.0.2 in /usr/local/lib/python3.7/dist-packages (from requests<3,>=2.21.0->tensorboard~=2.5->tensorflow>=1.5.0->-r /content/neuraltextgen/texygen/requirements.txt (line 3)) (3.0.4)\n",
            "Requirement already satisfied: certifi>=2017.4.17 in /usr/local/lib/python3.7/dist-packages (from requests<3,>=2.21.0->tensorboard~=2.5->tensorflow>=1.5.0->-r /content/neuraltextgen/texygen/requirements.txt (line 3)) (2021.5.30)\n",
            "Requirement already satisfied: zipp>=0.5 in /usr/local/lib/python3.7/dist-packages (from importlib-metadata; python_version < \"3.8\"->markdown>=2.6.8->tensorboard~=2.5->tensorflow>=1.5.0->-r /content/neuraltextgen/texygen/requirements.txt (line 3)) (3.4.1)\n",
            "Requirement already satisfied: pyasn1>=0.1.3 in /usr/local/lib/python3.7/dist-packages (from rsa<5,>=3.1.4; python_version >= \"3.6\"->google-auth<2,>=1.6.3->tensorboard~=2.5->tensorflow>=1.5.0->-r /content/neuraltextgen/texygen/requirements.txt (line 3)) (0.4.8)\n",
            "Requirement already satisfied: oauthlib>=3.0.0 in /usr/local/lib/python3.7/dist-packages (from requests-oauthlib>=0.7.0->google-auth-oauthlib<0.5,>=0.4.1->tensorboard~=2.5->tensorflow>=1.5.0->-r /content/neuraltextgen/texygen/requirements.txt (line 3)) (3.1.1)\n",
            "Installing collected packages: colorama\n",
            "Successfully installed colorama-0.4.4\n"
          ],
          "name": "stdout"
        }
      ]
    },
    {
      "cell_type": "code",
      "metadata": {
        "id": "uWfltgiocsl0",
        "outputId": "5236b5d5-33bf-4033-cc55-1b77ac326353",
        "colab": {
          "base_uri": "https://localhost:8080/"
        }
      },
      "source": [
        "import nltk\n",
        "nltk.download('punkt')\n",
        "\n",
        "import sys, os\n",
        "import os\n",
        "os.chdir(\"/content/neuraltextgen/texygen\")\n",
        "from utils.metrics.Bleu import Bleu\n",
        "from utils.metrics.SelfBleu import SelfBleu\n",
        "\n",
        "os.chdir(\"/content\")"
      ],
      "execution_count": 15,
      "outputs": [
        {
          "output_type": "stream",
          "text": [
            "[nltk_data] Downloading package punkt to /root/nltk_data...\n",
            "[nltk_data]   Unzipping tokenizers/punkt.zip.\n"
          ],
          "name": "stdout"
        }
      ]
    },
    {
      "cell_type": "code",
      "metadata": {
        "id": "XzWz-M-kdSqo"
      },
      "source": [
        "from nltk.translate import bleu_score as bleu\n",
        "\n",
        "def prepare_data(data_file, replacements={}, uncased=True):\n",
        "    data = [d.strip().split() for d in open(data_file, 'r').readlines()]\n",
        "    if uncased:\n",
        "        data = [[t.lower() for t in sent] for sent in data]\n",
        "        \n",
        "    for k, v in replacements.items():\n",
        "        data = [[t if t != k else v for t in sent] for sent in data]\n",
        " \n",
        "    return data\n",
        "\n",
        "def prepare_wiki(data_file, uncased=True):\n",
        "    replacements = {\"@@unknown@@\": \"[UNK]\"}\n",
        "    return prepare_data(data_file, replacements=replacements, uncased=uncased)\n",
        "\n",
        "def prepare_tbc(data_file):        \n",
        "    replacements = {\"``\": \"\\\"\", \"\\'\\'\": \"\\\"\"}\n",
        "    return prepare_data(data_file, replacements=replacements)\n",
        "\n",
        "def corpus_bleu(generated, references):\n",
        "    \"\"\" Compute similarity between two corpora as measured by\n",
        "    comparing each sentence of `generated` against all sentences in `references` \n",
        "    \n",
        "    args:\n",
        "        - generated (List[List[str]]): list of sentences (split into tokens)\n",
        "        - references (List[List[str]]): list of sentences (split into tokens)\n",
        "        \n",
        "    returns:\n",
        "        - bleu (float)\n",
        "    \"\"\"    \n",
        "    return bleu.corpus_bleu([references for _ in range(len(generated))], generated)\n",
        "    \n",
        "    !git clone https://github.com/nyu-dl/bert-gen\n",
        "wiki103_file = 'bert-gen/data/wiki103.5k.txt'\n",
        "tbc_file = 'bert-gen/data/tbc.5k.txt'\n",
        "\n",
        "wiki_data = prepare_wiki(wiki103_file)\n",
        "tbc_data = prepare_tbc(tbc_file)"
      ],
      "execution_count": 17,
      "outputs": []
    },
    {
      "cell_type": "code",
      "metadata": {
        "id": "a6rsi2NEc6U0",
        "outputId": "e54cb372-bd73-4eea-916b-6e3c263d82f6",
        "colab": {
          "base_uri": "https://localhost:8080/"
        }
      },
      "source": [
        "file_path = 'neuraltextgen/RNN_generated.txt'\n",
        "bleu_score_tbc = Bleu(file_path, tbc_file)\n",
        "bleu_score_wiki = Bleu(file_path, wiki103_file)\n",
        "\n",
        "print(\"(Texygen) BERT-TBC BLEU: %.2f\" % (100 * bleu_score_tbc.get_bleu()))\n",
        "print(\"(Texygen) BERT-Wiki103 BLEU: %.2f\" % (100 * bleu_score_wiki.get_bleu()))"
      ],
      "execution_count": 18,
      "outputs": [
        {
          "output_type": "stream",
          "text": [
            "(Texygen) BERT-TBC BLEU: 2.64\n",
            "(Texygen) BERT-Wiki103 BLEU: 5.70\n"
          ],
          "name": "stdout"
        }
      ]
    }
  ]
}