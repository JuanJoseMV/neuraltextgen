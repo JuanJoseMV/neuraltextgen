{
  "nbformat": 4,
  "nbformat_minor": 0,
  "metadata": {
    "colab": {
      "name": "RNN-TextGen.ipynb",
      "provenance": [],
      "collapsed_sections": [],
      "include_colab_link": true
    },
    "kernelspec": {
      "name": "python3",
      "display_name": "Python 3"
    },
    "language_info": {
      "name": "python"
    },
    "accelerator": "GPU"
  },
  "cells": [
    {
      "cell_type": "markdown",
      "metadata": {
        "id": "view-in-github",
        "colab_type": "text"
      },
      "source": [
        "<a href=\"https://colab.research.google.com/github/JuanJoseMV/neuraltextgen/blob/main/RNN_TextGen.ipynb\" target=\"_parent\"><img src=\"https://colab.research.google.com/assets/colab-badge.svg\" alt=\"Open In Colab\"/></a>"
      ]
    },
    {
      "cell_type": "markdown",
      "metadata": {
        "id": "dMSi0xt3lmij"
      },
      "source": [
        "# Instalations"
      ]
    },
    {
      "cell_type": "code",
      "metadata": {
        "id": "aZSIxHzRlmRd"
      },
      "source": [
        "%%capture\n",
        "! wget https://dl.fbaipublicfiles.com/fasttext/vectors-english/wiki-news-300d-1M.vec.zip\n",
        "! unzip '/content/wiki-news-300d-1M.vec.zip'\n",
        "! pip install transformers\n",
        "! git clone https://github.com/JuanJoseMV/neuraltextgen.git"
      ],
      "execution_count": 1,
      "outputs": []
    },
    {
      "cell_type": "markdown",
      "metadata": {
        "id": "h2REsainlXgA"
      },
      "source": [
        "# Imports"
      ]
    },
    {
      "cell_type": "code",
      "metadata": {
        "id": "f_rvBhZVlfhS"
      },
      "source": [
        "import gensim.models.wrappers.fasttext\n",
        "import os\n",
        "import torch\n",
        "import torch.nn as nn\n",
        "import torch.nn.functional as F\n",
        "import numpy as np\n",
        "from transformers import AutoModelForMaskedLM, AutoTokenizer, AutoModel, BertConfig, AutoConfig\n",
        "from collections import Counter"
      ],
      "execution_count": 2,
      "outputs": []
    },
    {
      "cell_type": "markdown",
      "metadata": {
        "id": "nXcpSeRYSkn2"
      },
      "source": [
        "# Cleaning the dataset\n"
      ]
    },
    {
      "cell_type": "code",
      "metadata": {
        "id": "hr7ElL5NVnt-"
      },
      "source": [
        "## When using Wiki.tokens (not wiki.5k)\n",
        "\n",
        "with open('/content/wiki.train.tokens') as f:\n",
        "  content = f.readlines()\n",
        "\n",
        "clean = []\n",
        "for c in content:\n",
        "  clean.append(c.replace('\\n', '[EOS]'))"
      ],
      "execution_count": null,
      "outputs": []
    },
    {
      "cell_type": "markdown",
      "metadata": {
        "id": "PluZGXYHmFL9"
      },
      "source": [
        "# Downloading pre-trained wordembeddings"
      ]
    },
    {
      "cell_type": "code",
      "metadata": {
        "id": "x-7av7vCmRnc"
      },
      "source": [
        "# It takes some minutes, avoid if won't use\n",
        "model = gensim.models.KeyedVectors.load_word2vec_format('/content/wiki-news-300d-1M.vec')\n",
        "word_vectors = model.wv\n",
        "\n",
        "weights = torch.FloatTensor(word_vectors.vectors)\n",
        "embedding = nn.Embedding.from_pretrained(weights)"
      ],
      "execution_count": null,
      "outputs": []
    },
    {
      "cell_type": "markdown",
      "metadata": {
        "id": "tOWABFfxUM1f"
      },
      "source": [
        "# Train the network"
      ]
    },
    {
      "cell_type": "code",
      "metadata": {
        "id": "W5HR0v0dml6V",
        "outputId": "4e008470-df71-4ae8-ca91-b5626bfa76c0",
        "colab": {
          "base_uri": "https://localhost:8080/"
        }
      },
      "source": [
        "os.chdir('/content/neuraltextgen/')\n",
        "from RNNGenerator import RNNGenerator\n",
        "\n",
        "params = {\n",
        "    \"seq_size\": 32, \n",
        "    \"batch_size\": 16, \n",
        "    \"embedding_size\": 64, \n",
        "    \"lstm_size\": 64,\n",
        "    \"lstm_num_layers\": 3, \n",
        "    \"lstm_bidirectional\": True, \n",
        "    \"lstm_dropout\": 0.5, \n",
        "    \"gradients_norm\": 5,\n",
        "    \"predict_top_k\": 5, \n",
        "    \"training_epocs\": 200, \n",
        "    \"lr\": 0.01, \n",
        "    \"weights\": None\n",
        "}\n",
        "\n",
        "train_file = 'data/wiki103.5k.txt'\n",
        "generator = RNNGenerator(**params)\n",
        "device = torch.device('cuda' if torch.cuda.is_available() else 'cpu')\n",
        "trained_net = generator.train(device, train_file)\n",
        "\n",
        "# list of sentences\n",
        "sentences = generator.predict(device, trained_net, n_sentences=100)\n",
        "sentences"
      ],
      "execution_count": 6,
      "outputs": [
        {
          "output_type": "stream",
          "text": [
            "Vocabulary size 3775\n",
            "Epoch: 4/200 Iteration: 100 Loss: 5.550518989562988\n",
            "Epoch: 8/200 Iteration: 200 Loss: 4.805933952331543\n",
            "Epoch: 13/200 Iteration: 300 Loss: 3.967970848083496\n",
            "Epoch: 17/200 Iteration: 400 Loss: 3.6054868698120117\n",
            "Epoch: 21/200 Iteration: 500 Loss: 2.920198440551758\n",
            "Epoch: 26/200 Iteration: 600 Loss: 2.650226354598999\n",
            "Epoch: 30/200 Iteration: 700 Loss: 1.9219039678573608\n",
            "Epoch: 34/200 Iteration: 800 Loss: 1.5465679168701172\n",
            "Epoch: 39/200 Iteration: 900 Loss: 1.1541169881820679\n",
            "Epoch: 43/200 Iteration: 1000 Loss: 0.7567822337150574\n",
            "Epoch: 47/200 Iteration: 1100 Loss: 0.6856549978256226\n",
            "Epoch: 52/200 Iteration: 1200 Loss: 0.5759510397911072\n",
            "Epoch: 56/200 Iteration: 1300 Loss: 0.47042080760002136\n",
            "Epoch: 60/200 Iteration: 1400 Loss: 0.3537713885307312\n",
            "Epoch: 65/200 Iteration: 1500 Loss: 0.3175928294658661\n",
            "Epoch: 69/200 Iteration: 1600 Loss: 0.24685680866241455\n",
            "Epoch: 73/200 Iteration: 1700 Loss: 0.2082928568124771\n",
            "Epoch: 78/200 Iteration: 1800 Loss: 0.1899767965078354\n",
            "Epoch: 82/200 Iteration: 1900 Loss: 0.1803213208913803\n",
            "Epoch: 86/200 Iteration: 2000 Loss: 0.13534457981586456\n",
            "Epoch: 91/200 Iteration: 2100 Loss: 0.12495099008083344\n",
            "Epoch: 95/200 Iteration: 2200 Loss: 0.14926746487617493\n",
            "Epoch: 99/200 Iteration: 2300 Loss: 0.1395779252052307\n",
            "Epoch: 104/200 Iteration: 2400 Loss: 0.11160753667354584\n",
            "Epoch: 108/200 Iteration: 2500 Loss: 0.09374482184648514\n",
            "Epoch: 113/200 Iteration: 2600 Loss: 0.05096044763922691\n",
            "Epoch: 117/200 Iteration: 2700 Loss: 0.08567298948764801\n",
            "Epoch: 121/200 Iteration: 2800 Loss: 0.10579822212457657\n",
            "Epoch: 126/200 Iteration: 2900 Loss: 0.10109030455350876\n",
            "Epoch: 130/200 Iteration: 3000 Loss: 0.08482363820075989\n",
            "Epoch: 134/200 Iteration: 3100 Loss: 0.09160089492797852\n",
            "Epoch: 139/200 Iteration: 3200 Loss: 0.09080716222524643\n",
            "Epoch: 143/200 Iteration: 3300 Loss: 0.07022447139024734\n",
            "Epoch: 147/200 Iteration: 3400 Loss: 0.06481538712978363\n",
            "Epoch: 152/200 Iteration: 3500 Loss: 0.06517037004232407\n",
            "Epoch: 156/200 Iteration: 3600 Loss: 0.05841611325740814\n",
            "Epoch: 160/200 Iteration: 3700 Loss: 0.11386232823133469\n",
            "Epoch: 165/200 Iteration: 3800 Loss: 0.054696857929229736\n",
            "Epoch: 169/200 Iteration: 3900 Loss: 0.04913830757141113\n",
            "Epoch: 173/200 Iteration: 4000 Loss: 0.06735393404960632\n",
            "Epoch: 178/200 Iteration: 4100 Loss: 0.06117405369877815\n",
            "Epoch: 182/200 Iteration: 4200 Loss: 0.0669153705239296\n",
            "Epoch: 186/200 Iteration: 4300 Loss: 0.04864206910133362\n",
            "Epoch: 191/200 Iteration: 4400 Loss: 0.10169179737567902\n",
            "Epoch: 195/200 Iteration: 4500 Loss: 0.10967055708169937\n",
            "Epoch: 199/200 Iteration: 4600 Loss: 0.09382062405347824\n"
          ],
          "name": "stdout"
        },
        {
          "output_type": "execute_result",
          "data": {
            "text/plain": [
              "['justice @ 3rd @,@ 000 may 400 school 500 may 330 placed debt debt debt Mark 96 Mark license Mark much @,@ 48 @. 500 throughout left yd million 96 placed 96 debt placed debt placed 96 Mark 48 48 96 48 cm 48 96 placed debt debt placed debt pointing wanted 96 since 48 wanted 48 69 placed 96 debt pointing debt 96 69 placed 96 debt placed since since since nine debt 70 debt forecast 69 at 96 from Olympia with a two its The a first a convection , also may its bones was claimed also she \" named a',\n",
              " 'sea came of temple in along , along of Manila of history . Throughout , although with 2008 with Craigie that signed that however with WWE , it and however a first \" was a \" at @@UNKNOWN@@ usually it such have known are may who modern 1 much like much about 367 @,@ 13 @,@ range @. 8 ( 12 is directed ( 11 ( 1 \\'s work were discovered a men Marines finds case . 71 @. 000 @. heavily @,@ they been 8 @,@ 000 @. 8 @,@ 0 @,@ 11 – 8 ( 11 were 000 – crossed',\n",
              " 'implementation Three gun from / win Is have 30 have 12 1 a work at Quanzhou and gather at goods at Mendes at Mendes at Mendes as Eddie – Eddie – 530 more soldiers more allowing more soldiers or felt be days also much he much he much \" tart / dreamings 12 against along along through Vickers during along during high with UB authorities north 13 \\' five out allowing \\' 69 out built while 69 and h , license and 1918 at 1840s \" goods at L a 52 the track the script only members developed soldiers National 69 would',\n",
              " 'eagle attempt 158 AA rival Sam Joaquín storm Joaquín storm light Xavier light light Xavier Joaquín rival 69 Joaquín storm Douglas storm experimented early 69 storm died pool from 96 @-@ knots by land @-@ Armstrong by higher two minelayers two attacked Lock haunted would built National jima along built against along while his arrest only works would land his 10th three sinking their left or sinking more air patch air – there are compared ; a 000 to gather to gather to continued to continued at continued to continued a significant a copy \" [ as much may painting Disagreement Oil',\n",
              " \"fountain Regiment since 10 air alongside other light along light light light Xavier storm light light storm early light National storm light light National rival these built these 69 became 2015 his 69 his son 's sinking two aircraft two sinking up higher by higher two air Lock haunted while 55 while 69 ' built ' built while 69 along license : 69 after aided – five long allowing long soldiers being conference storm damaged early allowing all allowing storm along early Ragged Division built National built these soldiers storm damaged storm built early conference these ri storm 69 @-@ damaged which\",\n",
              " 'pollution and replaced . five the Throughout , along with time , along to north to Commission new deviate inside League inside Ragged Joaquín head National crossing early Series @-@ Series is license was replaced was erected \" cornered \" L as a a \" to an new most important Division per Division Joaquín storm AA National Ragged National Ragged Division program @-@ along by 2 by support per head per head new tropical Roath @-@ west during 2015 @-@ ri which pay , then for CSS , Jack to CSS \" continued \" L \" L \" we \" taken as',\n",
              " 'asked in Hill in supported French history , along for suicide . tried of 1979 . number of shape of influence was tunnels was specimens from Vergil was initially from UAB from Eddie at goods to mend to achieve at difficult \" cute was L – romanced are 9 1 GCSEs 1 GCSEs work conference work GCSEs ) and @@UNKNOWN@@ usually it so it probably one paper 1 much like felt to sinking at 9 at rescheduled at goods at DreamWorks – UAB $ 500 – much $ 530 some actors would 9 individual knots would built after Zbor @. a a',\n",
              " 'central cloud than these 9 these 9 three sinking more folded – 69 ( today were left – left German left these days three 9 these mm following 69 following Drinker Xavier Ragged rival along Ragged to to to to a @@UNKNOWN@@ the @@UNKNOWN@@ of \" of @@UNKNOWN@@ ( For ( son is 23 ( son – son \\'s second \\'s men three 69 – 9 German 9 about wanted ; compared had compared have may have 8 who paper who compared are 23 who 1 @,@ 000 made 30 made It made 2 yd 11 million / h . 69 . Later',\n",
              " 'worth Roman Julius supported Julius forecast 69 70 69 placed placed 69 since since h it h ; 37 ; blood it and it at it a \" a as , said . Osbert consecrated with land with high from air but further from Literature was connected @-@ attempted William round William new early along @-@ National during all @-@ all all early all head running 69 new Mendes per style rival Drinker Joaquín 69 conference 55 conference rival @-@ light during air @-@ rollers all UB all 30 National tropical National \\' National head up during two which three during two against',\n",
              " \"swap ' complete ' cover ' former William complete William complete storm light complete storm light rival rival rival rival built built MacArthur built built MacArthur militarily MacArthur rival built built rival 69 96 State State State 70 69 # soldiers debt license State 70 69 debt 96 69 69 assaults 69 debt 55 assaults State h 55 debt license 55 69 96 69 assaults 69 debt 69 debt 55 69 assaults 55 debt 69 96 69 debt 69 69 96 55 built license built 69 debt debt 96 State State 55 assaults 55 license built built 96 built 96 built 69\",\n",
              " \"awarded unearthed cover Julius built assaults 69 from blood @-@ stop which replaced with chutes with chutes that license on 43 on 18 on 18 that Kumrovec with templates and UB and high and high . Mendes the idea homes General sciences being determined storm soldiers early Ragged storm Ragged storm Nerva storm 55 ' patterns while allowing @-@ built which air that UB , she , Oman , Muscat for Osbert and Osbert , Osbert in Minamidaitō in poetry . Ordained , followed . Given of flexibility , secured with York that chutes which chutes which aircraft with chutes and replaced at\",\n",
              " 'process Wes MacArthur State pointing placed 69 pointing placed 69 since debt debt patterns since pointing placed debt since placed pointing 69 96 69 placed built debt 69 since since it debt ; furthermore it may one heads it analyzed have attached have 530 who 530 alongside blood former survived # placed debt since placed 96 State debt placed pointing 96 State since debt placed pointing 96 State 70 debt 48 debt Catholic wanted 48 built placed others since debt pointing 69 since placed it debt it schools it air 1 and WWE he her be had three 400 three if three comical',\n",
              " 'aid bones others alongside State # debt assaults State 70 patterns light 69 former 55 48 placed placed rival State built nine placed 70 placed narodne built rival rival light built storm 69 @-@ former @-@ General which air which air which air that Ricky that it which however with Mortier with match which the city carved which Bacon this Flanders with Flanders and UB . Mendes the idea the piano the task the influence the production . Throughout of operations in history . Throughout while Cambodia that Stevens , focused . McCarthy , California with Intramuros that Ricky on embarkation on',\n",
              " 'compound formed cover AA 330 soldiers license built 96 69 since placed individual debt debt album 69 69 debt debt 69 since 48 wanted placed license since since pointing soldiers since assaults . Russian . Later , Sarawak and Kansas , heavy and Ricky at Literature \" decided \" L \" [ \" heads as may may about 400 who 400 have 8 1 / 30 of which northward city Bacon @-@ V and air and damage to earthquakes at difficult at valued at goods from DreamWorks from valued from Olympia into Vergil as a \" and a an its \" also @@UNKNOWN@@',\n",
              " \"She Regiment alongside other Julius along patterns along license while patterns ' built storm projections storm built National 69 storm 69 storm built rival light cover former 69 early 69 any died these built these 55 these soldiers National 69 National built along 69 pitched 69 basketball 96 along storm Joaquín storm built these 55 early allowing all ri William Joaquín storm Joaquín storm along National tropical along along Vickers along tropical National head National tropical early along all National storm early light early new four featured all new head colossal head Joaquín head along ' to tropical three early early early\",\n",
              " 'landmarks frequently what 330 pointing Julius 330 debt pointing 69 debt patterns obligations State 70 blood former built 330 96 since debt since assaults debt since 48 placed debt 69 debt since since h h since since pointing 15 240 70 69 debt built debt 69 69 since debt and 69 . Mendes . Throughout , history for ahead . audiences of flexibility the task homes although subsequently morning Ragged enhanced AA @-@ cover and stop and deteriorate , Mendes , France with potential , encountered for California @@UNKNOWN@@ it as @@UNKNOWN@@ and @@UNKNOWN@@ , it , however and however of 5 in',\n",
              " \"Quiapo year projections ' State while edging while built and built and replaced . range , 2010 , Río , Ermita and Ermita continued churches from five at erected as DreamWorks also ordered was began at no at Olympia at Olympia as DreamWorks usually significant her much about 530 who 37 1 37 ) from it from it from used from used to one new 5 new more than Gore than $ 9 $ US been US or US been about were much were much airborne much recorded team these Hill slightly sinking following Kyo rival conference conference former conference storm rival National\",\n",
              " 'gunboats appreciated built Julius cover patterns since 69 it debt that license it schools ) and @@UNKNOWN@@ of @@UNKNOWN@@ proof @@UNKNOWN@@ deteriorated @@UNKNOWN@@ insisted for much , Scotland and Kansas at France \" Eddie at taken at smuggle at DreamWorks was Guam \" taken a particular its halt also DreamWorks also much be days \" air also taken its painting also painting a men the end , piano for Australia . Given , 2010 with Río on aircraft that Ricky , Ricky , Oman , Intramuros . Tres Agnew Monument book stone Charles placed debt placed State elementary others placed wanted from public',\n",
              " 'emperors remarked time alongside along storm along rival license along storm along rival during license ) templates ) license ) 31 , license in potential , California and Oman a death \" decided an week a significant at DreamWorks at DreamWorks \" Eddie an days was ] was taken \" taken an days an taken a partnership a halt at awarded \" L at cute as DreamWorks – Eddie – 23 – much 1 9 / 18 William 69 these book would men – 23 patch soldiers more 9 long displaced 740 Type 69 assaults State h assaults debt public damaged debt',\n",
              " 'most claimed or ] three ] or did their lifted or did or lifted first sinking or sinking three sinking Edward sinking Xavier MacArthur inside morning large Ragged Joaquín Drinker Joaquín rival Joaquín Ragged morning MacArthur inside Drinker Joaquín Ragged inside rival inside head rival along Ragged through license along built reached projections inside 69 following 96 Joaquín 69 per 25 Douglas built Type license 96 Ohio Ohio public Ohio debt assaults assaults public rival State # Ohio Ohio # survived # survived Type survived 48 55 debt 70 assaults # debt @-@ rival by license during license ) replaced ; license but',\n",
              " \"underneath jungle government 100 Edward species Joaquín species 69 @-@ others @-@ edging @-@ license during license which UB that where on 12 which signed with high which high with the against carved upgraded minute 's next most crossing most days three 2 first days he finds have yd have may her yd $ 400 like weighed have modern had 500 $ today 000 should who 000 who 2 / / other high other pounder National tropical these tropical new all new early Joaquín @-@ new which to during a write the significant . Throughout of history was released at described to\",\n",
              " 'August house may debt since wanted debt 69 since assaults since 69 since built / 69 would 15 may license Julius debt 69 69 debt since 69 since debt debt obligations assaults built State since placed 96 69 69 built built debt pointing 69 pointing license since placed built pointing debt 70 69 forecast others assaults placed 96 since debt and damaged an northward continued air State spacecraft State nine Ohio 55 survived State Ohio State # State State [ 15 15 15 State State # Ohio 96 96 55 survived State 96 55 survived built debt pointing 96 State 96 State built',\n",
              " 'Early Pacific consul Julius may 30 individual built / built alongside debt . 37 in Kumrovec of supported . Throughout alerted Sarawak helping survived offspring pointing pointing artists State State patterns State patterns placed placed @@UNKNOWN@@ and @@UNKNOWN@@ and and \" and later a 5 a 5 at \" as be \" or also few \" should as dreamings @@UNKNOWN@@ million as well @@UNKNOWN@@ million as Eddie \" painting \" cute was L was awarded at awarded and Eddie and teamed at 1840s as Eddie \" hung an appointed an controls an days \" continued as than @@UNKNOWN@@ . @@UNKNOWN@@ in fact @@UNKNOWN@@',\n",
              " 'point 8 mm 8 displaced 000 @,@ 000 – 8 January 530 ( a The a return its return at continued at continued as continued \" rescheduled a week the game of commemorating of all was most was first from be from first that later with later from discovered two associated was a be may later appearance – begun German 23 German 30 ( 11 ( 10th ( today ( met ( today $ significant $ met $ 2 may 10 18 11 from 30 at Olympia a guns to release to lose to lose at further as 4 ) million that',\n",
              " 'different response airborne displaced displaced than mm than 9 $ 9 @,@ @ displaced @,@ 9 $ included about than about @,@ 740 @,@ 11 – 11 @,@ 8 made 530 @. 540 ( 530 circles higher reached rival light rival light rival Xavier 69 @-@ light during described which air , namely and showing @-@ disembarkation most UB @-@ through during UB through high with UB , — , when in WWE , tusks a However a while the time this while he never is may from track was ships is named he 30 it named it would one despite work despite',\n",
              " 'should be $ be so been 188 – today 740 cannot five into 96 @. Recommendations @. division her 367 ft bones @,@ 500 $ 500 displaced 367 cm much wanted assaults State # innings 48 debt placed 69 debt Mark 48 conference 48 48 debt from 25 from sinking from sinking at Vergil from DreamWorks was Guam was downgraded a men a significant \" significant a significant its Frances been floods or displaced slightly ] Edward displaced Edward from slightly also a two the three a Battle at crossed at once to line to gather to develop \" destroy \" ]',\n",
              " 'His degrees to believed new emphasise new morning inside Roath Douglas morning Douglas MacArthur Douglas MacArthur Ragged Douglas MacArthur Douglas Ohio Ohio State State public elementary 96 State State # Ohio following 25 Chicago style conference light Ohio inside chances morning @-@ Joaquín by higher during air which iron that license which night that 2008 , UB , where in design and 4 and ships \\'s Mendes married haunted \\'s men was replaced from sinking at DreamWorks a erected \" million a establishment its significant were may its crossed were intended \\'s head was sinking the album of tow the task of sum',\n",
              " 'today 12 if 11 from Lester at used from one into one @. work made known ( 000 is directed is took @-@ crossed is well is further ( 4 is 2 is crossed and air , took in UB with high this time of through , along in 17th French line of 1941 this Canada with match with Craigie was pleased \" cute / tart like wanted on aquatic are 000 because h under cover four allowing another allowing storm along storm damaged National circumstances William Road early damaged storm Nerva @-@ damaged @-@ license during pay and air continued UB',\n",
              " 'performance vessels built Xavier AA blood patterns 69 69 since placed it assaults win it from that was which @-@ which @-@ with this with two carriers two head two specimens three days be specimens was did was tart \" days / tart 12 League while new head along \\' along along only only against only along along Joaquín during new @-@ higher continued earthquakes basketball @-@ rival which replaced during license during UB with high which north during the which carved @-@ open Division of most of two this 1941 of match match thousands per Season National Season four new National',\n",
              " \"added Marshall 330 placed patterns pointing placed placed placed pointing pointing pointing 96 69 69 pointing pointing 96 State pointing debt 69 69 since 69 / 69 alongside built air debt license obligations debt since assaults it debt it h it and that . tell . ferry in time @@UNKNOWN@@ predominantly this in 's French by in time , city , Paco in seeing @@UNKNOWN@@ of @@UNKNOWN@@ 's Temple its , its , were drew 's teammates three squadrons slightly sinking these 69 boats died following 69 boats 69 48 wanted from sinking – DreamWorks $ 2015 would soldiers these built National 2015\",\n",
              " 'did valued next American only his release their floods or sinking were did American did were did were release – there – 2 about 400 her 400 her 8 about may like much $ 500 ( difficulty were 90 or sinking more regions she wanted – five – 69 about built about 9 about 9 1 9 it Monument one Monument it GCSEs ; material ; 11 it air it Is ; the @@UNKNOWN@@ a one usually used made landfall has 11 – 1 has son – today been F.S. @,@ DreamWorks made F.S. F.S. DreamWorks continued Type than Type @,@ left @.',\n",
              " 'firing songs 158 individual Julius may it since ; license ; rental ; compared ; a \" a The its made two country its men its DreamWorks were Beauty or displaced American did their 6 American did or once were 000 @,@ 000 May 11 @,@ 11 18 ships rifled before 37 on 15 on lines on compared on Rome while / before 12 time along through during only which only with UB which Ricky that UB which the which the while later time is accepted @-@ Port and replaced , 1840s that Ermita that encountered with Mortier , then in Ermita .',\n",
              " 'Craigie anyone interrelationships cover just State individual others pointing license since 69 debt patterns since 69 . 48 , schools . Later . According . Throughout of piano , allowing , General with hearing that Stevens which Craigie @-@ emerges @-@ style and license continued barbed into 43 into suffers @. north track Boulter since Crude / placed would debt would 25 individual allowing Xavier along Xavier along species head license which patterns ) material but rental into 530 @. a a its an from this its signed its not its has a has its significant its painting its painting also DreamWorks been',\n",
              " 'red needed air cover any since would 25 would soldiers – 69 ( 69 were confiscated were left were lifted Lock left – described or sinking were did or did be would been these finish not finish these regions three Drinker these 25 three sinking American paleontologist were carried were impacted its carried a bones at finds at DreamWorks a number to bomb of gather in number was Midway is cornered was replaced was erected a son to gather to gather to develop two burden two aircraft Lock replaced German 55 individual built narodne Type 48 96 placed built assaults Ohio spacecraft placed',\n",
              " 'Augustus emerge complete Douglas Hill Xavier built narodne others pointing placed 96 69 from built is inches that analyzed that demanded , show . According of 2008 . memory in Sarawak @@UNKNOWN@@ Sarawak as they may has endured – 720 – 20 – pitched – 530 – pitched or sinking or plays be did more ] Gore 9 8 9 / 9 / damaged four built another along National along only tropical to during \" @-@ this @-@ @-@ is was is was later from she that seen that however that time with 12 during 12 which high during along with the through',\n",
              " \"biography with high @-@ license which described tell templates while 15 while air ' soldiers out 69 along built Vickers higher his 25 American given these 69 National sinking ' along William along during along tell UB which UB WWE Robert WWE when that 30 which high which high WWE UB WWE — to high two lose was so the earthquakes , along with York with chutes with UB , Ricky with Intramuros with Tres , focused . Given . According in Sarawak in 731 with history . Galba , 89 . McCarthy , Okinawa with 2008 which graffiti that General ,\",\n",
              " \"currents some Edward than government than airborne displaced 90 than species cm long cm pointing placed 48 wanted placed pointing pointing placed 48 wanted from 96 – DreamWorks or displaced In a more at her at Muscat a Muscat to special at north as flooding @@UNKNOWN@@ million as Tres for they , support . Lesnar consecrated Monument 7 Monument 11 Monument several GCSEs it pointing ) from @@UNKNOWN@@ that it that however , he . he may he claimed had claimed had 8 her may about 8 like 8 30 / / 1 ' 10 along 18 along higher ' to tropical\",\n",
              " \"track there time out tell lines which air , schools for France and disembarkation @-@ faced all seventeen until Ragged storm damaged four along four new early Joaquín storm Joaquín early Joaquín Division west early along National Joaquín storm new these ri storm Joaquín storm 93 @-@ Joaquín during higher with license authorities Britain satellite rival ' cover during allowing @-@ license continued license debt State assaults 48 Ohio placed 96 debt placed State assaults State elementary exactly elementary assaults Charles 15 debt # 96 placed placed 96 debt 96 debt debt State assaults light damaged rival rival rival Xavier Joaquín head director\",\n",
              " \"utterly / where / h because conference these 25 these sinking National built would soldiers National jima ' allowing other Joaquín head Joaquín head along along along through after against only during through tell UB time 12 through UB during time during with to this new while down @-@ of which to city icicles with land : helped @. 000 @. 000 ( 11 ( 1 is there @-@ high during along with through with to with two while his country three endeavor 's days their FOX or replaced Yorker Drinker 240 Drinker nine debt debt cm 96 placed debt cm pointing\",\n",
              " 'Viking Zeppelin Julius Julius Frontinus Julius Julius built blood 69 tetrapods State former Julius 70 patterns Julius h assaults debt from 69 @-@ stop which along during UB during time ) time it with @@UNKNOWN@@ that ) , , , , , for @@UNKNOWN@@ @@UNKNOWN@@ @@UNKNOWN@@ as online \" painting \" L as DreamWorks @@UNKNOWN@@ Monument @@UNKNOWN@@ Monument it million ; furthermore said resumed one paper that the this track of Manila in Commission , time with north , along with Tres which France that Flanders with Mortier , the this later of later . most , later and Osbert usually home land',\n",
              " 'getting possible long are 37 who air ; Blockbuster that 2008 with iron , chutes . Rossen in Sarawak in Sarawak proof Sarawak visited disembarked while five alongside damaged pitched eight Joaquín rival Joaquín head 93 in National , by and by a a an two this \\'s two match was described was described the sinking the sum , but , but in ) of time . Through of Bintulu . As , California and 2011 . France consecrated Napoleon . 700 . Instead of Championship was thousands from connected at specimens \" goods an appointed a 52 a bomb a 52 \"',\n",
              " \"developed playoffs of blood @-@ lieu continued license conference light crossing detected State State debt damaged Ohio debt State 55 Ohio 70 built light 55 @-@ damaged @-@ Armstrong and replaced and replaced @-@ book and high and progressed and Mendes and disembarkation at goods – DreamWorks – 9 long much these than more ” less much individual placed individual cm following species Chicago rival rival along Joaquín tropical Joaquín ' along during during and during of time to time icicles @-@ biography @-@ Flanders @-@ style which license that aircraft which graffiti that aircraft that , that . Osbert . After in\",\n",
              " 'invasion attempt ( 69 ( 13 – 69 – 69 about 23 on 18 after 2015 : 2015 : 69 – 2015 or 2015 be pitched be 69 or 330 three if be air their men two lines at air at occurring as further for well as 11 at they was claimed \" Stevens a paper at downgraded from occurring from air into it @. Tres @. known ( 11 \\'s head his son would land patch 96 were left their lines Lock replaced patch replaced was sinking from Olympia into a this at pioneered at already at pioneered an solution of',\n",
              " 'Owen stunning blood blood since State / h alongside 69 long 69 individual soldiers 240 patterns 48 wanted 48 placed debt 70 State placed 96 70 debt 70 built 69 70 State 70 placed 48 96 placed license since State debt since 48 wanted debt album 69 since assaults h since since it patterns it h ; license he decided he analyzed he analyzed he analyzed he may it claimed have she on Gore are he he ; win ; that is said and one and one , one , it in said of one in ) and one at Osbert and city',\n",
              " '1888 wind tetrapods built State debt blood patterns blood patterns since assaults out built out former complete built 70 rival long 55 96 built State 70 69 330 built 330 69 license 69 69 96 69 built State built 96 State 70 debt light license rival 69 built license 96 96 debt license 96 69 license 96 debt 96 built built license built debt license 96 placed debt 70 built goalkeeper State State 69 69 assaults built built 96 96 69 70 69 96 State 70 built goalkeeper built State built 69 assaults State State 70 69 assaults 55 State 70 69 #',\n",
              " 'Street light blood rival complete built 69 96 patterns debt 70 debt former patterns Xavier built Joaquín 69 Joaquín license Sam inches species 48 species goalkeeper @-@ 240 and built and replaced . range proof Metro “ and replaced and progressed and teamed . France , 2010 , guitars in guitars . Ordained in Scotland of state . Dean in California . Born . Galba in 1975 of state was thousands from specimens was squadrons \" L was days be specimens or air three squadrons his son \\'s FOX three 69 most regions most sinking three replaced \\'s days their son were',\n",
              " 'behind @ 485 may significant than 23 @,@ 530 after 37 would soldiers – soldiers January built ( left from to was the In married its fire its fire also signed – named more there may on school after Recommendations – much $ 2015 @,@ 37 @. 8 track 12 30 time high time time with during to the a \" \" \" as \" as @@UNKNOWN@@ and \" usually later seen – 11 has 1 $ about has have has 1 $ 1 did work did it yd ) yd to high new enter between Galleon new Roath new Edward species',\n",
              " \"XLVIII die York caused batteries nine complete built just placed any patterns out patterns along built some jima ' patterns along soldiers Vickers 13 : 25 against built along built along built ' rival out damaged along soldiers along 69 : 25 against license during soldiers with iron during chutes which iron with iron that chutes that ahead , died , 2008 in 2008 and Castle . damage proof Metro amphibious both up continued Joaquín JMA Joaquín Type 96 Joaquín rival CN style National Drinker National Ragged early allowing Division new head new all Joaquín early along all National early new tropical Joaquín\",\n",
              " 'various hit Hindu temple MacArthur since license State debt State 55 69 debt 55 built 96 debt built 96 69 96 debt debt 96 built State State 55 State State 55 debt debt assaults assaults State State 69 55 debt 55 assaults built built State built debt 69 built built 96 debt 69 assaults 69 96 assaults built 70 patterns 70 light light light rival director 69 light built @-@ director and discovered @-@ area which another @-@ another and UB . Literature . According . According . Due was melody from pleased from air from occurring was occurring from air is accepted',\n",
              " 'Viking Mobile commentator Julius Julius Sextus former former consul Mark One Mark album since placed placed since since placed since h bones patterns 69 debt placed album debt from license is replaced is compared is 23 is there from Ricky from it at one was which at used from used was have was claimed also signed its part its both its caught was air at directed for flooding to weaken new gather new morning morning rival morning head along along high during during ) with this to this the two match Battle position early Ragged four cover National along National head National came',\n",
              " 'rainfall remarked 25 Julius Julius placed debt since obligations / obligations would 55 would built alongside built individual built 240 placed 96 wanted placed debt debt 69 assaults 69 debt assaults debt 69 69 debt pointing built 69 placed pointing debt 69 69 pointing debt 69 pointing license 69 69 69 debt 96 since 69 album h h h 69 h since assaults since h / h while 69 while built Frontinus there ; 30 it there that 30 that suffers with suffers with 12 authorities time 13 , Ricky and Kumrovec , replaced and Mendes , replaced . Also . Throughout',\n",
              " 'nitrogen mm what 330 individual placed 96 pointing Julius since since since individual built individual built following built rival 69 since soldiers individual 15 Xavier 330 70 placed 96 since placed it since 1 license have 18 ) tonne ; compared have a 5 a later an Quanzhou a country \" deteriorated an week a halt was awarded \\'s end \\'s Gazan Lock 23 forecast built displaced 367 than 96 Type it from which was which at which was that from with two with his two only only country would 2 foreign 30 / 1 infancy time high through time with along',\n",
              " 'automobiles internment remarked have may @,@ F.S. $ today have may had 8 @,@ 000 has 1 $ 1 has 740 if air – 000 German there / took h where assaults where license where allowing where allowing along Joaquín to eight two replaced from replaced – DreamWorks $ 9 about weighed about 9 @,@ 000 ( 11 is there from air into occurring into occurring into occurring but known but further ; Lester that that with time with 12 authorities his torpedo instrument works these garde these built – 96 German built narodne 69 narodne 69 pointing placed Mark 69 Type 48',\n",
              " 'surgery show built complete State since patterns nine patterns patterns h 69 h since placed 96 debt placed 69 69 since 48 placed 48 debt 96 69 debt 69 assaults 69 from 48 that h it license WWE knots ) license that commit . 530 , 2008 with alive with suffers was lines \\'s birthdate was son is haunted @-@ built which license during chutes which UB during iron @-@ air @-@ iron and UB at Lester at it \" used \" that @@UNKNOWN@@ and @@UNKNOWN@@ at said at one usually used made this ( this track which Intramuros which north with',\n",
              " \"50 youth alongside cover air 69 air built would debt would built would 69 individual soldiers would soldiers after 10th @. All @. It @. landfall Zrinski inches – acquired ( left @. 1955 on built before h where assaults where debt along built ' built four built National 69 these soldiers early allowing all built four seventeen William along all to @-@ new @-@ important during iron during license with UB with north with Robert but Osbert ; Lester are 1 are work had have has 1 have known have well are known have 30 ; 30 it when it —\",\n",
              " 'Born French up in Manila in Army of time the next this time , implemented . Osbert . On in Sarawak in Sarawak , Sarawak . Instead in waves of state , General in Woomera in Lynwood , discovered . \" may later Craig usually days $ included These ] These naval placed # pointing what cm cm cm pointing placed placed public cm pointing placed cm from pointing at Olympia at UAB to stand a 52 \" north at cute to stand to achieve . UAB . scenes of Gibraltar . Instead of flexibility , history for France , Indonesia ,',\n",
              " 'VIII Lupit damaged built rival rival rival along along tropical since along and along an replaced a partnership a significant its significant a men its DreamWorks also men a truck a pool \" connected \" L \" cute a youth \\'s significant their own their own their own their did their release Lock All @,@ 000 made work been Nero @,@ 000 been It or 30 three regions or Drinker three sinking these sinking National Joaquín National 69 early died William built early 69 National license storm built storm damaged storm along early new all new these circumstances another featured all along all',\n",
              " 'chance Sudoku large which Girl which along @-@ UB during earthquakes and the a \" The \" a The track The script a house to smuggle of develop this thousands of lies was Canterbury from then from DreamWorks was valued from DreamWorks at taken to stand to reshoot and kept to develop a develop its partnership were painting were division \\'s FOX \\'s men was replaced from Vergil with Gazan @-@ FOX by aircraft two FOX two FOX two FOX three replaced three FOX or sinking three Drinker National rival \\' Joaquín National along these Joaquín early new William National National American paleontologist',\n",
              " \"Most jokers long built individual built individual placed 96 69 assaults wanted since 69 h 69 debt assaults debt since 69 debt 69 debt placed pointing 96 70 330 rival blood 70 cover director Joaquín early built storm along @-@ rival and edging and wanted , Mendes . Today , tons for eyes and heavy at range and goods , replaced , Ermita . Given . Later appearance 1868 military matter artists pointing Ohio Pak placed following Kyo Edward determined Pak placed Chicago ability large head Pak ' National crossing re style National rival Division along Division along Division National these American all\",\n",
              " 'believes chloride built Julius forecast State built built placed built placed 69 debt built State since debt 70 debt @-@ rival and license and replaced and replaced @-@ 1875 all Armstrong early complete early built William 69 National rival Xavier rival Xavier 69 @-@ 69 which license with iron with license with earthquakes , chutes for France and 1917 and book , Mendes . Ordained . Later . Galba , 89 and 31 at pleased as DreamWorks also included \" cute a rabbi \" million as known as 11 for they for lost as known \" million was cute from specimens was specimens',\n",
              " 'area City of new of history . analyses to Sarawak to lose a bad a about the support the film @@UNKNOWN@@ while \" track \" named was named used — it took WWE death ) the this of of of the of of seeing seeing most Mexico @-@ Poteat of General the middle of match in history in state in 731 . Later , Okinawa for reelection @@UNKNOWN@@ and as usually \" painting an taken was cute was specimens – 23 would men ( 530 – knots – built German built ( 367 ( 10th ( 11 is crossed is Bintulu @-@',\n",
              " \"ports mm air blood alongside blood while 15 while former where license on built on compared before losses where debt ' allowing along patterns : Argentine against 15 along built inside Julius forecast State Douglas damaged State since State 70 nine debt license since since survived h 55 96 placed survived since who built who struck it teams it teams win since is lines with north was air @-@ died all air @-@ ri which described with UB continued Nero yd ) survived that 31 . templates in Sarawak . Instead in Reform and formalist , Indonesia in 2008 of Guatemala ,\",\n",
              " 'waters of abortive was lieu at able \" pains an taken an ] \" specimens was appointed from L at erected from occurring at Olympia from occurring was decided – claimed had 740 @. 8 @,@ William @. 8 on Kyushu before much like modern like difficulty have 367 have 1 have 1 1 ) ) 1 it are said who ; her as about as well may Tres copies about Josepha much than 500 Type 48 cm much 96 assaults placed 96 Mark 96 pointing placed pointing pointing 96 Mark 96 cm wanted placed debt pointing Mark individual cm much placed',\n",
              " \"forename ' complete under complete along built Vickers 13 along works National built National built National Ragged ' rival National built inside built Joaquín 69 built 69 48 debt around 25 large Mendes Joaquín rival rival reached along storm Joaquín early Joaquín early ri @-@ west during 2 during iron with northward that iron ) templates that Other ) he ; ; said that it that said which Osbert that time time time time through time against against time along during disabled which along which namely with captured which captured with captured . helped . Later , Okinawa . Ordained Agnew Okinawa heavy\",\n",
              " 'contains commander morning meant built 69 built placed built State pointing built talked talked 96 69 placed 69 69 placed debt 96 debt from license have knots 1 tonne who built 1 built who air 1 there alongside air former along former Joaquín early Joaquín head built rival light built director 69 storm light storm former conference storm Ron @-@ built during replaced which license which air that air which templates , iron in Hill . Due Agnew 89 amphibious weights patterns that died which patterns with templates with templates and replaced continued Mendes pool aircraft State exactly State patterns placed public placed',\n",
              " \"debt . hustled , Hugh with Mortier with air while UB @-@ Ricky @-@ air continued iron 55 Charles placed debt assaults State elementary assaults assaults debt license damaged 69 Ohio died State placed placed debt since debt 55 State debt 55 96 State debt since 55 96 State 70 damaged State 70 State light damaged storm light rival director complete director director light storm conference National style National built early light storm conference more finds being inches storm @-@ these Lock Namji yd / 30 under took ' high out projections along patterns ' 13 : 69 while 25 while replaced\",\n",
              " 'reached combination MacArthur built Germaniawerft blood State 70 69 knife knots blood built 330 69 placed 69 placed 69 since placed debt built debt debt placed since since wanted h since 48 placed built placed 69 debt built since debt since obligations 70 built debt built placed 69 69 69 debt built since wanted album since 48 69 48 built 330 96 debt built since debt 69 obligations 48 built placed rival 330 rival 69 70 debt 70 blood long built 48 wanted 330 330 96 built State since wanted and 69 @-@ stop William director storm former light rival light built',\n",
              " \"chances vessels blood cover blood light built light complete Joaquín built along Joaquín rival along rival militarily patterns ' cover ' former complete storm conference storm teams storm died following 55 air projections other built four damaged @-@ built and license continued deteriorate continued soldiers placed 55 55 public State along State while 15 while former which license with license and replaced and replaced . According . Instead some 2008 interrelationships patterns Charles State elementary pointing pointing placed placed placed pointing debt public died pointing Ohio knife State pointing 55 Taylor 96 placed placed pointing State State pointing debt placed pointing debt\",\n",
              " '440 Following Sextus blood rival blood soldiers projections built built 96 69 since debt and 69 ) license ) it ) ; this it of it this ) and ) \\'s one @-@ have signed Manila all on This where not like not not three did another after early did @-@ seventeen @-@ seventeen during UB with UB with earthquakes , UB and Intramuros at ships as damage \" much an 9 \" ] a transported to tow of deviate \\'s influence National song National style \\' style out style National patterns \\' rival National built National 18 early damaged four new all',\n",
              " 'pounder excellent of blood temple Midway , ironclads . action in history of Manila , Manila . @ Agnew Manila 11 ( 720 @. a its an or this or @-@ began which air with UB , Ricky . Later Agnew California practical . aquatic ( Sarawak up balance went high National along recording circumstances CN weapons Joaquín head National along National strengthen early strengthen storm damaged being along being to all two these three episode three has been been made made may had significant had today her yd have significant 1 million 1 / / early patterns @-@ allowing William ri @-@',\n",
              " \"Port ; supported but paper as much also DreamWorks also than be displaced been F.S. significant displaced significant significant much @,@ 500 $ 740 @,@ 8 @. 530 on compared on aquatic are compared ; compared ; there are 11 ; 2 ) million ) million ) million ; Lester into Lester on Nero ( the ( Marines January brought she offspring alongside air nine ' Julius out damaged out built ' built ' damaged while built after 85 @,@ 000 – 2 has 30 – 2 has there January 2 German 1 has have been 000 were 30 's there was\",\n",
              " 'takes light Douglas Douglas MacArthur Hill 330 license 330 330 debt built 69 built built debt since since it infancy during Zrinski which license which schools , died , Kumrovec , Britain , Australia , guitars for Binondo for DreamWorks . According in tons of time this Robert this north of along the UB the sum . Senate , 89 for Río @@UNKNOWN@@ and as \" \" as @@UNKNOWN@@ may @@UNKNOWN@@ of of this later top later and discovered and way and stability at playing at goods at Mendes and goods , Indonesia with chutes with aircraft during chutes during Flanders @-@',\n",
              " 'Palau Hotchkiss Douglas were covered from pitched from a this securities a men , Fats , Río , France and France . France . Later consecrated operations encountered aircraft elementary Charles pointing Ohio pointing State ( 37 ( knots – today 740 million million 48 wanted pointing debt 96 wanted pointing 48 debt 96 State placed State since debt from Mendes – Mendes ( 10th ( 2 @. 0 on Lesnar on 12 are 1 are may her landfall @,@ 000 @. 530 @,@ 000 @,@ a made \" made an next was did \" specimens be L three regions three regions',\n",
              " '2004 remarked 30 blood along patterns \\' built \\' cover along built through built with high @-@ license two air @-@ Armstrong which iron that iron that , for , and @@UNKNOWN@@ continued this dross continued continued into 720 into the one a country at which a done to gather to continued a 52 to gather two halt two squadrons up men \\'s aircraft three minelayers Cope limited along light Joaquín Roath Roath Lock 93 rival to Morakot and replaced at Mendes a erected \" able a week the game of task the influence , although in 2008 with Guatemala , aircraft',\n",
              " 'Let , since with Oman that lines that the this a two , its drew was squadrons at taken \" smuggle a truck its while were head \\'s country two head the air . On of time was start is never is never that the this of @-@ later most Staff was part @-@ all all early National Lock colossal more tubes being 9 Gore 9 more \\'d more finds these 9 early experimented Division pounder storm AA storm Ragged Division along storm crossing National 2 per 7 around of large of loss of Latter the task the members . Throughout .',\n",
              " \"bond attempt Sextus built rival 240 330 may built knots others State assaults 69 debt patterns from license during replaced during iron which UB during license which terms which UB with air with north , Commission and Osbert and barbed . Literature in Belgium in history French state in history of Flanders of Metro in mid seeing time @-@ the all carved area Series 's aircraft three Drinker boats limited National 69 early died four patterns @-@ pounder and UB to track to film continued continued northward consecutive Chicago 69 following Drinker National rival Staff conference these 9 most 9 more conference\",\n",
              " 'Gregory vessels built Julius 69 70 69 330 wanted debt 69 debt 69 placed 48 240 96 placed debt since since since h debt h since debt h assaults 70 patterns light patterns former rival storm 69 alongside 55 and damaged at license a erected \" million was air was Vergil was a an its \" its The its The \" was \" at a @@UNKNOWN@@ an ship \\'s used by country while Butler \\'s friendship Lock replaced would men – soldiers 1 allowing it along it early 1 all 10 12 1 along one a 000 at there a while the',\n",
              " 'At weapons displaced airborne mm around displaced large sinking ... eastward from 96 at sinking from a also an also a its \" also also available were been be had first may be yet three if three than or displaced American today their men were pitched – built 1 of 1 was January \" has an $ was – be taken was days was cute at intended a erected at downgraded a erected at downgraded at occurring a death at decided \" occurring was too \\'s too three Gazan most days most did three sinking or days be days or air were not',\n",
              " 'conquering put torpedo Claudia than individual Type individual cm individual 25 following Hill Xavier rival rival to Ragged two downgraded was described was felt two sinking this along of along the piano to members \" wanted was days at lifted at goods \" DreamWorks \" taken also included \" Josepha be taken also has used ( one ( used is accepted is accepted ( 23 were son ( son – directed would 12 these tropical National along tropical Vickers along only along tropical tropical during during against to high and period at flooding \" million / we like 30 before 1 before win',\n",
              " \"banding zygapophyses large American large American 25 were sinking were men its left were lifted Lock left – now or sinking their bones or sinking or Drinker or album or 69 three days be did be 9 been F.S. $ been significant @,@ 540 $ much $ 90 conference garde narodne Ohio conference debt pointing wanted pointing cm placed pointing placed debt placed debt placed debt pointing placed 96 wanted placed placed placed Mark 96 Mark 96 than 48 from 48 but Namji into paper @. 11 ( 11 were landfall 's squadrons was air was sinking @-@ days @-@ iron which iron\",\n",
              " 'troops @-@ complete which pay which six , license in Hill in Metro . The Hebert The production two squadrons at determined \" Guam \" taken was than also painting were known or purchased were known had they have may had much had 188 – men long 9 more conference record felt storm allowing Division conference these 69 would 66 individual 69 # 69 assaults assaults State damaged damaged rival Xavier rival Xavier along Xavier head along during along and only continued a new a IJN its significant its known was intended from crossed was 11 – 11 if 11 Crude who',\n",
              " 'Some Iraq implemented 13 would built June soldiers after 2015 @,@ 37 – 69 January 69 ( 367 is haunted from the species of tanks in Saturninus in history in place of Mexico of Temple in WWE @@UNKNOWN@@ it said he used Lesnar that guns with belief from signed is part from part to guns of @-@ the @-@ the most , most and first at Agok usually Gore like Gore like Lesnar before focused 30 h / 30 . 71 @. Frances been met @,@ met been 6 @,@ 11 @. 11 made 1 ( have January have 1 had 11 had',\n",
              " \"06 Regiment km during other @-@ higher which license with license and UB , along and barbed of damage proof Commission port while 13 where died before debt 30 schools where allowing through license during terms during templates with iron authorities UB State public schools patterns along rival ' 69 along built through built against 69 through higher ' patterns out 69 until patterns former rival Xavier director Xavier storm light @-@ light during air during UB ) high ) time with north with north and north at damage to Hope a paint its three its American title its title a Beauty\",\n",
              " 'Pierce Rome light Drinker inside 69 light 69 naval 69 at lacked and peaked continued subtle “ State [ State and Ohio . range . Due in Metro . The @@UNKNOWN@@ Jack one some work would work should work did who may work modern who modern like 740 before wanted / h alongside allowing individual damaged rival Joaquín director new storm new storm featured head rival through along through along Vickers only only tropical only all tropical National \\' National head along along eight \\' to tropical to through a line to film a special at along \" with was next this against',\n",
              " 'letter distinctly Irish Edward Edward Edward new new new Roath Edward Joaquín new program Joaquín head morning to eight new bubble National Forum de mm airborne solid displaced 96 from built at downgraded a week a bomb the number the burden . Following , although . Instead Martín followed NFL aircraft along Frederick against 13 along eight Vickers Ragged National Ragged Joaquín to weapons new deteriorate Series 96 detected 55 Ohio Ohio State State Ohio State # survived assaults placed pointing 15 placed 96 died State placed 96 placed State State 15 Ohio following built National Ragged rival Ragged National Ragged storm built',\n",
              " 'commerce against Julius temple temple commentator air knife that built that Britain which kilometre which UB which where which air and 26 and replaced at speed and Mendes @-@ Quartermaster which along @-@ along during his work properties , all , both . , in Temple , tusks @@UNKNOWN@@ , \" , an of a @@UNKNOWN@@ \" . @@UNKNOWN@@ . ) . ) some ) fire from the \" track \" named was tart its painting its crossed from million at surprised as further from Tres as intended may 11 pool / debt @-@ 69 that edging that , , . @@UNKNOWN@@ of',\n",
              " 'similar body 17 blood built since wanted it debt license it plants win there it since it since ; it but it and @@UNKNOWN@@ , continent and said , that , which and that and that and that and and at a at a \" continued \" L a rabbi a lose \" has \" should The $ the scream of melody . burden of operations the breech of members , history , guitars for Holland , Eddie , Jenny , guitars in General in fear . A consecrated early Poteat Division light \\' light \\' storm \\' National National new Roath east',\n",
              " '540 storm cover alongside cover former 55 Douglas 96 State 70 55 built license license State built 69 built debt debt 96 placed debt 69 69 debt debt 69 license assaults debt license debt debt license 69 55 55 69 69 55 debt 96 69 69 55 debt license assaults State h State debt h assaults 70 Ohio 70 cover light built Xavier license Joaquín rival Douglas MacArthur MacArthur Douglas built 69 license debt 69 96 debt 69 55 69 assaults 69 license assaults 69 assaults 55 debt license 55 96 debt built 69 69 since 55 since assaults # 55 assaults',\n",
              " 'NK wish blood AA since blood blood soldiers patterns State built debt from 69 @-@ died and edging to 2008 proof wanted aid stone losses pointing State pointing placed 96 96 Ohio 55 and placed . Mendes Agnew tons aid stone knife placed State pointing wanted State since others since State since debt State placed placed State placed others pointing placed individual State pitched pointing 96 since placed survived placed placed 96 pointing debt since since placed it State that schools it schools that there for material . They in 89 in history , California in Intramuros , followed in Ermita , Kansas',\n",
              " 'complexity commentator blood blood blood AA blood 69 since 69 debt built blood patterns h 69 h assaults debt since h / patterns while patterns during namely with templates during templates ) air ) license @@UNKNOWN@@ 37 \" continued a number an loss this build this image this image that 16 which Stevens with paper from playing was succeeded a men its halt its painting also DreamWorks \" downgraded a point \" received also displaced be succeeded more may may air 240 while 15 where Miyako who wanted are wanted who built about 23 @,@ 000 @. 000 ( 1 – directed',\n",
              " \"when Walker along former patterns light light director director light Xavier Xavier CN species Edward species National species and supported and license @-@ book which iron from chutes @-@ alternatives which rollers during Flanders during rollers Lester along , time , Paco in Paco to north icicles Commission alcohol against 13 ' 69 while 69 while 69 while 69 : 18 after 18 against higher during damaged @-@ ri William Armstrong William Ragged William Joaquín four along National to the an the two the two this @-@ of @-@ the most the later competitive $ competitive would soldiers these Julius German 55 –\",\n",
              " 'Atitlán vessels cover Julius h debt 69 since placed since assaults since soldiers h 69 from license from license at air as it for it , ) and continent at it as @@UNKNOWN@@ @@UNKNOWN@@ said \" that @@UNKNOWN@@ that \" and \" a \" the @@UNKNOWN@@ ( @@UNKNOWN@@ ( used should it by have his first a first the first of later later fear was match was specimens is replaced ( 69 were son was replaced at pleased from smuggle from DreamWorks at succeeded \" smuggle was ordered be described three Drinker Edward head Edward Drinker Edward Drinker morning head morning which',\n",
              " 'games vessels cover / built would 15 would inches would 15 these Joaquín head along along after through through along along against through along along against during tell WWE tell it 30 ) commit it yd said despite @@UNKNOWN@@ a @@UNKNOWN@@ at one a section a pool to DreamWorks to continued , Hall , guitars , General : Craigie some soldiers National style early built all Joaquín National new all Roath storm along storm crossing all along early National National Lock American 000 why 2 were 000 were not its not also these its not also may a men at Mendes from',\n",
              " \"program attempt projections State 70 built 70 built 70 69 built soldiers pointing State placed built 69 debt since debt debt patterns 69 from 69 @-@ knots @-@ built during air @-@ UB @-@ air until ri @-@ complete during built and built @-@ speed @-@ earthquakes during UB @-@ UB @-@ air all earthquakes National rival these built early conference National ri ' allowing head damaged along northward against allowing during to during to during a describe a loss its halt was valued were men its removed its may also painting was air were directed 's men 's Gazan was 69\",\n",
              " \"overhead / cover during air @-@ license during air @-@ license which license , together with show with iron that chutes with iron that namely that 2008 on embarkation that focused , focused and destruction a Mendes 's Mendes 's men two Gazan this attempt which license which Flanders which high with Robert that north that Ricky and Ricky at barbed – death – responsibility have responsibility about 530 / felt ' built four allowing William along early National National Lock National episode these been not been all would not would these did three did three sinking or air were 2004 were\",\n",
              " 'met , @,@ There made this made this series this time this track that the , a intense to Temple \" north was too from north was air from too was responsible was specimens \" cute \" million a rabbi to track and attack . 4 in support @@UNKNOWN@@ California @@UNKNOWN@@ , \" . 5 may most required most days be specimens be ones \" did three days was specimens was cute – son ( 1955 from directed from occurring at occurring – 11 infantry 30 deadly out AA to eight to continued a halt at awarded – 2015 or share was',\n",
              " 'French attempt temple history NY Season Ohio built Ohio built built pointing NY pointing public placed 96 pointing State [ 55 individual patterns pointing 96 debt built 96 placed Ohio 96 placed State State 55 State 55 69 assaults 55 96 State built built built Ohio Ohio built built 55 69 96 55 State State debt license debt debt 69 69 55 State 70 Ohio 70 built forecast 96 light Ohio Xavier 55 Douglas 69 69 assaults State since assaults while 55 : Recommendations @. Illinois @. F.S. @,@ 540 @,@ 740 @. 530 @,@ a been its significant been adapted or',\n",
              " 'of @-@ of most of later the later new time trade against match head Japanese \\' colossal style new head morning head soldiers \\' 13 \\' patterns \\' patterns \\' 13 which h that replaced with templates authorities Britain amphibious Charles State Charles State elementary pointing debt pointing 55 placed public died pitched patterns Charles Charles State placed State Charles placed individual goalkeeper conference State \\' patterns while patterns : 69 @. division track 1 / ) / that Is with Tres against the of \" French @@UNKNOWN@@ of Temple seeing Temple of seeing seeing and fire continued fire tip Division AA',\n",
              " 'pierce attempt blood State light State @-@ light which license @-@ license during air which air , air for film for audiences as reelection as they may setting 400 Monument naval cm much Douglas individual 96 conference others . Russian may Sarawak experienced km pointing km conference 1 public 10 aquatic about aquatic about 18 about 18 @,@ left @,@ left $ 400 $ 740 – 530 1 soldiers it 37 1 wanted / wanted long 55 what wanted from built win replaced that UB , UB that UB with the against this form @-@ nephew and V continued earthquakes 13 until',\n",
              " 'traditional Hed slightly from these \" all a paint \" by be should first did first guaranteed be than or ] or displaced or displaced American did or 2 was release at announced a men the halt . Throughout of Australia , France with 2015 with Gazan with UB and Nero . work the design The film The scream @@UNKNOWN@@ probably it and as and as at as usually said such have well have 30 ; furthermore have they 1 has have $ her may have 400 1 should more made be did been All @,@ may had 540 have 8 are 000']"
            ]
          },
          "metadata": {
            "tags": []
          },
          "execution_count": 6
        }
      ]
    }
  ]
}