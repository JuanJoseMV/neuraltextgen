{
  "nbformat": 4,
  "nbformat_minor": 0,
  "metadata": {
    "colab": {
      "name": "italian_text_generation.ipynb",
      "provenance": [],
      "collapsed_sections": [],
      "toc_visible": true,
      "include_colab_link": true
    },
    "kernelspec": {
      "name": "python3",
      "display_name": "Python 3"
    },
    "language_info": {
      "name": "python"
    },
    "accelerator": "GPU",
    "widgets": {
      "application/vnd.jupyter.widget-state+json": {
        "2967d74605c9446b8ceae530c47d132e": {
          "model_module": "@jupyter-widgets/controls",
          "model_name": "HBoxModel",
          "state": {
            "_view_name": "HBoxView",
            "_dom_classes": [],
            "_model_name": "HBoxModel",
            "_view_module": "@jupyter-widgets/controls",
            "_model_module_version": "1.5.0",
            "_view_count": null,
            "_view_module_version": "1.5.0",
            "box_style": "",
            "layout": "IPY_MODEL_91e354db0de248a0b44aeb458ac92e5b",
            "_model_module": "@jupyter-widgets/controls",
            "children": [
              "IPY_MODEL_122924ad46dd4d35a340cee197b1d4d8",
              "IPY_MODEL_013782757c9f4eb3875c54318846a65f",
              "IPY_MODEL_8945030269ee463f80785dcf5bf7dfb9"
            ]
          }
        },
        "91e354db0de248a0b44aeb458ac92e5b": {
          "model_module": "@jupyter-widgets/base",
          "model_name": "LayoutModel",
          "state": {
            "_view_name": "LayoutView",
            "grid_template_rows": null,
            "right": null,
            "justify_content": null,
            "_view_module": "@jupyter-widgets/base",
            "overflow": null,
            "_model_module_version": "1.2.0",
            "_view_count": null,
            "flex_flow": null,
            "width": null,
            "min_width": null,
            "border": null,
            "align_items": null,
            "bottom": null,
            "_model_module": "@jupyter-widgets/base",
            "top": null,
            "grid_column": null,
            "overflow_y": null,
            "overflow_x": null,
            "grid_auto_flow": null,
            "grid_area": null,
            "grid_template_columns": null,
            "flex": null,
            "_model_name": "LayoutModel",
            "justify_items": null,
            "grid_row": null,
            "max_height": null,
            "align_content": null,
            "visibility": null,
            "align_self": null,
            "height": null,
            "min_height": null,
            "padding": null,
            "grid_auto_rows": null,
            "grid_gap": null,
            "max_width": null,
            "order": null,
            "_view_module_version": "1.2.0",
            "grid_template_areas": null,
            "object_position": null,
            "object_fit": null,
            "grid_auto_columns": null,
            "margin": null,
            "display": null,
            "left": null
          }
        },
        "122924ad46dd4d35a340cee197b1d4d8": {
          "model_module": "@jupyter-widgets/controls",
          "model_name": "HTMLModel",
          "state": {
            "_view_name": "HTMLView",
            "style": "IPY_MODEL_c8b92845a0a34fa79243c1b991c8f754",
            "_dom_classes": [],
            "description": "",
            "_model_name": "HTMLModel",
            "placeholder": "​",
            "_view_module": "@jupyter-widgets/controls",
            "_model_module_version": "1.5.0",
            "value": "Downloading: 100%",
            "_view_count": null,
            "_view_module_version": "1.5.0",
            "description_tooltip": null,
            "_model_module": "@jupyter-widgets/controls",
            "layout": "IPY_MODEL_0c9ff2e33bd54cc9b507661c2442bb0c"
          }
        },
        "013782757c9f4eb3875c54318846a65f": {
          "model_module": "@jupyter-widgets/controls",
          "model_name": "FloatProgressModel",
          "state": {
            "_view_name": "ProgressView",
            "style": "IPY_MODEL_bdcffdaa95a64eb0afc59b385173b89d",
            "_dom_classes": [],
            "description": "",
            "_model_name": "FloatProgressModel",
            "bar_style": "success",
            "max": 570,
            "_view_module": "@jupyter-widgets/controls",
            "_model_module_version": "1.5.0",
            "value": 570,
            "_view_count": null,
            "_view_module_version": "1.5.0",
            "orientation": "horizontal",
            "min": 0,
            "description_tooltip": null,
            "_model_module": "@jupyter-widgets/controls",
            "layout": "IPY_MODEL_a1b54b9ab93f40ecae7b08e70609d026"
          }
        },
        "8945030269ee463f80785dcf5bf7dfb9": {
          "model_module": "@jupyter-widgets/controls",
          "model_name": "HTMLModel",
          "state": {
            "_view_name": "HTMLView",
            "style": "IPY_MODEL_a171bdba0f9e4daa9902110d62b6374f",
            "_dom_classes": [],
            "description": "",
            "_model_name": "HTMLModel",
            "placeholder": "​",
            "_view_module": "@jupyter-widgets/controls",
            "_model_module_version": "1.5.0",
            "value": " 570/570 [00:00&lt;00:00, 14.4kB/s]",
            "_view_count": null,
            "_view_module_version": "1.5.0",
            "description_tooltip": null,
            "_model_module": "@jupyter-widgets/controls",
            "layout": "IPY_MODEL_c001882c649b4431a459a1db20d54184"
          }
        },
        "c8b92845a0a34fa79243c1b991c8f754": {
          "model_module": "@jupyter-widgets/controls",
          "model_name": "DescriptionStyleModel",
          "state": {
            "_view_name": "StyleView",
            "_model_name": "DescriptionStyleModel",
            "description_width": "",
            "_view_module": "@jupyter-widgets/base",
            "_model_module_version": "1.5.0",
            "_view_count": null,
            "_view_module_version": "1.2.0",
            "_model_module": "@jupyter-widgets/controls"
          }
        },
        "0c9ff2e33bd54cc9b507661c2442bb0c": {
          "model_module": "@jupyter-widgets/base",
          "model_name": "LayoutModel",
          "state": {
            "_view_name": "LayoutView",
            "grid_template_rows": null,
            "right": null,
            "justify_content": null,
            "_view_module": "@jupyter-widgets/base",
            "overflow": null,
            "_model_module_version": "1.2.0",
            "_view_count": null,
            "flex_flow": null,
            "width": null,
            "min_width": null,
            "border": null,
            "align_items": null,
            "bottom": null,
            "_model_module": "@jupyter-widgets/base",
            "top": null,
            "grid_column": null,
            "overflow_y": null,
            "overflow_x": null,
            "grid_auto_flow": null,
            "grid_area": null,
            "grid_template_columns": null,
            "flex": null,
            "_model_name": "LayoutModel",
            "justify_items": null,
            "grid_row": null,
            "max_height": null,
            "align_content": null,
            "visibility": null,
            "align_self": null,
            "height": null,
            "min_height": null,
            "padding": null,
            "grid_auto_rows": null,
            "grid_gap": null,
            "max_width": null,
            "order": null,
            "_view_module_version": "1.2.0",
            "grid_template_areas": null,
            "object_position": null,
            "object_fit": null,
            "grid_auto_columns": null,
            "margin": null,
            "display": null,
            "left": null
          }
        },
        "bdcffdaa95a64eb0afc59b385173b89d": {
          "model_module": "@jupyter-widgets/controls",
          "model_name": "ProgressStyleModel",
          "state": {
            "_view_name": "StyleView",
            "_model_name": "ProgressStyleModel",
            "description_width": "",
            "_view_module": "@jupyter-widgets/base",
            "_model_module_version": "1.5.0",
            "_view_count": null,
            "_view_module_version": "1.2.0",
            "bar_color": null,
            "_model_module": "@jupyter-widgets/controls"
          }
        },
        "a1b54b9ab93f40ecae7b08e70609d026": {
          "model_module": "@jupyter-widgets/base",
          "model_name": "LayoutModel",
          "state": {
            "_view_name": "LayoutView",
            "grid_template_rows": null,
            "right": null,
            "justify_content": null,
            "_view_module": "@jupyter-widgets/base",
            "overflow": null,
            "_model_module_version": "1.2.0",
            "_view_count": null,
            "flex_flow": null,
            "width": null,
            "min_width": null,
            "border": null,
            "align_items": null,
            "bottom": null,
            "_model_module": "@jupyter-widgets/base",
            "top": null,
            "grid_column": null,
            "overflow_y": null,
            "overflow_x": null,
            "grid_auto_flow": null,
            "grid_area": null,
            "grid_template_columns": null,
            "flex": null,
            "_model_name": "LayoutModel",
            "justify_items": null,
            "grid_row": null,
            "max_height": null,
            "align_content": null,
            "visibility": null,
            "align_self": null,
            "height": null,
            "min_height": null,
            "padding": null,
            "grid_auto_rows": null,
            "grid_gap": null,
            "max_width": null,
            "order": null,
            "_view_module_version": "1.2.0",
            "grid_template_areas": null,
            "object_position": null,
            "object_fit": null,
            "grid_auto_columns": null,
            "margin": null,
            "display": null,
            "left": null
          }
        },
        "a171bdba0f9e4daa9902110d62b6374f": {
          "model_module": "@jupyter-widgets/controls",
          "model_name": "DescriptionStyleModel",
          "state": {
            "_view_name": "StyleView",
            "_model_name": "DescriptionStyleModel",
            "description_width": "",
            "_view_module": "@jupyter-widgets/base",
            "_model_module_version": "1.5.0",
            "_view_count": null,
            "_view_module_version": "1.2.0",
            "_model_module": "@jupyter-widgets/controls"
          }
        },
        "c001882c649b4431a459a1db20d54184": {
          "model_module": "@jupyter-widgets/base",
          "model_name": "LayoutModel",
          "state": {
            "_view_name": "LayoutView",
            "grid_template_rows": null,
            "right": null,
            "justify_content": null,
            "_view_module": "@jupyter-widgets/base",
            "overflow": null,
            "_model_module_version": "1.2.0",
            "_view_count": null,
            "flex_flow": null,
            "width": null,
            "min_width": null,
            "border": null,
            "align_items": null,
            "bottom": null,
            "_model_module": "@jupyter-widgets/base",
            "top": null,
            "grid_column": null,
            "overflow_y": null,
            "overflow_x": null,
            "grid_auto_flow": null,
            "grid_area": null,
            "grid_template_columns": null,
            "flex": null,
            "_model_name": "LayoutModel",
            "justify_items": null,
            "grid_row": null,
            "max_height": null,
            "align_content": null,
            "visibility": null,
            "align_self": null,
            "height": null,
            "min_height": null,
            "padding": null,
            "grid_auto_rows": null,
            "grid_gap": null,
            "max_width": null,
            "order": null,
            "_view_module_version": "1.2.0",
            "grid_template_areas": null,
            "object_position": null,
            "object_fit": null,
            "grid_auto_columns": null,
            "margin": null,
            "display": null,
            "left": null
          }
        },
        "77a0e5fca0c246b396a81d5a06d5d8f2": {
          "model_module": "@jupyter-widgets/controls",
          "model_name": "HBoxModel",
          "state": {
            "_view_name": "HBoxView",
            "_dom_classes": [],
            "_model_name": "HBoxModel",
            "_view_module": "@jupyter-widgets/controls",
            "_model_module_version": "1.5.0",
            "_view_count": null,
            "_view_module_version": "1.5.0",
            "box_style": "",
            "layout": "IPY_MODEL_d4adb1f814904a0a9f764e1c1cd2bb0c",
            "_model_module": "@jupyter-widgets/controls",
            "children": [
              "IPY_MODEL_7687dbcca5bb43cfac41787293831f69",
              "IPY_MODEL_29572f023dd342a6a6859b88ed514d11",
              "IPY_MODEL_c2b4d906edfb481ab9bc88131bdcdceb"
            ]
          }
        },
        "d4adb1f814904a0a9f764e1c1cd2bb0c": {
          "model_module": "@jupyter-widgets/base",
          "model_name": "LayoutModel",
          "state": {
            "_view_name": "LayoutView",
            "grid_template_rows": null,
            "right": null,
            "justify_content": null,
            "_view_module": "@jupyter-widgets/base",
            "overflow": null,
            "_model_module_version": "1.2.0",
            "_view_count": null,
            "flex_flow": null,
            "width": null,
            "min_width": null,
            "border": null,
            "align_items": null,
            "bottom": null,
            "_model_module": "@jupyter-widgets/base",
            "top": null,
            "grid_column": null,
            "overflow_y": null,
            "overflow_x": null,
            "grid_auto_flow": null,
            "grid_area": null,
            "grid_template_columns": null,
            "flex": null,
            "_model_name": "LayoutModel",
            "justify_items": null,
            "grid_row": null,
            "max_height": null,
            "align_content": null,
            "visibility": null,
            "align_self": null,
            "height": null,
            "min_height": null,
            "padding": null,
            "grid_auto_rows": null,
            "grid_gap": null,
            "max_width": null,
            "order": null,
            "_view_module_version": "1.2.0",
            "grid_template_areas": null,
            "object_position": null,
            "object_fit": null,
            "grid_auto_columns": null,
            "margin": null,
            "display": null,
            "left": null
          }
        },
        "7687dbcca5bb43cfac41787293831f69": {
          "model_module": "@jupyter-widgets/controls",
          "model_name": "HTMLModel",
          "state": {
            "_view_name": "HTMLView",
            "style": "IPY_MODEL_b6d7d7189c7442d78705b6caa7bf1931",
            "_dom_classes": [],
            "description": "",
            "_model_name": "HTMLModel",
            "placeholder": "​",
            "_view_module": "@jupyter-widgets/controls",
            "_model_module_version": "1.5.0",
            "value": "Downloading: 100%",
            "_view_count": null,
            "_view_module_version": "1.5.0",
            "description_tooltip": null,
            "_model_module": "@jupyter-widgets/controls",
            "layout": "IPY_MODEL_0fa06b36853542f582c7dc5c1c5d77fe"
          }
        },
        "29572f023dd342a6a6859b88ed514d11": {
          "model_module": "@jupyter-widgets/controls",
          "model_name": "FloatProgressModel",
          "state": {
            "_view_name": "ProgressView",
            "style": "IPY_MODEL_94ba2a11cb0849f1ad9b8b7a43eefde2",
            "_dom_classes": [],
            "description": "",
            "_model_name": "FloatProgressModel",
            "bar_style": "success",
            "max": 440473133,
            "_view_module": "@jupyter-widgets/controls",
            "_model_module_version": "1.5.0",
            "value": 440473133,
            "_view_count": null,
            "_view_module_version": "1.5.0",
            "orientation": "horizontal",
            "min": 0,
            "description_tooltip": null,
            "_model_module": "@jupyter-widgets/controls",
            "layout": "IPY_MODEL_c7148505b36c47f49a134ead2e9bee1a"
          }
        },
        "c2b4d906edfb481ab9bc88131bdcdceb": {
          "model_module": "@jupyter-widgets/controls",
          "model_name": "HTMLModel",
          "state": {
            "_view_name": "HTMLView",
            "style": "IPY_MODEL_80d6018e0629406b83cf7ab76f3768b8",
            "_dom_classes": [],
            "description": "",
            "_model_name": "HTMLModel",
            "placeholder": "​",
            "_view_module": "@jupyter-widgets/controls",
            "_model_module_version": "1.5.0",
            "value": " 440M/440M [00:08&lt;00:00, 46.9MB/s]",
            "_view_count": null,
            "_view_module_version": "1.5.0",
            "description_tooltip": null,
            "_model_module": "@jupyter-widgets/controls",
            "layout": "IPY_MODEL_6c4aba6d6fdf4c8a8b747a4d58179408"
          }
        },
        "b6d7d7189c7442d78705b6caa7bf1931": {
          "model_module": "@jupyter-widgets/controls",
          "model_name": "DescriptionStyleModel",
          "state": {
            "_view_name": "StyleView",
            "_model_name": "DescriptionStyleModel",
            "description_width": "",
            "_view_module": "@jupyter-widgets/base",
            "_model_module_version": "1.5.0",
            "_view_count": null,
            "_view_module_version": "1.2.0",
            "_model_module": "@jupyter-widgets/controls"
          }
        },
        "0fa06b36853542f582c7dc5c1c5d77fe": {
          "model_module": "@jupyter-widgets/base",
          "model_name": "LayoutModel",
          "state": {
            "_view_name": "LayoutView",
            "grid_template_rows": null,
            "right": null,
            "justify_content": null,
            "_view_module": "@jupyter-widgets/base",
            "overflow": null,
            "_model_module_version": "1.2.0",
            "_view_count": null,
            "flex_flow": null,
            "width": null,
            "min_width": null,
            "border": null,
            "align_items": null,
            "bottom": null,
            "_model_module": "@jupyter-widgets/base",
            "top": null,
            "grid_column": null,
            "overflow_y": null,
            "overflow_x": null,
            "grid_auto_flow": null,
            "grid_area": null,
            "grid_template_columns": null,
            "flex": null,
            "_model_name": "LayoutModel",
            "justify_items": null,
            "grid_row": null,
            "max_height": null,
            "align_content": null,
            "visibility": null,
            "align_self": null,
            "height": null,
            "min_height": null,
            "padding": null,
            "grid_auto_rows": null,
            "grid_gap": null,
            "max_width": null,
            "order": null,
            "_view_module_version": "1.2.0",
            "grid_template_areas": null,
            "object_position": null,
            "object_fit": null,
            "grid_auto_columns": null,
            "margin": null,
            "display": null,
            "left": null
          }
        },
        "94ba2a11cb0849f1ad9b8b7a43eefde2": {
          "model_module": "@jupyter-widgets/controls",
          "model_name": "ProgressStyleModel",
          "state": {
            "_view_name": "StyleView",
            "_model_name": "ProgressStyleModel",
            "description_width": "",
            "_view_module": "@jupyter-widgets/base",
            "_model_module_version": "1.5.0",
            "_view_count": null,
            "_view_module_version": "1.2.0",
            "bar_color": null,
            "_model_module": "@jupyter-widgets/controls"
          }
        },
        "c7148505b36c47f49a134ead2e9bee1a": {
          "model_module": "@jupyter-widgets/base",
          "model_name": "LayoutModel",
          "state": {
            "_view_name": "LayoutView",
            "grid_template_rows": null,
            "right": null,
            "justify_content": null,
            "_view_module": "@jupyter-widgets/base",
            "overflow": null,
            "_model_module_version": "1.2.0",
            "_view_count": null,
            "flex_flow": null,
            "width": null,
            "min_width": null,
            "border": null,
            "align_items": null,
            "bottom": null,
            "_model_module": "@jupyter-widgets/base",
            "top": null,
            "grid_column": null,
            "overflow_y": null,
            "overflow_x": null,
            "grid_auto_flow": null,
            "grid_area": null,
            "grid_template_columns": null,
            "flex": null,
            "_model_name": "LayoutModel",
            "justify_items": null,
            "grid_row": null,
            "max_height": null,
            "align_content": null,
            "visibility": null,
            "align_self": null,
            "height": null,
            "min_height": null,
            "padding": null,
            "grid_auto_rows": null,
            "grid_gap": null,
            "max_width": null,
            "order": null,
            "_view_module_version": "1.2.0",
            "grid_template_areas": null,
            "object_position": null,
            "object_fit": null,
            "grid_auto_columns": null,
            "margin": null,
            "display": null,
            "left": null
          }
        },
        "80d6018e0629406b83cf7ab76f3768b8": {
          "model_module": "@jupyter-widgets/controls",
          "model_name": "DescriptionStyleModel",
          "state": {
            "_view_name": "StyleView",
            "_model_name": "DescriptionStyleModel",
            "description_width": "",
            "_view_module": "@jupyter-widgets/base",
            "_model_module_version": "1.5.0",
            "_view_count": null,
            "_view_module_version": "1.2.0",
            "_model_module": "@jupyter-widgets/controls"
          }
        },
        "6c4aba6d6fdf4c8a8b747a4d58179408": {
          "model_module": "@jupyter-widgets/base",
          "model_name": "LayoutModel",
          "state": {
            "_view_name": "LayoutView",
            "grid_template_rows": null,
            "right": null,
            "justify_content": null,
            "_view_module": "@jupyter-widgets/base",
            "overflow": null,
            "_model_module_version": "1.2.0",
            "_view_count": null,
            "flex_flow": null,
            "width": null,
            "min_width": null,
            "border": null,
            "align_items": null,
            "bottom": null,
            "_model_module": "@jupyter-widgets/base",
            "top": null,
            "grid_column": null,
            "overflow_y": null,
            "overflow_x": null,
            "grid_auto_flow": null,
            "grid_area": null,
            "grid_template_columns": null,
            "flex": null,
            "_model_name": "LayoutModel",
            "justify_items": null,
            "grid_row": null,
            "max_height": null,
            "align_content": null,
            "visibility": null,
            "align_self": null,
            "height": null,
            "min_height": null,
            "padding": null,
            "grid_auto_rows": null,
            "grid_gap": null,
            "max_width": null,
            "order": null,
            "_view_module_version": "1.2.0",
            "grid_template_areas": null,
            "object_position": null,
            "object_fit": null,
            "grid_auto_columns": null,
            "margin": null,
            "display": null,
            "left": null
          }
        },
        "970bfa44e656479799e870a80fc09d3c": {
          "model_module": "@jupyter-widgets/controls",
          "model_name": "HBoxModel",
          "state": {
            "_view_name": "HBoxView",
            "_dom_classes": [],
            "_model_name": "HBoxModel",
            "_view_module": "@jupyter-widgets/controls",
            "_model_module_version": "1.5.0",
            "_view_count": null,
            "_view_module_version": "1.5.0",
            "box_style": "",
            "layout": "IPY_MODEL_ddc90a4e86c546ba9fa27055e6a5962e",
            "_model_module": "@jupyter-widgets/controls",
            "children": [
              "IPY_MODEL_84f3abe7d6094dc1ac1564dd9d26f5da",
              "IPY_MODEL_1be6485eaf0e4806a656a6c8b42e0264",
              "IPY_MODEL_e6463a138cdc409d84c14009d8d63386"
            ]
          }
        },
        "ddc90a4e86c546ba9fa27055e6a5962e": {
          "model_module": "@jupyter-widgets/base",
          "model_name": "LayoutModel",
          "state": {
            "_view_name": "LayoutView",
            "grid_template_rows": null,
            "right": null,
            "justify_content": null,
            "_view_module": "@jupyter-widgets/base",
            "overflow": null,
            "_model_module_version": "1.2.0",
            "_view_count": null,
            "flex_flow": null,
            "width": null,
            "min_width": null,
            "border": null,
            "align_items": null,
            "bottom": null,
            "_model_module": "@jupyter-widgets/base",
            "top": null,
            "grid_column": null,
            "overflow_y": null,
            "overflow_x": null,
            "grid_auto_flow": null,
            "grid_area": null,
            "grid_template_columns": null,
            "flex": null,
            "_model_name": "LayoutModel",
            "justify_items": null,
            "grid_row": null,
            "max_height": null,
            "align_content": null,
            "visibility": null,
            "align_self": null,
            "height": null,
            "min_height": null,
            "padding": null,
            "grid_auto_rows": null,
            "grid_gap": null,
            "max_width": null,
            "order": null,
            "_view_module_version": "1.2.0",
            "grid_template_areas": null,
            "object_position": null,
            "object_fit": null,
            "grid_auto_columns": null,
            "margin": null,
            "display": null,
            "left": null
          }
        },
        "84f3abe7d6094dc1ac1564dd9d26f5da": {
          "model_module": "@jupyter-widgets/controls",
          "model_name": "HTMLModel",
          "state": {
            "_view_name": "HTMLView",
            "style": "IPY_MODEL_f93d91afa4c1411d9787b1e7cc167359",
            "_dom_classes": [],
            "description": "",
            "_model_name": "HTMLModel",
            "placeholder": "​",
            "_view_module": "@jupyter-widgets/controls",
            "_model_module_version": "1.5.0",
            "value": "Downloading: 100%",
            "_view_count": null,
            "_view_module_version": "1.5.0",
            "description_tooltip": null,
            "_model_module": "@jupyter-widgets/controls",
            "layout": "IPY_MODEL_7251c6fbec5347188873363f8a055dfe"
          }
        },
        "1be6485eaf0e4806a656a6c8b42e0264": {
          "model_module": "@jupyter-widgets/controls",
          "model_name": "FloatProgressModel",
          "state": {
            "_view_name": "ProgressView",
            "style": "IPY_MODEL_74b574d1f574464b85800e2df00185f6",
            "_dom_classes": [],
            "description": "",
            "_model_name": "FloatProgressModel",
            "bar_style": "success",
            "max": 231508,
            "_view_module": "@jupyter-widgets/controls",
            "_model_module_version": "1.5.0",
            "value": 231508,
            "_view_count": null,
            "_view_module_version": "1.5.0",
            "orientation": "horizontal",
            "min": 0,
            "description_tooltip": null,
            "_model_module": "@jupyter-widgets/controls",
            "layout": "IPY_MODEL_6a42d3bb0b854dda8d6a9a1171e94472"
          }
        },
        "e6463a138cdc409d84c14009d8d63386": {
          "model_module": "@jupyter-widgets/controls",
          "model_name": "HTMLModel",
          "state": {
            "_view_name": "HTMLView",
            "style": "IPY_MODEL_8705f9993ca04476882260e1156c064c",
            "_dom_classes": [],
            "description": "",
            "_model_name": "HTMLModel",
            "placeholder": "​",
            "_view_module": "@jupyter-widgets/controls",
            "_model_module_version": "1.5.0",
            "value": " 232k/232k [00:00&lt;00:00, 1.36MB/s]",
            "_view_count": null,
            "_view_module_version": "1.5.0",
            "description_tooltip": null,
            "_model_module": "@jupyter-widgets/controls",
            "layout": "IPY_MODEL_08518803c1674f53a9f0047ef009f942"
          }
        },
        "f93d91afa4c1411d9787b1e7cc167359": {
          "model_module": "@jupyter-widgets/controls",
          "model_name": "DescriptionStyleModel",
          "state": {
            "_view_name": "StyleView",
            "_model_name": "DescriptionStyleModel",
            "description_width": "",
            "_view_module": "@jupyter-widgets/base",
            "_model_module_version": "1.5.0",
            "_view_count": null,
            "_view_module_version": "1.2.0",
            "_model_module": "@jupyter-widgets/controls"
          }
        },
        "7251c6fbec5347188873363f8a055dfe": {
          "model_module": "@jupyter-widgets/base",
          "model_name": "LayoutModel",
          "state": {
            "_view_name": "LayoutView",
            "grid_template_rows": null,
            "right": null,
            "justify_content": null,
            "_view_module": "@jupyter-widgets/base",
            "overflow": null,
            "_model_module_version": "1.2.0",
            "_view_count": null,
            "flex_flow": null,
            "width": null,
            "min_width": null,
            "border": null,
            "align_items": null,
            "bottom": null,
            "_model_module": "@jupyter-widgets/base",
            "top": null,
            "grid_column": null,
            "overflow_y": null,
            "overflow_x": null,
            "grid_auto_flow": null,
            "grid_area": null,
            "grid_template_columns": null,
            "flex": null,
            "_model_name": "LayoutModel",
            "justify_items": null,
            "grid_row": null,
            "max_height": null,
            "align_content": null,
            "visibility": null,
            "align_self": null,
            "height": null,
            "min_height": null,
            "padding": null,
            "grid_auto_rows": null,
            "grid_gap": null,
            "max_width": null,
            "order": null,
            "_view_module_version": "1.2.0",
            "grid_template_areas": null,
            "object_position": null,
            "object_fit": null,
            "grid_auto_columns": null,
            "margin": null,
            "display": null,
            "left": null
          }
        },
        "74b574d1f574464b85800e2df00185f6": {
          "model_module": "@jupyter-widgets/controls",
          "model_name": "ProgressStyleModel",
          "state": {
            "_view_name": "StyleView",
            "_model_name": "ProgressStyleModel",
            "description_width": "",
            "_view_module": "@jupyter-widgets/base",
            "_model_module_version": "1.5.0",
            "_view_count": null,
            "_view_module_version": "1.2.0",
            "bar_color": null,
            "_model_module": "@jupyter-widgets/controls"
          }
        },
        "6a42d3bb0b854dda8d6a9a1171e94472": {
          "model_module": "@jupyter-widgets/base",
          "model_name": "LayoutModel",
          "state": {
            "_view_name": "LayoutView",
            "grid_template_rows": null,
            "right": null,
            "justify_content": null,
            "_view_module": "@jupyter-widgets/base",
            "overflow": null,
            "_model_module_version": "1.2.0",
            "_view_count": null,
            "flex_flow": null,
            "width": null,
            "min_width": null,
            "border": null,
            "align_items": null,
            "bottom": null,
            "_model_module": "@jupyter-widgets/base",
            "top": null,
            "grid_column": null,
            "overflow_y": null,
            "overflow_x": null,
            "grid_auto_flow": null,
            "grid_area": null,
            "grid_template_columns": null,
            "flex": null,
            "_model_name": "LayoutModel",
            "justify_items": null,
            "grid_row": null,
            "max_height": null,
            "align_content": null,
            "visibility": null,
            "align_self": null,
            "height": null,
            "min_height": null,
            "padding": null,
            "grid_auto_rows": null,
            "grid_gap": null,
            "max_width": null,
            "order": null,
            "_view_module_version": "1.2.0",
            "grid_template_areas": null,
            "object_position": null,
            "object_fit": null,
            "grid_auto_columns": null,
            "margin": null,
            "display": null,
            "left": null
          }
        },
        "8705f9993ca04476882260e1156c064c": {
          "model_module": "@jupyter-widgets/controls",
          "model_name": "DescriptionStyleModel",
          "state": {
            "_view_name": "StyleView",
            "_model_name": "DescriptionStyleModel",
            "description_width": "",
            "_view_module": "@jupyter-widgets/base",
            "_model_module_version": "1.5.0",
            "_view_count": null,
            "_view_module_version": "1.2.0",
            "_model_module": "@jupyter-widgets/controls"
          }
        },
        "08518803c1674f53a9f0047ef009f942": {
          "model_module": "@jupyter-widgets/base",
          "model_name": "LayoutModel",
          "state": {
            "_view_name": "LayoutView",
            "grid_template_rows": null,
            "right": null,
            "justify_content": null,
            "_view_module": "@jupyter-widgets/base",
            "overflow": null,
            "_model_module_version": "1.2.0",
            "_view_count": null,
            "flex_flow": null,
            "width": null,
            "min_width": null,
            "border": null,
            "align_items": null,
            "bottom": null,
            "_model_module": "@jupyter-widgets/base",
            "top": null,
            "grid_column": null,
            "overflow_y": null,
            "overflow_x": null,
            "grid_auto_flow": null,
            "grid_area": null,
            "grid_template_columns": null,
            "flex": null,
            "_model_name": "LayoutModel",
            "justify_items": null,
            "grid_row": null,
            "max_height": null,
            "align_content": null,
            "visibility": null,
            "align_self": null,
            "height": null,
            "min_height": null,
            "padding": null,
            "grid_auto_rows": null,
            "grid_gap": null,
            "max_width": null,
            "order": null,
            "_view_module_version": "1.2.0",
            "grid_template_areas": null,
            "object_position": null,
            "object_fit": null,
            "grid_auto_columns": null,
            "margin": null,
            "display": null,
            "left": null
          }
        },
        "a91f340b4b204449a637da0d486d9ce0": {
          "model_module": "@jupyter-widgets/controls",
          "model_name": "HBoxModel",
          "state": {
            "_view_name": "HBoxView",
            "_dom_classes": [],
            "_model_name": "HBoxModel",
            "_view_module": "@jupyter-widgets/controls",
            "_model_module_version": "1.5.0",
            "_view_count": null,
            "_view_module_version": "1.5.0",
            "box_style": "",
            "layout": "IPY_MODEL_6d8ac405c706450ba7ef9f2ecf899a84",
            "_model_module": "@jupyter-widgets/controls",
            "children": [
              "IPY_MODEL_0e8ef62c43c14309ba4ebc22ed8ee7c0",
              "IPY_MODEL_c845f3a0a3894bd6a5a661e473363239",
              "IPY_MODEL_69209073b27e4f85b212dc542add2e1e"
            ]
          }
        },
        "6d8ac405c706450ba7ef9f2ecf899a84": {
          "model_module": "@jupyter-widgets/base",
          "model_name": "LayoutModel",
          "state": {
            "_view_name": "LayoutView",
            "grid_template_rows": null,
            "right": null,
            "justify_content": null,
            "_view_module": "@jupyter-widgets/base",
            "overflow": null,
            "_model_module_version": "1.2.0",
            "_view_count": null,
            "flex_flow": null,
            "width": null,
            "min_width": null,
            "border": null,
            "align_items": null,
            "bottom": null,
            "_model_module": "@jupyter-widgets/base",
            "top": null,
            "grid_column": null,
            "overflow_y": null,
            "overflow_x": null,
            "grid_auto_flow": null,
            "grid_area": null,
            "grid_template_columns": null,
            "flex": null,
            "_model_name": "LayoutModel",
            "justify_items": null,
            "grid_row": null,
            "max_height": null,
            "align_content": null,
            "visibility": null,
            "align_self": null,
            "height": null,
            "min_height": null,
            "padding": null,
            "grid_auto_rows": null,
            "grid_gap": null,
            "max_width": null,
            "order": null,
            "_view_module_version": "1.2.0",
            "grid_template_areas": null,
            "object_position": null,
            "object_fit": null,
            "grid_auto_columns": null,
            "margin": null,
            "display": null,
            "left": null
          }
        },
        "0e8ef62c43c14309ba4ebc22ed8ee7c0": {
          "model_module": "@jupyter-widgets/controls",
          "model_name": "HTMLModel",
          "state": {
            "_view_name": "HTMLView",
            "style": "IPY_MODEL_ad3944b3825a427d8e0d1215cdb63506",
            "_dom_classes": [],
            "description": "",
            "_model_name": "HTMLModel",
            "placeholder": "​",
            "_view_module": "@jupyter-widgets/controls",
            "_model_module_version": "1.5.0",
            "value": "Downloading: 100%",
            "_view_count": null,
            "_view_module_version": "1.5.0",
            "description_tooltip": null,
            "_model_module": "@jupyter-widgets/controls",
            "layout": "IPY_MODEL_3a88d05c96bb4e3697832fcac46c50df"
          }
        },
        "c845f3a0a3894bd6a5a661e473363239": {
          "model_module": "@jupyter-widgets/controls",
          "model_name": "FloatProgressModel",
          "state": {
            "_view_name": "ProgressView",
            "style": "IPY_MODEL_b1fbf5e48885446b90567920d90883cb",
            "_dom_classes": [],
            "description": "",
            "_model_name": "FloatProgressModel",
            "bar_style": "success",
            "max": 466062,
            "_view_module": "@jupyter-widgets/controls",
            "_model_module_version": "1.5.0",
            "value": 466062,
            "_view_count": null,
            "_view_module_version": "1.5.0",
            "orientation": "horizontal",
            "min": 0,
            "description_tooltip": null,
            "_model_module": "@jupyter-widgets/controls",
            "layout": "IPY_MODEL_845f6c61d83140a583ae151cd00cd6ac"
          }
        },
        "69209073b27e4f85b212dc542add2e1e": {
          "model_module": "@jupyter-widgets/controls",
          "model_name": "HTMLModel",
          "state": {
            "_view_name": "HTMLView",
            "style": "IPY_MODEL_e44d727dc49246e0aeff29f71a4faec7",
            "_dom_classes": [],
            "description": "",
            "_model_name": "HTMLModel",
            "placeholder": "​",
            "_view_module": "@jupyter-widgets/controls",
            "_model_module_version": "1.5.0",
            "value": " 466k/466k [00:00&lt;00:00, 1.54MB/s]",
            "_view_count": null,
            "_view_module_version": "1.5.0",
            "description_tooltip": null,
            "_model_module": "@jupyter-widgets/controls",
            "layout": "IPY_MODEL_c50e2f09fa204dcaa402312d2d7ea722"
          }
        },
        "ad3944b3825a427d8e0d1215cdb63506": {
          "model_module": "@jupyter-widgets/controls",
          "model_name": "DescriptionStyleModel",
          "state": {
            "_view_name": "StyleView",
            "_model_name": "DescriptionStyleModel",
            "description_width": "",
            "_view_module": "@jupyter-widgets/base",
            "_model_module_version": "1.5.0",
            "_view_count": null,
            "_view_module_version": "1.2.0",
            "_model_module": "@jupyter-widgets/controls"
          }
        },
        "3a88d05c96bb4e3697832fcac46c50df": {
          "model_module": "@jupyter-widgets/base",
          "model_name": "LayoutModel",
          "state": {
            "_view_name": "LayoutView",
            "grid_template_rows": null,
            "right": null,
            "justify_content": null,
            "_view_module": "@jupyter-widgets/base",
            "overflow": null,
            "_model_module_version": "1.2.0",
            "_view_count": null,
            "flex_flow": null,
            "width": null,
            "min_width": null,
            "border": null,
            "align_items": null,
            "bottom": null,
            "_model_module": "@jupyter-widgets/base",
            "top": null,
            "grid_column": null,
            "overflow_y": null,
            "overflow_x": null,
            "grid_auto_flow": null,
            "grid_area": null,
            "grid_template_columns": null,
            "flex": null,
            "_model_name": "LayoutModel",
            "justify_items": null,
            "grid_row": null,
            "max_height": null,
            "align_content": null,
            "visibility": null,
            "align_self": null,
            "height": null,
            "min_height": null,
            "padding": null,
            "grid_auto_rows": null,
            "grid_gap": null,
            "max_width": null,
            "order": null,
            "_view_module_version": "1.2.0",
            "grid_template_areas": null,
            "object_position": null,
            "object_fit": null,
            "grid_auto_columns": null,
            "margin": null,
            "display": null,
            "left": null
          }
        },
        "b1fbf5e48885446b90567920d90883cb": {
          "model_module": "@jupyter-widgets/controls",
          "model_name": "ProgressStyleModel",
          "state": {
            "_view_name": "StyleView",
            "_model_name": "ProgressStyleModel",
            "description_width": "",
            "_view_module": "@jupyter-widgets/base",
            "_model_module_version": "1.5.0",
            "_view_count": null,
            "_view_module_version": "1.2.0",
            "bar_color": null,
            "_model_module": "@jupyter-widgets/controls"
          }
        },
        "845f6c61d83140a583ae151cd00cd6ac": {
          "model_module": "@jupyter-widgets/base",
          "model_name": "LayoutModel",
          "state": {
            "_view_name": "LayoutView",
            "grid_template_rows": null,
            "right": null,
            "justify_content": null,
            "_view_module": "@jupyter-widgets/base",
            "overflow": null,
            "_model_module_version": "1.2.0",
            "_view_count": null,
            "flex_flow": null,
            "width": null,
            "min_width": null,
            "border": null,
            "align_items": null,
            "bottom": null,
            "_model_module": "@jupyter-widgets/base",
            "top": null,
            "grid_column": null,
            "overflow_y": null,
            "overflow_x": null,
            "grid_auto_flow": null,
            "grid_area": null,
            "grid_template_columns": null,
            "flex": null,
            "_model_name": "LayoutModel",
            "justify_items": null,
            "grid_row": null,
            "max_height": null,
            "align_content": null,
            "visibility": null,
            "align_self": null,
            "height": null,
            "min_height": null,
            "padding": null,
            "grid_auto_rows": null,
            "grid_gap": null,
            "max_width": null,
            "order": null,
            "_view_module_version": "1.2.0",
            "grid_template_areas": null,
            "object_position": null,
            "object_fit": null,
            "grid_auto_columns": null,
            "margin": null,
            "display": null,
            "left": null
          }
        },
        "e44d727dc49246e0aeff29f71a4faec7": {
          "model_module": "@jupyter-widgets/controls",
          "model_name": "DescriptionStyleModel",
          "state": {
            "_view_name": "StyleView",
            "_model_name": "DescriptionStyleModel",
            "description_width": "",
            "_view_module": "@jupyter-widgets/base",
            "_model_module_version": "1.5.0",
            "_view_count": null,
            "_view_module_version": "1.2.0",
            "_model_module": "@jupyter-widgets/controls"
          }
        },
        "c50e2f09fa204dcaa402312d2d7ea722": {
          "model_module": "@jupyter-widgets/base",
          "model_name": "LayoutModel",
          "state": {
            "_view_name": "LayoutView",
            "grid_template_rows": null,
            "right": null,
            "justify_content": null,
            "_view_module": "@jupyter-widgets/base",
            "overflow": null,
            "_model_module_version": "1.2.0",
            "_view_count": null,
            "flex_flow": null,
            "width": null,
            "min_width": null,
            "border": null,
            "align_items": null,
            "bottom": null,
            "_model_module": "@jupyter-widgets/base",
            "top": null,
            "grid_column": null,
            "overflow_y": null,
            "overflow_x": null,
            "grid_auto_flow": null,
            "grid_area": null,
            "grid_template_columns": null,
            "flex": null,
            "_model_name": "LayoutModel",
            "justify_items": null,
            "grid_row": null,
            "max_height": null,
            "align_content": null,
            "visibility": null,
            "align_self": null,
            "height": null,
            "min_height": null,
            "padding": null,
            "grid_auto_rows": null,
            "grid_gap": null,
            "max_width": null,
            "order": null,
            "_view_module_version": "1.2.0",
            "grid_template_areas": null,
            "object_position": null,
            "object_fit": null,
            "grid_auto_columns": null,
            "margin": null,
            "display": null,
            "left": null
          }
        },
        "48d6e3d8fbea40c4a14d436fe5adf25f": {
          "model_module": "@jupyter-widgets/controls",
          "model_name": "HBoxModel",
          "state": {
            "_view_name": "HBoxView",
            "_dom_classes": [],
            "_model_name": "HBoxModel",
            "_view_module": "@jupyter-widgets/controls",
            "_model_module_version": "1.5.0",
            "_view_count": null,
            "_view_module_version": "1.5.0",
            "box_style": "",
            "layout": "IPY_MODEL_f81c7979ed3b40ef9dc66d9820f47a2b",
            "_model_module": "@jupyter-widgets/controls",
            "children": [
              "IPY_MODEL_ed2b4e957e9f4d4abfdc564259689f0a",
              "IPY_MODEL_c2154b1952cc400199ee40d723326ddf",
              "IPY_MODEL_386e2c95a61044349da7b9ae8f8aafac"
            ]
          }
        },
        "f81c7979ed3b40ef9dc66d9820f47a2b": {
          "model_module": "@jupyter-widgets/base",
          "model_name": "LayoutModel",
          "state": {
            "_view_name": "LayoutView",
            "grid_template_rows": null,
            "right": null,
            "justify_content": null,
            "_view_module": "@jupyter-widgets/base",
            "overflow": null,
            "_model_module_version": "1.2.0",
            "_view_count": null,
            "flex_flow": null,
            "width": null,
            "min_width": null,
            "border": null,
            "align_items": null,
            "bottom": null,
            "_model_module": "@jupyter-widgets/base",
            "top": null,
            "grid_column": null,
            "overflow_y": null,
            "overflow_x": null,
            "grid_auto_flow": null,
            "grid_area": null,
            "grid_template_columns": null,
            "flex": null,
            "_model_name": "LayoutModel",
            "justify_items": null,
            "grid_row": null,
            "max_height": null,
            "align_content": null,
            "visibility": null,
            "align_self": null,
            "height": null,
            "min_height": null,
            "padding": null,
            "grid_auto_rows": null,
            "grid_gap": null,
            "max_width": null,
            "order": null,
            "_view_module_version": "1.2.0",
            "grid_template_areas": null,
            "object_position": null,
            "object_fit": null,
            "grid_auto_columns": null,
            "margin": null,
            "display": null,
            "left": null
          }
        },
        "ed2b4e957e9f4d4abfdc564259689f0a": {
          "model_module": "@jupyter-widgets/controls",
          "model_name": "HTMLModel",
          "state": {
            "_view_name": "HTMLView",
            "style": "IPY_MODEL_6cdffce37b344da8ba8103bda3edcff2",
            "_dom_classes": [],
            "description": "",
            "_model_name": "HTMLModel",
            "placeholder": "​",
            "_view_module": "@jupyter-widgets/controls",
            "_model_module_version": "1.5.0",
            "value": "Downloading: 100%",
            "_view_count": null,
            "_view_module_version": "1.5.0",
            "description_tooltip": null,
            "_model_module": "@jupyter-widgets/controls",
            "layout": "IPY_MODEL_251ef2a82e9c4b759f394d24f8922d31"
          }
        },
        "c2154b1952cc400199ee40d723326ddf": {
          "model_module": "@jupyter-widgets/controls",
          "model_name": "FloatProgressModel",
          "state": {
            "_view_name": "ProgressView",
            "style": "IPY_MODEL_4aa97bb5ee3149309b3178d217a906d9",
            "_dom_classes": [],
            "description": "",
            "_model_name": "FloatProgressModel",
            "bar_style": "success",
            "max": 28,
            "_view_module": "@jupyter-widgets/controls",
            "_model_module_version": "1.5.0",
            "value": 28,
            "_view_count": null,
            "_view_module_version": "1.5.0",
            "orientation": "horizontal",
            "min": 0,
            "description_tooltip": null,
            "_model_module": "@jupyter-widgets/controls",
            "layout": "IPY_MODEL_02783618f2f94718945b14d1e5cb0271"
          }
        },
        "386e2c95a61044349da7b9ae8f8aafac": {
          "model_module": "@jupyter-widgets/controls",
          "model_name": "HTMLModel",
          "state": {
            "_view_name": "HTMLView",
            "style": "IPY_MODEL_c023726861324f1a8a55de50d5c52031",
            "_dom_classes": [],
            "description": "",
            "_model_name": "HTMLModel",
            "placeholder": "​",
            "_view_module": "@jupyter-widgets/controls",
            "_model_module_version": "1.5.0",
            "value": " 28.0/28.0 [00:00&lt;00:00, 719B/s]",
            "_view_count": null,
            "_view_module_version": "1.5.0",
            "description_tooltip": null,
            "_model_module": "@jupyter-widgets/controls",
            "layout": "IPY_MODEL_83a192fce9c04c9c97b6efad5dfd27fe"
          }
        },
        "6cdffce37b344da8ba8103bda3edcff2": {
          "model_module": "@jupyter-widgets/controls",
          "model_name": "DescriptionStyleModel",
          "state": {
            "_view_name": "StyleView",
            "_model_name": "DescriptionStyleModel",
            "description_width": "",
            "_view_module": "@jupyter-widgets/base",
            "_model_module_version": "1.5.0",
            "_view_count": null,
            "_view_module_version": "1.2.0",
            "_model_module": "@jupyter-widgets/controls"
          }
        },
        "251ef2a82e9c4b759f394d24f8922d31": {
          "model_module": "@jupyter-widgets/base",
          "model_name": "LayoutModel",
          "state": {
            "_view_name": "LayoutView",
            "grid_template_rows": null,
            "right": null,
            "justify_content": null,
            "_view_module": "@jupyter-widgets/base",
            "overflow": null,
            "_model_module_version": "1.2.0",
            "_view_count": null,
            "flex_flow": null,
            "width": null,
            "min_width": null,
            "border": null,
            "align_items": null,
            "bottom": null,
            "_model_module": "@jupyter-widgets/base",
            "top": null,
            "grid_column": null,
            "overflow_y": null,
            "overflow_x": null,
            "grid_auto_flow": null,
            "grid_area": null,
            "grid_template_columns": null,
            "flex": null,
            "_model_name": "LayoutModel",
            "justify_items": null,
            "grid_row": null,
            "max_height": null,
            "align_content": null,
            "visibility": null,
            "align_self": null,
            "height": null,
            "min_height": null,
            "padding": null,
            "grid_auto_rows": null,
            "grid_gap": null,
            "max_width": null,
            "order": null,
            "_view_module_version": "1.2.0",
            "grid_template_areas": null,
            "object_position": null,
            "object_fit": null,
            "grid_auto_columns": null,
            "margin": null,
            "display": null,
            "left": null
          }
        },
        "4aa97bb5ee3149309b3178d217a906d9": {
          "model_module": "@jupyter-widgets/controls",
          "model_name": "ProgressStyleModel",
          "state": {
            "_view_name": "StyleView",
            "_model_name": "ProgressStyleModel",
            "description_width": "",
            "_view_module": "@jupyter-widgets/base",
            "_model_module_version": "1.5.0",
            "_view_count": null,
            "_view_module_version": "1.2.0",
            "bar_color": null,
            "_model_module": "@jupyter-widgets/controls"
          }
        },
        "02783618f2f94718945b14d1e5cb0271": {
          "model_module": "@jupyter-widgets/base",
          "model_name": "LayoutModel",
          "state": {
            "_view_name": "LayoutView",
            "grid_template_rows": null,
            "right": null,
            "justify_content": null,
            "_view_module": "@jupyter-widgets/base",
            "overflow": null,
            "_model_module_version": "1.2.0",
            "_view_count": null,
            "flex_flow": null,
            "width": null,
            "min_width": null,
            "border": null,
            "align_items": null,
            "bottom": null,
            "_model_module": "@jupyter-widgets/base",
            "top": null,
            "grid_column": null,
            "overflow_y": null,
            "overflow_x": null,
            "grid_auto_flow": null,
            "grid_area": null,
            "grid_template_columns": null,
            "flex": null,
            "_model_name": "LayoutModel",
            "justify_items": null,
            "grid_row": null,
            "max_height": null,
            "align_content": null,
            "visibility": null,
            "align_self": null,
            "height": null,
            "min_height": null,
            "padding": null,
            "grid_auto_rows": null,
            "grid_gap": null,
            "max_width": null,
            "order": null,
            "_view_module_version": "1.2.0",
            "grid_template_areas": null,
            "object_position": null,
            "object_fit": null,
            "grid_auto_columns": null,
            "margin": null,
            "display": null,
            "left": null
          }
        },
        "c023726861324f1a8a55de50d5c52031": {
          "model_module": "@jupyter-widgets/controls",
          "model_name": "DescriptionStyleModel",
          "state": {
            "_view_name": "StyleView",
            "_model_name": "DescriptionStyleModel",
            "description_width": "",
            "_view_module": "@jupyter-widgets/base",
            "_model_module_version": "1.5.0",
            "_view_count": null,
            "_view_module_version": "1.2.0",
            "_model_module": "@jupyter-widgets/controls"
          }
        },
        "83a192fce9c04c9c97b6efad5dfd27fe": {
          "model_module": "@jupyter-widgets/base",
          "model_name": "LayoutModel",
          "state": {
            "_view_name": "LayoutView",
            "grid_template_rows": null,
            "right": null,
            "justify_content": null,
            "_view_module": "@jupyter-widgets/base",
            "overflow": null,
            "_model_module_version": "1.2.0",
            "_view_count": null,
            "flex_flow": null,
            "width": null,
            "min_width": null,
            "border": null,
            "align_items": null,
            "bottom": null,
            "_model_module": "@jupyter-widgets/base",
            "top": null,
            "grid_column": null,
            "overflow_y": null,
            "overflow_x": null,
            "grid_auto_flow": null,
            "grid_area": null,
            "grid_template_columns": null,
            "flex": null,
            "_model_name": "LayoutModel",
            "justify_items": null,
            "grid_row": null,
            "max_height": null,
            "align_content": null,
            "visibility": null,
            "align_self": null,
            "height": null,
            "min_height": null,
            "padding": null,
            "grid_auto_rows": null,
            "grid_gap": null,
            "max_width": null,
            "order": null,
            "_view_module_version": "1.2.0",
            "grid_template_areas": null,
            "object_position": null,
            "object_fit": null,
            "grid_auto_columns": null,
            "margin": null,
            "display": null,
            "left": null
          }
        }
      }
    }
  },
  "cells": [
    {
      "cell_type": "markdown",
      "metadata": {
        "id": "view-in-github",
        "colab_type": "text"
      },
      "source": [
        "<a href=\"https://colab.research.google.com/github/JuanJoseMV/neuraltextgen/blob/main/italian_text_generation.ipynb\" target=\"_parent\"><img src=\"https://colab.research.google.com/assets/colab-badge.svg\" alt=\"Open In Colab\"/></a>"
      ]
    },
    {
      "cell_type": "markdown",
      "metadata": {
        "id": "V-euivYI65HQ"
      },
      "source": [
        "#Intialization"
      ]
    },
    {
      "cell_type": "code",
      "metadata": {
        "id": "E-gcgNG2Hqy-"
      },
      "source": [
        "%%capture\n",
        "!git clone --recursive https://github.com/JuanJoseMV/neuraltextgen.git\n",
        "!pip install -r /content/neuraltextgen/texygen/requirements.txt\n",
        "!pip install simpletransformers"
      ],
      "execution_count": 1,
      "outputs": []
    },
    {
      "cell_type": "code",
      "metadata": {
        "id": "YY8wBYGT8uaM"
      },
      "source": [
        "import sys\n",
        "import os\n",
        "\n",
        "\n",
        "os.chdir(\"/content/neuraltextgen/\")\n",
        "from NeuralTextGenerator import BertTextGenerator\n",
        "\n",
        "APEX_AVAILABLE = False"
      ],
      "execution_count": 2,
      "outputs": []
    },
    {
      "cell_type": "markdown",
      "metadata": {
        "id": "Oht3fdKRDKBj"
      },
      "source": [
        "## Evaluation - Texygen\n",
        "\n"
      ]
    },
    {
      "cell_type": "code",
      "metadata": {
        "id": "mfw1F0y9DIG6"
      },
      "source": [
        "import nltk\n",
        "nltk.download('punkt')\n",
        "\n",
        "os.chdir(\"/content/neuraltextgen/texygen\")\n",
        "from utils.metrics.Bleu import Bleu\n",
        "from utils.metrics.SelfBleu import SelfBleu\n",
        "os.chdir(\"/content/neuraltextgen\")\n",
        "\n",
        "wiki103_file = 'data/wiki103.5k.txt'\n",
        "tbc_file = 'data/tbc.5k.txt'"
      ],
      "execution_count": null,
      "outputs": []
    },
    {
      "cell_type": "markdown",
      "metadata": {
        "id": "LKgXhjfmBD7P"
      },
      "source": [
        "## nvidia apex\n",
        "\n",
        "Nvidia-Apex is an extension of Pytorch for automatic Mixed-precision. \n",
        "\n",
        "Most deep learning frameworks, including PyTorch, train using 32-bit floating point\n",
        "\n",
        "(FP32) arithmetic by default. However, using FP32 for all operations is not essential to achieve full accuracy for many state-of-the-art deep neural networks (DNNs). In 2017, NVIDIA researchers developed a methodology for mixed-precision training in which a few operations are executed in FP32 while the majority of the network is executed using 16-bit floating point (FP16) arithmetic. FP16 arithmetic offers the following additional performance benefits on Volta GPUs:\n",
        "\n",
        "- FP16 reduces memory bandwidth and storage requirements by 2x. Bandwidth-bound operations can realize up to 2x speedup immediately.\n",
        "- FP16 arithmetic enables Tensor Cores, which in Volta GPUs offer 125 TFlops of computational throughput on generalized matrix-matrix multiplications (GEMMs) and convolutions, an 8X increase over FP32.\n",
        " \n",
        "\n",
        "With mixed precision training, networks receive almost all the memory savings and improved throughput of pure FP16 training while matching the accuracy of FP32 training."
      ]
    },
    {
      "cell_type": "markdown",
      "metadata": {
        "id": "mkMzkmG57pqg"
      },
      "source": [
        "### Using Apex\n",
        "\n",
        "The code below is used to initialize apex. The installation requires around 5-10 minutes."
      ]
    },
    {
      "cell_type": "code",
      "metadata": {
        "id": "eq12vEK5bFG4",
        "colab": {
          "base_uri": "https://localhost:8080/"
        },
        "outputId": "7494d10b-fe68-47c8-9b53-6594f2c87148"
      },
      "source": [
        "%%writefile setup.sh\n",
        "export CUDA_HOME=/usr/local/cuda-10.1\n",
        "git clone https://github.com/NVIDIA/apex\n",
        "pip install -v --no-cache-dir --global-option=\"--cpp_ext\" --global-option=\"--cuda_ext\" ./apex"
      ],
      "execution_count": null,
      "outputs": [
        {
          "output_type": "stream",
          "text": [
            "Writing setup.sh\n"
          ],
          "name": "stdout"
        }
      ]
    },
    {
      "cell_type": "code",
      "metadata": {
        "id": "Zlo-uSxvbFxU"
      },
      "source": [
        "%%capture\n",
        "!sh setup.sh\n",
        "\n",
        "APEX_AVAILABLE = True"
      ],
      "execution_count": null,
      "outputs": []
    },
    {
      "cell_type": "markdown",
      "metadata": {
        "id": "G1KkFb78BbFu"
      },
      "source": [
        "#Italian Text Generation\n",
        "\n",
        "Classical transformers methods are trained on english text corpus...\n",
        "\n",
        "how to deal with other languages\n",
        "\n",
        "1. Machine translation\n",
        "2. Specific models\n",
        "3. Cross Language models\n",
        "\n"
      ]
    },
    {
      "cell_type": "markdown",
      "metadata": {
        "id": "H9mMM-Zm87pV"
      },
      "source": [
        "## Italian text with Machine Translation\n",
        "\n",
        "The first attempt at italian text generation can be done relying on machine translation. "
      ]
    },
    {
      "cell_type": "markdown",
      "metadata": {
        "id": "N6vwXjBB9wp1"
      },
      "source": [
        "### English text generation"
      ]
    },
    {
      "cell_type": "code",
      "metadata": {
        "id": "xT-PGiVm9NAY"
      },
      "source": [
        "en_bert_model = BertTextGenerator(\"bert-base-uncased\", use_apex = APEX_AVAILABLE)\n",
        "\n",
        "parameters = {'n_samples': 11,  # 1000\n",
        "              'batch_size': 11,  # 50\n",
        "              'max_len': 40,\n",
        "              'top_k': 100,\n",
        "              'temperature': 1,\n",
        "              'burnin': 250,\n",
        "              'sample': True,\n",
        "              'max_iter': 500,\n",
        "              'seed_text': \"\",\n",
        "              'init_method': 'masked'\n",
        "              }\n",
        "\n",
        "parameters_str = \"_\".join([f\"{k}={v}\" for k, v in parameters.items()])\n",
        "file_path = \"english-text_\" + parameters_str +\".txt\"\n",
        "\n",
        "en_bert_sents = en_bert_model.generate(save_to_path=file_path, **parameters)"
      ],
      "execution_count": null,
      "outputs": []
    },
    {
      "cell_type": "code",
      "metadata": {
        "colab": {
          "base_uri": "https://localhost:8080/"
        },
        "id": "3slgL7gJ-MWZ",
        "outputId": "e3953e9b-7244-431a-dd15-1cca319ceb17"
      },
      "source": [
        "for sent in en_bert_sents[:10]:\n",
        "    print(f\"\\t{sent}\")"
      ],
      "execution_count": null,
      "outputs": [
        {
          "output_type": "stream",
          "text": [
            "\t this is very simple. for instance, in wikipedia, f'( y ) states that f ( c ) x completely separates \" ( f ) c \" from the \" x \" it is describing. \n",
            "\t late 1990s and 2000s also based in peropeus \" little ramrod \" series voice actor voice actor. of course most of that stuff that you want have a bit of fun. looney tunes. \n",
            "\t performance - michael lee. special release \" friends \" : standard edition & deluxe edition. special advert for coates'version of \" ( you ) saved my life \". performance - michael lee. \n",
            "\t i hear the rise of sky, the mist rising and falling, and then to the sea, and then back to the sign, all the way to the bottom. the water is still terribly cold. \n",
            "\t a month after unifying german prime minister martin svends trotter visited the various alliance parties for the conservative christian social party, but they \" refused to visit any'a right'group \". \n",
            "\t (... and )... and in the simple friendship her friends have with her, there are men whom she has met before and whom she is planning on hurting and her friends have no choice but fight ; \n",
            "\t it will soon concentrate on african american dancing and sung, combining the previous volumes into its three general histories : african - americans : dancing in song ; a guide to singing dance ; out loud and beyond ; \n",
            "\t kotroman was an interviewer and docent at the radio stations eurosport and radio osp in perugia. he joined the slovenian television station tv4, slovenia, as a freelance actor. \n",
            "\t chapter 88 \" we are about time! \" i said staring straight ahead while watching every black and white movie ( maybe a tv show ), finding it difficult to understand what could possibly be going on. \n",
            "\t contestants compete alongside contestants until losing out to the winner in the exponent's contest. the 1989 sitcom debbie gibson ( opposite jackie chan ) started with an episode titled \" so far on well \". \n"
          ],
          "name": "stdout"
        }
      ]
    },
    {
      "cell_type": "markdown",
      "metadata": {
        "id": "VOVE_U9m-QlM"
      },
      "source": [
        "### English-Italian machine translation"
      ]
    },
    {
      "cell_type": "code",
      "metadata": {
        "id": "LqvY-2Be--xK"
      },
      "source": [
        "%%capture\n",
        "!pip install google_trans_new"
      ],
      "execution_count": null,
      "outputs": []
    },
    {
      "cell_type": "code",
      "metadata": {
        "id": "wNlEcG9__vCz"
      },
      "source": [
        "from google_trans_new import google_translator  \n",
        "\n",
        "translator = google_translator()  \n",
        "\n",
        "it_translated_bert_sentences = []\n",
        "it_file_path = \"italian-translated_\" + parameters_str + \".txt\"\n",
        "\n",
        "with open(it_file_path, \"w\") as f:\n",
        "  for sent in en_bert_sents:\n",
        "    translation = translator.translate(sent, lang_tgt='it')\n",
        "    it_translated_bert_sentences.append(translation)\n",
        "    f.write(translation+'\\n')"
      ],
      "execution_count": null,
      "outputs": []
    },
    {
      "cell_type": "code",
      "metadata": {
        "colab": {
          "base_uri": "https://localhost:8080/"
        },
        "id": "w4_YbPLHAjcx",
        "outputId": "461f269b-da43-49dc-dc9c-e38f0a1efcec"
      },
      "source": [
        "for sent, trans in zip(en_bert_sents[:5], it_translated_bert_sentences[:5]):\n",
        "  print(f\"ORIGINAL: {sent}\")\n",
        "  print(f\"TRANSLATION: {trans}\")\n",
        "  print('\\n')\n"
      ],
      "execution_count": null,
      "outputs": [
        {
          "output_type": "stream",
          "text": [
            "ORIGINAL:  this is very simple. for instance, in wikipedia, f'( y ) states that f ( c ) x completely separates \" ( f ) c \" from the \" x \" it is describing. \n",
            "TRANSLATION: Questo è molto semplice. Ad esempio, in wikipedia, f '(y) afferma che f (c) x separa completamente \"(f) c\" dallo \"x\" si sta descrivendo. \n",
            "\n",
            "\n",
            "ORIGINAL:  late 1990s and 2000s also based in peropeus \" little ramrod \" series voice actor voice actor. of course most of that stuff that you want have a bit of fun. looney tunes. \n",
            "TRANSLATION: La fine degli anni '90 e 2000 è basandosi anche in serie \"Little Ramrod\" Attore Voice Actor Actor Attore. Ovviamente la maggior parte di quella roba che vuoi avere un po 'divertente. Looney Tunes. \n",
            "\n",
            "\n",
            "ORIGINAL:  performance - michael lee. special release \" friends \" : standard edition & deluxe edition. special advert for coates'version of \" ( you ) saved my life \". performance - michael lee. \n",
            "TRANSLATION: Performance - Michael Lee. Rilevazione speciale \"Amici\": Edizione standard e Deluxe. Annuncio speciale per Coates'Versione di \"(tu) salvato la mia vita\". Performance - Michael Lee. \n",
            "\n",
            "\n",
            "ORIGINAL:  i hear the rise of sky, the mist rising and falling, and then to the sea, and then back to the sign, all the way to the bottom. the water is still terribly cold. \n",
            "TRANSLATION: Sento l'ascesa del cielo, la nebbia che sorge e cade, e poi verso il mare, e poi tornare al segno, fino in fondo. L'acqua è ancora terribilmente fredda. \n",
            "\n",
            "\n",
            "ORIGINAL:  a month after unifying german prime minister martin svends trotter visited the various alliance parties for the conservative christian social party, but they \" refused to visit any'a right'group \". \n",
            "TRANSLATION: Un mese dopo l'unificazione del primo ministro tedesco Martin Svends Trotter ha visitato le varie parti di alleanza per il Partito Sociale cristiano conservatore, ma \"rifiutarono di visitare qualsiasi cosa giusto\". \n",
            "\n",
            "\n"
          ],
          "name": "stdout"
        }
      ]
    },
    {
      "cell_type": "markdown",
      "metadata": {
        "id": "HxqlhMWoCuaR"
      },
      "source": [
        "### Evaluation\n",
        "\n",
        "To evaluate we will use ..."
      ]
    },
    {
      "cell_type": "code",
      "metadata": {
        "id": "J9nJoe1rCtHP"
      },
      "source": [
        "trans_bleu_score_tbc = Bleu(file_path, tbc_file)\n",
        "trans_bleu_score_wiki = Bleu(file_path, wiki103_file)\n",
        "\n",
        "print(\"(Texygen) BERT-TBC BLEU: %.2f\" % (100 * trans_bleu_score_tbc.get_bleu()))\n",
        "print(\"(Texygen) BERT-Wiki103 BLEU: %.2f\" % (100 * trans_bleu_score_wiki.get_bleu()))"
      ],
      "execution_count": null,
      "outputs": []
    },
    {
      "cell_type": "markdown",
      "metadata": {
        "id": "zmjiOJdGQyD-"
      },
      "source": [
        "## Italian text generation via Italian model"
      ]
    },
    {
      "cell_type": "code",
      "metadata": {
        "id": "xsCzd1B-QxYu"
      },
      "source": [
        "#dbmdz/bert-base-italian-cased\n",
        "it_bert_model = BertTextGenerator(\"dbmdz/bert-base-italian-xxl-uncased\", use_apex = APEX_AVAILABLE)\n"
      ],
      "execution_count": null,
      "outputs": []
    },
    {
      "cell_type": "code",
      "metadata": {
        "id": "B8vEfVzAIFK0",
        "colab": {
          "base_uri": "https://localhost:8080/",
          "height": 1000,
          "referenced_widgets": [
            "2967d74605c9446b8ceae530c47d132e",
            "91e354db0de248a0b44aeb458ac92e5b",
            "122924ad46dd4d35a340cee197b1d4d8",
            "013782757c9f4eb3875c54318846a65f",
            "8945030269ee463f80785dcf5bf7dfb9",
            "c8b92845a0a34fa79243c1b991c8f754",
            "0c9ff2e33bd54cc9b507661c2442bb0c",
            "bdcffdaa95a64eb0afc59b385173b89d",
            "a1b54b9ab93f40ecae7b08e70609d026",
            "a171bdba0f9e4daa9902110d62b6374f",
            "c001882c649b4431a459a1db20d54184",
            "77a0e5fca0c246b396a81d5a06d5d8f2",
            "d4adb1f814904a0a9f764e1c1cd2bb0c",
            "7687dbcca5bb43cfac41787293831f69",
            "29572f023dd342a6a6859b88ed514d11",
            "c2b4d906edfb481ab9bc88131bdcdceb",
            "b6d7d7189c7442d78705b6caa7bf1931",
            "0fa06b36853542f582c7dc5c1c5d77fe",
            "94ba2a11cb0849f1ad9b8b7a43eefde2",
            "c7148505b36c47f49a134ead2e9bee1a",
            "80d6018e0629406b83cf7ab76f3768b8",
            "6c4aba6d6fdf4c8a8b747a4d58179408",
            "970bfa44e656479799e870a80fc09d3c",
            "ddc90a4e86c546ba9fa27055e6a5962e",
            "84f3abe7d6094dc1ac1564dd9d26f5da",
            "1be6485eaf0e4806a656a6c8b42e0264",
            "e6463a138cdc409d84c14009d8d63386",
            "f93d91afa4c1411d9787b1e7cc167359",
            "7251c6fbec5347188873363f8a055dfe",
            "74b574d1f574464b85800e2df00185f6",
            "6a42d3bb0b854dda8d6a9a1171e94472",
            "8705f9993ca04476882260e1156c064c",
            "08518803c1674f53a9f0047ef009f942",
            "a91f340b4b204449a637da0d486d9ce0",
            "6d8ac405c706450ba7ef9f2ecf899a84",
            "0e8ef62c43c14309ba4ebc22ed8ee7c0",
            "c845f3a0a3894bd6a5a661e473363239",
            "69209073b27e4f85b212dc542add2e1e",
            "ad3944b3825a427d8e0d1215cdb63506",
            "3a88d05c96bb4e3697832fcac46c50df",
            "b1fbf5e48885446b90567920d90883cb",
            "845f6c61d83140a583ae151cd00cd6ac",
            "e44d727dc49246e0aeff29f71a4faec7",
            "c50e2f09fa204dcaa402312d2d7ea722",
            "48d6e3d8fbea40c4a14d436fe5adf25f",
            "f81c7979ed3b40ef9dc66d9820f47a2b",
            "ed2b4e957e9f4d4abfdc564259689f0a",
            "c2154b1952cc400199ee40d723326ddf",
            "386e2c95a61044349da7b9ae8f8aafac",
            "6cdffce37b344da8ba8103bda3edcff2",
            "251ef2a82e9c4b759f394d24f8922d31",
            "4aa97bb5ee3149309b3178d217a906d9",
            "02783618f2f94718945b14d1e5cb0271",
            "c023726861324f1a8a55de50d5c52031",
            "83a192fce9c04c9c97b6efad5dfd27fe"
          ]
        },
        "outputId": "5dc1feed-e0bf-4364-f975-83858723bfa9"
      },
      "source": [
        "\n",
        "for burnin in [0, 250, 500]:\n",
        "  for init_method in ['masked', 'random']:\n",
        "    parameters = {'n_samples': 11,  # 1000\n",
        "                  'batch_size': 11,  # 50\n",
        "                  'max_len': 40,\n",
        "                  'top_k': 100,\n",
        "                  'temperature': 1,\n",
        "                  'burnin': burnin,\n",
        "                  'sample': True,\n",
        "                  'max_iter': 500,\n",
        "                  'seed_text': \"\",\n",
        "                  'init_method': init_method\n",
        "                  }\n",
        "\n",
        "    # \"key1=val1_key2=val2_...txt\"\n",
        "    file_path = \"_\".join([f\"{k}={v}\" for k, v in parameters.items()])+\".txt\"\n",
        "    bert_sents = bert_model.generate(save_to_path=file_path, **parameters)\n",
        "\n",
        "    bleu_score_tbc = Bleu(file_path, tbc_file)\n",
        "    bleu_score_wiki = Bleu(file_path, wiki103_file)\n",
        "\n",
        "    \n",
        "    print(f\"\\n(init_method = {init_method} - burnin = {burnin}) Text generated:  (BLEU-tbc={(100 * bleu_score_tbc.get_bleu()):.2f} BLEU-wiki={100 * bleu_score_wiki.get_bleu():.2f}\")\n",
        "    for sent in bert_sents[:10]:\n",
        "        print(f\"\\t{sent}\")\n",
        "\n",
        "\n",
        "    "
      ],
      "execution_count": null,
      "outputs": [
        {
          "output_type": "display_data",
          "data": {
            "application/vnd.jupyter.widget-view+json": {
              "model_id": "2967d74605c9446b8ceae530c47d132e",
              "version_minor": 0,
              "version_major": 2
            },
            "text/plain": [
              "Downloading:   0%|          | 0.00/570 [00:00<?, ?B/s]"
            ]
          },
          "metadata": {
            "tags": []
          }
        },
        {
          "output_type": "display_data",
          "data": {
            "application/vnd.jupyter.widget-view+json": {
              "model_id": "77a0e5fca0c246b396a81d5a06d5d8f2",
              "version_minor": 0,
              "version_major": 2
            },
            "text/plain": [
              "Downloading:   0%|          | 0.00/440M [00:00<?, ?B/s]"
            ]
          },
          "metadata": {
            "tags": []
          }
        },
        {
          "output_type": "stream",
          "text": [
            "Some weights of the model checkpoint at bert-base-uncased were not used when initializing BertForMaskedLM: ['cls.seq_relationship.weight', 'cls.seq_relationship.bias']\n",
            "- This IS expected if you are initializing BertForMaskedLM from the checkpoint of a model trained on another task or with another architecture (e.g. initializing a BertForSequenceClassification model from a BertForPreTraining model).\n",
            "- This IS NOT expected if you are initializing BertForMaskedLM from the checkpoint of a model that you expect to be exactly identical (initializing a BertForSequenceClassification model from a BertForSequenceClassification model).\n"
          ],
          "name": "stderr"
        },
        {
          "output_type": "display_data",
          "data": {
            "application/vnd.jupyter.widget-view+json": {
              "model_id": "970bfa44e656479799e870a80fc09d3c",
              "version_minor": 0,
              "version_major": 2
            },
            "text/plain": [
              "Downloading:   0%|          | 0.00/232k [00:00<?, ?B/s]"
            ]
          },
          "metadata": {
            "tags": []
          }
        },
        {
          "output_type": "display_data",
          "data": {
            "application/vnd.jupyter.widget-view+json": {
              "model_id": "a91f340b4b204449a637da0d486d9ce0",
              "version_minor": 0,
              "version_major": 2
            },
            "text/plain": [
              "Downloading:   0%|          | 0.00/466k [00:00<?, ?B/s]"
            ]
          },
          "metadata": {
            "tags": []
          }
        },
        {
          "output_type": "display_data",
          "data": {
            "application/vnd.jupyter.widget-view+json": {
              "model_id": "48d6e3d8fbea40c4a14d436fe5adf25f",
              "version_minor": 0,
              "version_major": 2
            },
            "text/plain": [
              "Downloading:   0%|          | 0.00/28.0 [00:00<?, ?B/s]"
            ]
          },
          "metadata": {
            "tags": []
          }
        },
        {
          "output_type": "stream",
          "text": [
            "Finished batch 1 in 20.106s\n",
            "\n",
            "(init_method = masked - burnin = 0) Text generated:  (BLEU-tbc=24.64 BLEU-wiki=20.84\n",
            "\t 1977 ma lin, writings the pursuit of evidence. foreword by ming fu mau. 1977 ma lin, essays ma lin, correspondence and other chinese historical documents. numerous essays by ming fu mau. \n",
            "\t the mahan school ( dartmouth ) from 1976 - 1990 was named among the hundredest \" outstanding military schools possible \" by google ( samuel l. johnson ) and wake forest university ( andrew jackson ). \n",
            "\t by now, nearly all the others - elena, meredith, especially bonnie - were staring as if they were deep in thought. \" victoria would have looked like the most beautiful bride, \" meredith said. \n",
            "\t on singles \" promise me \" and \" our love \" ( from their first two eps ) ; for i'm back in your arms \" ( and \" good times tonight \" ) in the uk ; \n",
            "\t concert for the festival ensemble. cd ( 2 discs ). here and there : choral works ( choir ) ( mary and frank, the two choirs mary and frank ). boston, 1974 - 1975. \n",
            "\t \" yeah, but i need to think. \" it had never happened. never happened to the rest of the family. and i certainly would have never died in such a way, if i could. \n",
            "\t he published much material from the late edward iv, including a companion to the cricketers book ( and list ). he was translating or indexing material in both the cricketers and cricketers worlds. \n",
            "\t ( t ) / d ( b / d ) / ( \" sometimes \" ) / θ, t / [ t / d /, t ]. [ θ, t ] before / t /. \n",
            "\t i did it because i showed myself what all i needed was two hands to get my reasons for staying. first of all, when i arrived just after the party, i found a large plastic table. \n",
            "\t \" and you will see the men with iron balls in their pantss, and you will see the men in the slavey and the guards hanging low. \" \" i will, \" he said. \n",
            "Finished batch 1 in 20.819s\n",
            "\n",
            "(init_method = random - burnin = 0) Text generated:  (BLEU-tbc=8.56 BLEU-wiki=11.18\n",
            "\t when takayuki and yuriko have a short fight hayao is furious but hayao trains hoshino on his fighting style and how strong defensiveness he feels but he wins the fight again. \n",
            "\t wood of willow theis - wood of willow mitre. - willows, willows. - elms, willows. - eating acorns as if digging a pen - lit flame. \n",
            "\t qualification in some areas such as an out of country qualification and other entry - level iso 9001 qualifications are normally awarded to the holder of a tcas qualification in compliance with the gsa qualification model. \n",
            "\t | north of kingstone | | south of bourne | | | | | | barnstone | | | highwater | | | | | | | | | | | nettlestead | | | \n",
            "\t jack wigner ( born 1982 birth name : 山本 山本 ) ( at least two surnames recorded in e - mail addresses ) enjoys sport ( table tennis and golf ) as \" jack \". \n",
            "\t one of the cathode spurgeons. more similar than my babel on the ferris wheel in manhattan. in my imagination, something that had the guch - guch on its tongue. \n",
            "\t hornblower inspired novel : lost in the shell. directed by neil peart, and starring the main cast ; a strain focused on law enforcement. krazy kat inspired novel : war wolves. \n",
            "\t these are : primary infections : [ infected patient ] [ unintended ] secondary infections [ anti - hiv infection ] - sri lanka - used [ infected patient ] in hosokawa prefecture, japan. \n",
            "\t nylander, karl a. 1979. vandermeer, ralf ; friedlander, k. and gerd thomm. magic and wizardry : studies from the wizardry glossary. \n",
            "\t with piano accompaniment, violins, and cymbals, she can perform \" good for me too \" ( 1983 ) both \" sometimes \" and \" ( if it pleases you ) \" in concert. \n",
            "Finished batch 1 in 21.782s\n",
            "\n",
            "(init_method = masked - burnin = 250) Text generated:  (BLEU-tbc=7.74 BLEU-wiki=23.08\n",
            "\t 2. \" command ( voice ) \". 3. let http run on the operating system warning column call ( ss1, ss2, ss3 ), interchanged with : \" command \". \n",
            "\t ( 1956 ) harry and the monster ( 1956 ) the witch ( 1959 ) ( 11 episodes ) the name \" witchcraft \" in the 1989 television miniseries melrose place was'the goddess moret '. \n",
            "\t lieberman was accused of engaging in moves designed to pursue closer ties between the department of human rights and the \" umbrella organization, \" in which he stated he believes stennis is \" protecting \" women. \n",
            "\t the song was also previously used on scores of songs recorded by martina mcbride, lil wayne and big brother from 1968 - 1976, including \" angel \", a song written by carly simon and the doors. \n",
            "\t 2009 - ( victorian ) ( local independent member government election ) - representing the corrin shire council ; 2011 - ( local self government ) - as a radio station board member for evangelise ; \n",
            "\t she has also written plays, including \" the painting of a marriage \", based on the unfortunate fate of her mother and her pompous husband, by mary kleim and children and stories. \n",
            "\t the club crest is a combination of \" bouldmint \" badge, \" liverpool metropolitans with giants \" badge and \" liverpool blue \", the home colours of the \" north liverpool \" club. \n",
            "\t in january 2017, oxfam \" took \" the picture out of austin realty's hands, saying the above images were still visible and that the media \" ignored official caa procedures \". \n",
            "\t charleston river boat society, 2 july 2013. 100 nationally unique river crossings : negro river from bridge to north at opie state park ( charleston river boat society. ) hall, david ( 1997 ). \n",
            "\t buhn 1989 : metaphysics talks about the concept of soul which has roots in the human body, and how by becoming in search of spirit for something one will use a form of soul ethic. \n",
            "Finished batch 1 in 21.491s\n",
            "\n",
            "(init_method = random - burnin = 250) Text generated:  (BLEU-tbc=14.27 BLEU-wiki=16.53\n",
            "\t teołka franajewska. nuremberg convention proceedings, 1939. subject was : \" sir renard faure introduced me to elvis presley, especially in germany \", in nuremberg convention proceedings. \n",
            "\t the graduate studies department provides graduate credits to the following programs : gpa transfer program community service program under the college of business, mme receives $ 85 million in revenue from cme for academic excellence. \n",
            "\t oh my god, how soft it pulled up when you were not seeing an inch in a row. i picture people on every foot of the street showing teeth and not furloughing or drinking. \n",
            "\t chapter eleven billy not one mill is for anybody, no more than anybody, well, hey it shut up at that textile mill in town on the south side of that little town near the mississippi river. \n",
            "\t content was intended to include gay, lesbian, email message, information, advertiser from the upper court, kwok yee - kee, hong kongese yu shui and another island. \n",
            "\t two - edge bearing, with horizontal, vertical or trench spacing. bg composites : joint tubing arrangements for such products as drexels ( low voltage transformers ) and lifestar solutions. \n",
            "\t several democratic caucuses ( some caucuses scaffolded by tycoon ) : each democratic caucus week includes : general motors ; the national fbla ; the national rifle association ; general motors ; \n",
            "\t dupre ( a hairdresser ) enrolls at stillwell hill community college in varney park, near downtown chicago, illinois and quickly opens doors to his group, their family and other students. \n",
            "\t under veneto rule, giovanni de trica finds and writes extensively on this mountain and its surroundings. it was well known for its tourist links to lonsdale and the correa link. \n",
            "\t they would have seen yoo - hoo's \" swoosh fantasizing \" against a yellow bubble of the second living room with just four and only two natural elements that no one liked. \n",
            "Finished batch 1 in 20.975s\n",
            "\n",
            "(init_method = masked - burnin = 500) Text generated:  (BLEU-tbc=16.80 BLEU-wiki=16.77\n",
            "\t from 1817 to 1821, additional family - members, captains and gun captains were elected in public election. ross is reported sitting alone and occasionally sitting in a public election on the following day of each year. \n",
            "\t the ruffians ( meat puppets, norbert butler ; etc. ). musical theater acts included : howard the duck with w. cowles comic strip era dick tracy ; tom and jerry rabbits ; \n",
            "\t earps nurses at non - latino hospitals who read it all day read, \" take me home at nine am. \" \" hello, lady, \" said a redheaded nurse at her own table. \n",
            "\t do you have any pressing matters to discuss with our escort? her smile was happy when melissa felt ever so slightly worried and uncomfortable uneasily. why am i here? the morning sky had brightened. \n",
            "\t instituto del rento ( national institute of social register art ) is an international community for collaboration among social register artists, stonecutters and architects immers of images using biometric fingerprints variegally. \n",
            "\t washington county, ky. german pavilion o2 / 17. berlin, maisons du patissiere, remy and charpentier concentration camps. collection of second world war ( in platform ) exhibits. \n",
            "\t \" their positions, their poses are different... what are the thousand! \" then why does the mad scientist normally feel like he has to go in again and again and again, with all his heart? \n",
            "\t at all once, laila gasps, and gregory says, \" she is calling me gregory... my old friend janus... gregory... gregory. \" to whom she is suddenly faced with the answer? \n",
            "\t he seemed not to understand my attitude.'how many guns?'our shriek were too loud for us both to hear. warthrop adjusted his shackles.'his dead are our concerns. \n",
            "\t sean wilson ( wallace bruce who died in a car accident ) has acted without a legal right, attacking his ill - fated ministerial assistant, tricia kaspel, and vows to destroy his wife. \n",
            "Finished batch 1 in 21.222s\n",
            "\n",
            "(init_method = random - burnin = 500) Text generated:  (BLEU-tbc=10.91 BLEU-wiki=12.90\n",
            "\t fourth explosion since the dozing mass of the previous night. the snowmobile had again cleared the gravel uppersides and was on the first riser. he kicked five times before he caught himself. \n",
            "\t kiwi is an arai suburb of otaku, ngawingiruke and the suburb is part of marrua, new zealand, after recently development as a suburb of central christchurch. \n",
            "\t find for me an academic exercises about operation telespaorna : 1. which ended us fierce musicological disputes. ( ne awarded posthumously ) richard johann stock : ii. when you are dead! \n",
            "\t 2007 - 8 : the pawnee king is married - mr. starbuck spanglishtoppers 2007 - 6 : high flying pawns - nimpy - it's chromatic music! \n",
            "\t ando, mhv, is particularly noted on bacteria in aquatic animals including hydrophyllids and other aquatic organisms, particularly sharks, marine mammals and shrews of trichondraceae. \n",
            "\t currently, icao by 50 cbs calzagra face devin harkins regarding the ilao saw price placement. an example disruptive scene was sctv's celebrity panel quiz!!!!! \n",
            "\t hugger, being the expat dog in the world has a lucifer furnace. meanwhile, under a tree ( with mr eggie and mr gloom ) i reveal four ( my sons ). \n",
            "\t wrath rides his youth. burning coals. burning. a curiosity turnss to opulence and a glassy liquid eyes of a compositor. dry dock will dust a field of clover. \n",
            "\t the gossip times said no l'chartreuse. no way a second of the effort. everating barkee the chipotle. she was all smiles. the lost jangle drummed. \n",
            "\t la seria dance and la fare sunshine dance : members of this dance group say meditative burlesque skit specifically for those who perform. spellbinding : dance interludes at 10 min. \n"
          ],
          "name": "stdout"
        }
      ]
    },
    {
      "cell_type": "code",
      "metadata": {
        "id": "c_70eqKoruMA"
      },
      "source": [
        ""
      ],
      "execution_count": null,
      "outputs": []
    },
    {
      "cell_type": "markdown",
      "metadata": {
        "id": "BAyLelGANeRN"
      },
      "source": [
        "#Evaluation - Original"
      ]
    },
    {
      "cell_type": "code",
      "metadata": {
        "id": "WReMKKtxNd3Y"
      },
      "source": [
        "from nltk.translate import bleu_score as bleu\n",
        "\n",
        "def prepare_data(data_file, replacements={}, uncased=True):\n",
        "    data = [d.strip().split() for d in open(data_file, 'r').readlines()]\n",
        "    if uncased:\n",
        "        data = [[t.lower() for t in sent] for sent in data]\n",
        "        \n",
        "    for k, v in replacements.items():\n",
        "        data = [[t if t != k else v for t in sent] for sent in data]\n",
        " \n",
        "    return data\n",
        "\n",
        "def prepare_wiki(data_file, uncased=True):\n",
        "    replacements = {\"@@unknown@@\": \"[UNK]\"}\n",
        "    return prepare_data(data_file, replacements=replacements, uncased=uncased)\n",
        "\n",
        "def prepare_tbc(data_file):        \n",
        "    replacements = {\"``\": \"\\\"\", \"\\'\\'\": \"\\\"\"}\n",
        "    return prepare_data(data_file, replacements=replacements)\n",
        "\n",
        "def corpus_bleu(generated, references):\n",
        "    \"\"\" Compute similarity between two corpora as measured by\n",
        "    comparing each sentence of `generated` against all sentences in `references` \n",
        "    \n",
        "    args:\n",
        "        - generated (List[List[str]]): list of sentences (split into tokens)\n",
        "        - references (List[List[str]]): list of sentences (split into tokens)\n",
        "        \n",
        "    returns:\n",
        "        - bleu (float)\n",
        "    \"\"\"    \n",
        "    return bleu.corpus_bleu([references for _ in range(len(generated))], generated)"
      ],
      "execution_count": null,
      "outputs": []
    },
    {
      "cell_type": "code",
      "metadata": {
        "id": "a1G6pbRKNi2d",
        "colab": {
          "base_uri": "https://localhost:8080/"
        },
        "outputId": "cf33ad93-c167-4045-841e-488e906e596e"
      },
      "source": [
        "!git clone https://github.com/nyu-dl/bert-gen\n",
        "wiki103_file = 'bert-gen/data/wiki103.5k.txt'\n",
        "tbc_file = 'bert-gen/data/tbc.5k.txt'\n",
        "\n",
        "wiki_data = prepare_wiki(wiki103_file)\n",
        "tbc_data = prepare_tbc(tbc_file)"
      ],
      "execution_count": null,
      "outputs": [
        {
          "output_type": "stream",
          "text": [
            "fatal: destination path 'bert-gen' already exists and is not an empty directory.\n"
          ],
          "name": "stdout"
        }
      ]
    },
    {
      "cell_type": "markdown",
      "metadata": {
        "id": "Y4eu_1FlRUbT"
      },
      "source": [
        "Try to evaluate using original functions and no cleaning of wiki-data"
      ]
    },
    {
      "cell_type": "code",
      "metadata": {
        "id": "Apeq6y0zN6Z4",
        "colab": {
          "base_uri": "https://localhost:8080/"
        },
        "outputId": "2363f912-4eae-4125-c544-35023dce0c43"
      },
      "source": [
        "print(\"BERT-TBC BLEU: %.2f\" % (100 * corpus_bleu(bert_sents, tbc_data)))\n",
        "print(\"BERT-Wiki103 BLEU: %.2f\" % (100 * corpus_bleu(bert_sents, wiki_data)))\n",
        "print(\"BERT-{TBC + Wiki103} BLEU: %.2f\" % (100 * corpus_bleu(bert_sents, tbc_data[:2500] + wiki_data[:2500])))"
      ],
      "execution_count": null,
      "outputs": [
        {
          "output_type": "stream",
          "text": [
            "/usr/local/lib/python3.7/dist-packages/nltk/translate/bleu_score.py:490: UserWarning: \n",
            "Corpus/Sentence contains 0 counts of 3-gram overlaps.\n",
            "BLEU scores might be undesirable; use SmoothingFunction().\n",
            "  warnings.warn(_msg)\n"
          ],
          "name": "stderr"
        },
        {
          "output_type": "stream",
          "text": [
            "BERT-TBC BLEU: 17.31\n",
            "BERT-Wiki103 BLEU: 23.39\n",
            "BERT-{TBC + Wiki103} BLEU: 22.46\n"
          ],
          "name": "stdout"
        }
      ]
    },
    {
      "cell_type": "markdown",
      "metadata": {
        "id": "RBtiIe1lRbCt"
      },
      "source": [
        "Try to evaluate after cleaning"
      ]
    },
    {
      "cell_type": "code",
      "metadata": {
        "id": "TZCYFkW9RfKe",
        "colab": {
          "base_uri": "https://localhost:8080/"
        },
        "outputId": "61dcdb73-048a-42ea-cd38-9a04395c39bd"
      },
      "source": [
        "def cleaner(data):\n",
        "  len_mask = []\n",
        "  for i in range(len(data)):\n",
        "    if len(data[i]) <4:\n",
        "      len_mask.append(False)\n",
        "    else:\n",
        "      len_mask.append(True)\n",
        "\n",
        "  data = [b for a, b in zip(len_mask, data) if a]\n",
        "  return data\n",
        "\n",
        "wiki_data = cleaner(wiki_data)\n",
        "tbc_data = cleaner(tbc_data)\n",
        "\n",
        "print(\"BERT-TBC BLEU: %.2f\" % (100 * corpus_bleu(bert_sents, tbc_data)))\n",
        "print(\"BERT-Wiki103 BLEU: %.2f\" % (100 * corpus_bleu(bert_sents, wiki_data)))\n",
        "print(\"BERT-{TBC + Wiki103} BLEU: %.2f\" % (100 * corpus_bleu(bert_sents, tbc_data[:2500] + wiki_data[:2500])))"
      ],
      "execution_count": null,
      "outputs": [
        {
          "output_type": "stream",
          "text": [
            "/usr/local/lib/python3.7/dist-packages/nltk/translate/bleu_score.py:490: UserWarning: \n",
            "Corpus/Sentence contains 0 counts of 3-gram overlaps.\n",
            "BLEU scores might be undesirable; use SmoothingFunction().\n",
            "  warnings.warn(_msg)\n"
          ],
          "name": "stderr"
        },
        {
          "output_type": "stream",
          "text": [
            "BERT-TBC BLEU: 17.31\n",
            "BERT-Wiki103 BLEU: 23.39\n",
            "BERT-{TBC + Wiki103} BLEU: 22.46\n"
          ],
          "name": "stdout"
        }
      ]
    },
    {
      "cell_type": "markdown",
      "metadata": {
        "id": "l6GquBooOFDS"
      },
      "source": [
        "## Evaluation - Texygen"
      ]
    },
    {
      "cell_type": "code",
      "metadata": {
        "colab": {
          "base_uri": "https://localhost:8080/"
        },
        "id": "qQmE68W1LkXt",
        "outputId": "791494cb-5e81-415b-d061-3aed2de0aaa8"
      },
      "source": [
        "bleu_score_tbc = Bleu(file_path, tbc_file)\n",
        "bleu_score_wiki = Bleu(file_path, wiki103_file)\n",
        "\n",
        "print(\"(Texygen) BERT-TBC BLEU: %.2f\" % (100 * bleu_score_tbc.get_bleu()))\n",
        "print(\"(Texygen) BERT-Wiki103 BLEU: %.2f\" % (100 * bleu_score_wiki.get_bleu()))\n",
        "\n"
      ],
      "execution_count": null,
      "outputs": [
        {
          "output_type": "stream",
          "text": [
            "(Texygen) BERT-TBC BLEU: 17.43\n",
            "(Texygen) BERT-Wiki103 BLEU: 18.25\n"
          ],
          "name": "stdout"
        }
      ]
    }
  ]
}