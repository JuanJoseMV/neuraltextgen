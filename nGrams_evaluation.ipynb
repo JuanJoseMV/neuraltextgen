{
  "nbformat": 4,
  "nbformat_minor": 0,
  "metadata": {
    "colab": {
      "name": "nGrams_evaluation.ipynb",
      "provenance": [],
      "mount_file_id": "1R4Zl_xMzq2fnG0VrOHaRUTnWxfJw3UYi",
      "authorship_tag": "ABX9TyPMDBifEcAtQAgusVsCovof",
      "include_colab_link": true
    },
    "kernelspec": {
      "name": "python3",
      "display_name": "Python 3"
    },
    "language_info": {
      "name": "python"
    }
  },
  "cells": [
    {
      "cell_type": "markdown",
      "metadata": {
        "id": "view-in-github",
        "colab_type": "text"
      },
      "source": [
        "<a href=\"https://colab.research.google.com/github/JuanJoseMV/neuraltextgen/blob/main/nGrams_evaluation.ipynb\" target=\"_parent\"><img src=\"https://colab.research.google.com/assets/colab-badge.svg\" alt=\"Open In Colab\"/></a>"
      ]
    },
    {
      "cell_type": "code",
      "metadata": {
        "id": "-H5scajDrzh4"
      },
      "source": [
        "%%capture\n",
        "!git clone --recursive https://github.com/JuanJoseMV/neuraltextgen.git\n",
        "!pip install -r /content/neuraltextgen/texygen/requirements.txt\n",
        "\n",
        "!git clone --recursive https://github.com/nyu-dl/bert-gen.git"
      ],
      "execution_count": 100,
      "outputs": []
    },
    {
      "cell_type": "code",
      "metadata": {
        "colab": {
          "base_uri": "https://localhost:8080/"
        },
        "id": "jyeMHXRDr6BW",
        "outputId": "d3c309ac-1527-4957-8354-2ddaf8786590"
      },
      "source": [
        "import os\n",
        "import copy\n",
        "import numpy as np\n",
        "import pandas as pd\n",
        "from collections import Counter\n",
        "import nltk\n",
        "nltk.download('punkt')\n",
        "\n",
        "os.chdir(\"/content/neuraltextgen/texygen\")\n",
        "from utils.metrics.UniqueGram import UniqueGram\n",
        "from utils.metrics.Bleu import Bleu"
      ],
      "execution_count": 101,
      "outputs": [
        {
          "output_type": "stream",
          "text": [
            "[nltk_data] Downloading package punkt to /root/nltk_data...\n",
            "[nltk_data]   Package punkt is already up-to-date!\n"
          ],
          "name": "stdout"
        }
      ]
    },
    {
      "cell_type": "code",
      "metadata": {
        "id": "oEY28el7sAfl"
      },
      "source": [
        "path = \"/content/neuraltextgen/data/tbc.5k.txt\"\n",
        "file = open(path, \"r\")\n",
        "tbc = file.readlines()\n",
        "\n",
        "path = \"/content/neuraltextgen/data/wiki103.5k.txt\"\n",
        "file = open(path, \"r\")\n",
        "wiki = file.readlines()"
      ],
      "execution_count": 102,
      "outputs": []
    },
    {
      "cell_type": "code",
      "metadata": {
        "id": "ubr2NLUsskoV"
      },
      "source": [
        "def getGrams(sents, n):\n",
        "  grams = []\n",
        "  for line in sents:\n",
        "    line = line.split(\" \")\n",
        "    grams += UniqueGram(gram=n).get_gram(line)\n",
        "  dictGrams = Counter(grams)\n",
        "  return dictGrams\n",
        "\n",
        "def compareUniqueGrams(pred_ngrams, ref_ngrams, max_n):\n",
        "  pct_unique={}\n",
        "  for i in range(2, max_n + 1):\n",
        "    pred_ngram_counts = set(pred_ngrams[i].keys())\n",
        "    total = sum(pred_ngrams[i].values())\n",
        "    ref_ngram_counts = set(ref_ngrams[i].keys())\n",
        "    pct_unique[i] = len(pred_ngram_counts.difference(ref_ngram_counts)) / total\n",
        "\n",
        "  return pct_unique"
      ],
      "execution_count": 103,
      "outputs": []
    },
    {
      "cell_type": "code",
      "metadata": {
        "id": "eiA0mIMwsklW"
      },
      "source": [
        "bestModels = [#'parallel-0.15/max_iter=100,std_len=0,init_mask_prob=1,temperature=10,sample=False,top_k=0.txt',\n",
        " #'parallel-0.15/max_iter=500,std_len=0,init_mask_prob=1,temperature=1,sample=False,top_k=0.txt',\n",
        " #'parallel-0.15/max_iter=500,std_len=5,init_mask_prob=1,temperature=0.1,sample=False,top_k=0.txt',\n",
        " '/content/drive/MyDrive/Data Science and Engineering - PoliTo2/2nd Semester/Machine Learning and Deep Learning/Project - NeuralTextGeneration/bertGenGenerations.txt',\n",
        " 'sequential/max_iter=500,std_len=5,init_mask_prob=1,temperature=0.1,sample=False,top_k=0.txt',\n",
        " 'sequential/max_iter=500,std_len=5,init_mask_prob=1,temperature=1,sample=False,top_k=0.txt',\n",
        " 'sequential/max_iter=500,std_len=5,init_mask_prob=1,temperature=10,sample=False,top_k=0.txt',\n",
        " 'Attention-1/max_iter=100,std_len=0,init_mask_prob=1,temperature=10,sample=False,top_k=0.txt',\n",
        " 'Attention-1/max_iter=100,std_len=5,init_mask_prob=1,temperature=0.1,sample=True,top_k=0.txt',\n",
        " 'Attention-1/max_iter=100,std_len=5,init_mask_prob=1,temperature=0.1,sample=True,top_k=100.txt',\n",
        " 'Parallel-1/max_iter=500,std_len=5,init_mask_prob=1,temperature=1,sample=True,top_k=100.txt',\n",
        " 'Parallel-1/max_iter=100,std_len=5,init_mask_prob=1,temperature=0.1,sample=False,top_k=0.txt',\n",
        " 'Parallel-1/max_iter=100,std_len=5,init_mask_prob=1,temperature=1,sample=False,top_k=0.txt']"
      ],
      "execution_count": 104,
      "outputs": []
    },
    {
      "cell_type": "code",
      "metadata": {
        "id": "D8SdAhF9wdVN"
      },
      "source": [
        "maxGrams = 4\n",
        "wikiGrams={}\n",
        "tbcGrams={}\n",
        "for i in range(2, maxGrams+1):\n",
        "  wikiGrams[i] = getGrams(wiki, i)\n",
        "  tbcGrams[i] = getGrams(tbc, i)"
      ],
      "execution_count": 105,
      "outputs": []
    },
    {
      "cell_type": "code",
      "metadata": {
        "id": "mLfOkhCGski0"
      },
      "source": [
        "header = [\"model\", \"WT103 n=2\", \"WT103 n=3\", \"WT103 n=4\", \"TBC n=2\", \"TBC n=3\", \"TBC n=4\"]\n",
        "resultsDF = pd.DataFrame(columns= header)\n",
        "\n",
        "for model in bestModels:\n",
        "  if model.startswith(\"/content\"):\n",
        "    path = model\n",
        "    model = model.split(\"/\")[-1]\n",
        "  else:\n",
        "    path = \"/content/neuraltextgen/data/grid_search/text_generated_\"+model\n",
        "\n",
        "  file = open(path, \"r\")\n",
        "  pred = file.readlines()\n",
        "\n",
        "  modelGrams = {}\n",
        "  for i in range(2, maxGrams+1):\n",
        "    modelGrams[i] = getGrams(pred, i)\n",
        "\n",
        "  pct_uniques_wiki = compareUniqueGrams(modelGrams, wikiGrams, maxGrams)\n",
        "  pct_uniques_tbc = compareUniqueGrams(modelGrams, tbcGrams, maxGrams)\n",
        "\n",
        "  pct_uniques = [model] + list(pct_uniques_wiki.values()) + list(pct_uniques_tbc.values())\n",
        "  pct_uniquesDF = pd.DataFrame([pct_uniques], columns=header)\n",
        "\n",
        "  resultsDF = pd.concat([resultsDF ,pct_uniquesDF], ignore_index=True)"
      ],
      "execution_count": 106,
      "outputs": []
    },
    {
      "cell_type": "code",
      "metadata": {
        "colab": {
          "base_uri": "https://localhost:8080/",
          "height": 343
        },
        "id": "Z3De8l1fskdl",
        "outputId": "1f377c91-585c-457d-d5da-d28dc954f919"
      },
      "source": [
        "resultsDF"
      ],
      "execution_count": 107,
      "outputs": [
        {
          "output_type": "execute_result",
          "data": {
            "text/html": [
              "<div>\n",
              "<style scoped>\n",
              "    .dataframe tbody tr th:only-of-type {\n",
              "        vertical-align: middle;\n",
              "    }\n",
              "\n",
              "    .dataframe tbody tr th {\n",
              "        vertical-align: top;\n",
              "    }\n",
              "\n",
              "    .dataframe thead th {\n",
              "        text-align: right;\n",
              "    }\n",
              "</style>\n",
              "<table border=\"1\" class=\"dataframe\">\n",
              "  <thead>\n",
              "    <tr style=\"text-align: right;\">\n",
              "      <th></th>\n",
              "      <th>model</th>\n",
              "      <th>WT103 n=2</th>\n",
              "      <th>WT103 n=3</th>\n",
              "      <th>WT103 n=4</th>\n",
              "      <th>TBC n=2</th>\n",
              "      <th>TBC n=3</th>\n",
              "      <th>TBC n=4</th>\n",
              "    </tr>\n",
              "  </thead>\n",
              "  <tbody>\n",
              "    <tr>\n",
              "      <th>0</th>\n",
              "      <td>bertGenGenerations.txt</td>\n",
              "      <td>0.606933</td>\n",
              "      <td>0.898630</td>\n",
              "      <td>0.963380</td>\n",
              "      <td>0.675200</td>\n",
              "      <td>0.913973</td>\n",
              "      <td>0.964507</td>\n",
              "    </tr>\n",
              "    <tr>\n",
              "      <th>1</th>\n",
              "      <td>sequential/max_iter=500,std_len=5,init_mask_pr...</td>\n",
              "      <td>0.017059</td>\n",
              "      <td>0.027619</td>\n",
              "      <td>0.032759</td>\n",
              "      <td>0.017059</td>\n",
              "      <td>0.027619</td>\n",
              "      <td>0.033103</td>\n",
              "    </tr>\n",
              "    <tr>\n",
              "      <th>2</th>\n",
              "      <td>sequential/max_iter=500,std_len=5,init_mask_pr...</td>\n",
              "      <td>0.014205</td>\n",
              "      <td>0.023853</td>\n",
              "      <td>0.028146</td>\n",
              "      <td>0.015341</td>\n",
              "      <td>0.023853</td>\n",
              "      <td>0.028477</td>\n",
              "    </tr>\n",
              "    <tr>\n",
              "      <th>3</th>\n",
              "      <td>sequential/max_iter=500,std_len=5,init_mask_pr...</td>\n",
              "      <td>0.013555</td>\n",
              "      <td>0.022131</td>\n",
              "      <td>0.025513</td>\n",
              "      <td>0.014578</td>\n",
              "      <td>0.022131</td>\n",
              "      <td>0.025806</td>\n",
              "    </tr>\n",
              "    <tr>\n",
              "      <th>4</th>\n",
              "      <td>Attention-1/max_iter=100,std_len=0,init_mask_p...</td>\n",
              "      <td>0.356121</td>\n",
              "      <td>0.590324</td>\n",
              "      <td>0.725253</td>\n",
              "      <td>0.362914</td>\n",
              "      <td>0.590024</td>\n",
              "      <td>0.725253</td>\n",
              "    </tr>\n",
              "    <tr>\n",
              "      <th>5</th>\n",
              "      <td>Attention-1/max_iter=100,std_len=5,init_mask_p...</td>\n",
              "      <td>0.399855</td>\n",
              "      <td>0.644203</td>\n",
              "      <td>0.770977</td>\n",
              "      <td>0.409593</td>\n",
              "      <td>0.645862</td>\n",
              "      <td>0.771446</td>\n",
              "    </tr>\n",
              "    <tr>\n",
              "      <th>6</th>\n",
              "      <td>Attention-1/max_iter=100,std_len=5,init_mask_p...</td>\n",
              "      <td>0.400372</td>\n",
              "      <td>0.631486</td>\n",
              "      <td>0.751299</td>\n",
              "      <td>0.405334</td>\n",
              "      <td>0.633258</td>\n",
              "      <td>0.750628</td>\n",
              "    </tr>\n",
              "    <tr>\n",
              "      <th>7</th>\n",
              "      <td>Parallel-1/max_iter=500,std_len=5,init_mask_pr...</td>\n",
              "      <td>0.707098</td>\n",
              "      <td>0.942554</td>\n",
              "      <td>0.982824</td>\n",
              "      <td>0.711660</td>\n",
              "      <td>0.936535</td>\n",
              "      <td>0.982553</td>\n",
              "    </tr>\n",
              "    <tr>\n",
              "      <th>8</th>\n",
              "      <td>Parallel-1/max_iter=100,std_len=5,init_mask_pr...</td>\n",
              "      <td>0.052251</td>\n",
              "      <td>0.075418</td>\n",
              "      <td>0.085540</td>\n",
              "      <td>0.053698</td>\n",
              "      <td>0.075585</td>\n",
              "      <td>0.085889</td>\n",
              "    </tr>\n",
              "    <tr>\n",
              "      <th>9</th>\n",
              "      <td>Parallel-1/max_iter=100,std_len=5,init_mask_pr...</td>\n",
              "      <td>0.042007</td>\n",
              "      <td>0.062136</td>\n",
              "      <td>0.071138</td>\n",
              "      <td>0.041822</td>\n",
              "      <td>0.062330</td>\n",
              "      <td>0.071341</td>\n",
              "    </tr>\n",
              "  </tbody>\n",
              "</table>\n",
              "</div>"
            ],
            "text/plain": [
              "                                               model  ...   TBC n=4\n",
              "0                             bertGenGenerations.txt  ...  0.964507\n",
              "1  sequential/max_iter=500,std_len=5,init_mask_pr...  ...  0.033103\n",
              "2  sequential/max_iter=500,std_len=5,init_mask_pr...  ...  0.028477\n",
              "3  sequential/max_iter=500,std_len=5,init_mask_pr...  ...  0.025806\n",
              "4  Attention-1/max_iter=100,std_len=0,init_mask_p...  ...  0.725253\n",
              "5  Attention-1/max_iter=100,std_len=5,init_mask_p...  ...  0.771446\n",
              "6  Attention-1/max_iter=100,std_len=5,init_mask_p...  ...  0.750628\n",
              "7  Parallel-1/max_iter=500,std_len=5,init_mask_pr...  ...  0.982553\n",
              "8  Parallel-1/max_iter=100,std_len=5,init_mask_pr...  ...  0.085889\n",
              "9  Parallel-1/max_iter=100,std_len=5,init_mask_pr...  ...  0.071341\n",
              "\n",
              "[10 rows x 7 columns]"
            ]
          },
          "metadata": {
            "tags": []
          },
          "execution_count": 107
        }
      ]
    }
  ]
}