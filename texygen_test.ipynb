{
  "nbformat": 4,
  "nbformat_minor": 0,
  "metadata": {
    "colab": {
      "name": "texygen_test.ipynb",
      "provenance": [],
      "collapsed_sections": [],
      "include_colab_link": true
    },
    "kernelspec": {
      "name": "python3",
      "display_name": "Python 3"
    },
    "language_info": {
      "name": "python"
    },
    "accelerator": "GPU",
    "widgets": {
      "application/vnd.jupyter.widget-state+json": {
        "03ba1156fb0a4c10af576d24e74e4199": {
          "model_module": "@jupyter-widgets/controls",
          "model_name": "HBoxModel",
          "model_module_version": "1.5.0",
          "state": {
            "_view_name": "HBoxView",
            "_dom_classes": [],
            "_model_name": "HBoxModel",
            "_view_module": "@jupyter-widgets/controls",
            "_model_module_version": "1.5.0",
            "_view_count": null,
            "_view_module_version": "1.5.0",
            "box_style": "",
            "layout": "IPY_MODEL_8afdc24b87304c45bfc28d5191a2d688",
            "_model_module": "@jupyter-widgets/controls",
            "children": [
              "IPY_MODEL_aecd06c7ff734eeb9467159b4f515eb3",
              "IPY_MODEL_6078c60a62f74b5fb25b19ee32a8bc2a",
              "IPY_MODEL_3fceaa25ec49427eb0cf2ec822754bae"
            ]
          }
        },
        "8afdc24b87304c45bfc28d5191a2d688": {
          "model_module": "@jupyter-widgets/base",
          "model_name": "LayoutModel",
          "model_module_version": "1.2.0",
          "state": {
            "_view_name": "LayoutView",
            "grid_template_rows": null,
            "right": null,
            "justify_content": null,
            "_view_module": "@jupyter-widgets/base",
            "overflow": null,
            "_model_module_version": "1.2.0",
            "_view_count": null,
            "flex_flow": null,
            "width": null,
            "min_width": null,
            "border": null,
            "align_items": null,
            "bottom": null,
            "_model_module": "@jupyter-widgets/base",
            "top": null,
            "grid_column": null,
            "overflow_y": null,
            "overflow_x": null,
            "grid_auto_flow": null,
            "grid_area": null,
            "grid_template_columns": null,
            "flex": null,
            "_model_name": "LayoutModel",
            "justify_items": null,
            "grid_row": null,
            "max_height": null,
            "align_content": null,
            "visibility": null,
            "align_self": null,
            "height": null,
            "min_height": null,
            "padding": null,
            "grid_auto_rows": null,
            "grid_gap": null,
            "max_width": null,
            "order": null,
            "_view_module_version": "1.2.0",
            "grid_template_areas": null,
            "object_position": null,
            "object_fit": null,
            "grid_auto_columns": null,
            "margin": null,
            "display": null,
            "left": null
          }
        },
        "aecd06c7ff734eeb9467159b4f515eb3": {
          "model_module": "@jupyter-widgets/controls",
          "model_name": "HTMLModel",
          "model_module_version": "1.5.0",
          "state": {
            "_view_name": "HTMLView",
            "style": "IPY_MODEL_63febdfdd2674d679fabb4fd78572ed0",
            "_dom_classes": [],
            "description": "",
            "_model_name": "HTMLModel",
            "placeholder": "​",
            "_view_module": "@jupyter-widgets/controls",
            "_model_module_version": "1.5.0",
            "value": "Downloading: 100%",
            "_view_count": null,
            "_view_module_version": "1.5.0",
            "description_tooltip": null,
            "_model_module": "@jupyter-widgets/controls",
            "layout": "IPY_MODEL_923b5ab8957e416e81440a512344b20e"
          }
        },
        "6078c60a62f74b5fb25b19ee32a8bc2a": {
          "model_module": "@jupyter-widgets/controls",
          "model_name": "FloatProgressModel",
          "model_module_version": "1.5.0",
          "state": {
            "_view_name": "ProgressView",
            "style": "IPY_MODEL_d7e73007be374280a169986ae78075b1",
            "_dom_classes": [],
            "description": "",
            "_model_name": "FloatProgressModel",
            "bar_style": "success",
            "max": 570,
            "_view_module": "@jupyter-widgets/controls",
            "_model_module_version": "1.5.0",
            "value": 570,
            "_view_count": null,
            "_view_module_version": "1.5.0",
            "orientation": "horizontal",
            "min": 0,
            "description_tooltip": null,
            "_model_module": "@jupyter-widgets/controls",
            "layout": "IPY_MODEL_b67813e95ceb4930ae591dedd1d2a78e"
          }
        },
        "3fceaa25ec49427eb0cf2ec822754bae": {
          "model_module": "@jupyter-widgets/controls",
          "model_name": "HTMLModel",
          "model_module_version": "1.5.0",
          "state": {
            "_view_name": "HTMLView",
            "style": "IPY_MODEL_cfdc20ef97464c9890a8a1b4807523ff",
            "_dom_classes": [],
            "description": "",
            "_model_name": "HTMLModel",
            "placeholder": "​",
            "_view_module": "@jupyter-widgets/controls",
            "_model_module_version": "1.5.0",
            "value": " 570/570 [00:00&lt;00:00, 15.5kB/s]",
            "_view_count": null,
            "_view_module_version": "1.5.0",
            "description_tooltip": null,
            "_model_module": "@jupyter-widgets/controls",
            "layout": "IPY_MODEL_346079f122144c85b29e56751cc02a29"
          }
        },
        "63febdfdd2674d679fabb4fd78572ed0": {
          "model_module": "@jupyter-widgets/controls",
          "model_name": "DescriptionStyleModel",
          "model_module_version": "1.5.0",
          "state": {
            "_view_name": "StyleView",
            "_model_name": "DescriptionStyleModel",
            "description_width": "",
            "_view_module": "@jupyter-widgets/base",
            "_model_module_version": "1.5.0",
            "_view_count": null,
            "_view_module_version": "1.2.0",
            "_model_module": "@jupyter-widgets/controls"
          }
        },
        "923b5ab8957e416e81440a512344b20e": {
          "model_module": "@jupyter-widgets/base",
          "model_name": "LayoutModel",
          "model_module_version": "1.2.0",
          "state": {
            "_view_name": "LayoutView",
            "grid_template_rows": null,
            "right": null,
            "justify_content": null,
            "_view_module": "@jupyter-widgets/base",
            "overflow": null,
            "_model_module_version": "1.2.0",
            "_view_count": null,
            "flex_flow": null,
            "width": null,
            "min_width": null,
            "border": null,
            "align_items": null,
            "bottom": null,
            "_model_module": "@jupyter-widgets/base",
            "top": null,
            "grid_column": null,
            "overflow_y": null,
            "overflow_x": null,
            "grid_auto_flow": null,
            "grid_area": null,
            "grid_template_columns": null,
            "flex": null,
            "_model_name": "LayoutModel",
            "justify_items": null,
            "grid_row": null,
            "max_height": null,
            "align_content": null,
            "visibility": null,
            "align_self": null,
            "height": null,
            "min_height": null,
            "padding": null,
            "grid_auto_rows": null,
            "grid_gap": null,
            "max_width": null,
            "order": null,
            "_view_module_version": "1.2.0",
            "grid_template_areas": null,
            "object_position": null,
            "object_fit": null,
            "grid_auto_columns": null,
            "margin": null,
            "display": null,
            "left": null
          }
        },
        "d7e73007be374280a169986ae78075b1": {
          "model_module": "@jupyter-widgets/controls",
          "model_name": "ProgressStyleModel",
          "model_module_version": "1.5.0",
          "state": {
            "_view_name": "StyleView",
            "_model_name": "ProgressStyleModel",
            "description_width": "",
            "_view_module": "@jupyter-widgets/base",
            "_model_module_version": "1.5.0",
            "_view_count": null,
            "_view_module_version": "1.2.0",
            "bar_color": null,
            "_model_module": "@jupyter-widgets/controls"
          }
        },
        "b67813e95ceb4930ae591dedd1d2a78e": {
          "model_module": "@jupyter-widgets/base",
          "model_name": "LayoutModel",
          "model_module_version": "1.2.0",
          "state": {
            "_view_name": "LayoutView",
            "grid_template_rows": null,
            "right": null,
            "justify_content": null,
            "_view_module": "@jupyter-widgets/base",
            "overflow": null,
            "_model_module_version": "1.2.0",
            "_view_count": null,
            "flex_flow": null,
            "width": null,
            "min_width": null,
            "border": null,
            "align_items": null,
            "bottom": null,
            "_model_module": "@jupyter-widgets/base",
            "top": null,
            "grid_column": null,
            "overflow_y": null,
            "overflow_x": null,
            "grid_auto_flow": null,
            "grid_area": null,
            "grid_template_columns": null,
            "flex": null,
            "_model_name": "LayoutModel",
            "justify_items": null,
            "grid_row": null,
            "max_height": null,
            "align_content": null,
            "visibility": null,
            "align_self": null,
            "height": null,
            "min_height": null,
            "padding": null,
            "grid_auto_rows": null,
            "grid_gap": null,
            "max_width": null,
            "order": null,
            "_view_module_version": "1.2.0",
            "grid_template_areas": null,
            "object_position": null,
            "object_fit": null,
            "grid_auto_columns": null,
            "margin": null,
            "display": null,
            "left": null
          }
        },
        "cfdc20ef97464c9890a8a1b4807523ff": {
          "model_module": "@jupyter-widgets/controls",
          "model_name": "DescriptionStyleModel",
          "model_module_version": "1.5.0",
          "state": {
            "_view_name": "StyleView",
            "_model_name": "DescriptionStyleModel",
            "description_width": "",
            "_view_module": "@jupyter-widgets/base",
            "_model_module_version": "1.5.0",
            "_view_count": null,
            "_view_module_version": "1.2.0",
            "_model_module": "@jupyter-widgets/controls"
          }
        },
        "346079f122144c85b29e56751cc02a29": {
          "model_module": "@jupyter-widgets/base",
          "model_name": "LayoutModel",
          "model_module_version": "1.2.0",
          "state": {
            "_view_name": "LayoutView",
            "grid_template_rows": null,
            "right": null,
            "justify_content": null,
            "_view_module": "@jupyter-widgets/base",
            "overflow": null,
            "_model_module_version": "1.2.0",
            "_view_count": null,
            "flex_flow": null,
            "width": null,
            "min_width": null,
            "border": null,
            "align_items": null,
            "bottom": null,
            "_model_module": "@jupyter-widgets/base",
            "top": null,
            "grid_column": null,
            "overflow_y": null,
            "overflow_x": null,
            "grid_auto_flow": null,
            "grid_area": null,
            "grid_template_columns": null,
            "flex": null,
            "_model_name": "LayoutModel",
            "justify_items": null,
            "grid_row": null,
            "max_height": null,
            "align_content": null,
            "visibility": null,
            "align_self": null,
            "height": null,
            "min_height": null,
            "padding": null,
            "grid_auto_rows": null,
            "grid_gap": null,
            "max_width": null,
            "order": null,
            "_view_module_version": "1.2.0",
            "grid_template_areas": null,
            "object_position": null,
            "object_fit": null,
            "grid_auto_columns": null,
            "margin": null,
            "display": null,
            "left": null
          }
        },
        "002460c315e34dccbdd56c337adf5ae1": {
          "model_module": "@jupyter-widgets/controls",
          "model_name": "HBoxModel",
          "model_module_version": "1.5.0",
          "state": {
            "_view_name": "HBoxView",
            "_dom_classes": [],
            "_model_name": "HBoxModel",
            "_view_module": "@jupyter-widgets/controls",
            "_model_module_version": "1.5.0",
            "_view_count": null,
            "_view_module_version": "1.5.0",
            "box_style": "",
            "layout": "IPY_MODEL_bfa6cde2597c42ca8dc76d5bafdc4f71",
            "_model_module": "@jupyter-widgets/controls",
            "children": [
              "IPY_MODEL_cbc25afda63346a8bb4682a8f8c72b8d",
              "IPY_MODEL_f309cf4882fa4ed790c95db3480bf927",
              "IPY_MODEL_ae3ac662885345248edde864ca7cee51"
            ]
          }
        },
        "bfa6cde2597c42ca8dc76d5bafdc4f71": {
          "model_module": "@jupyter-widgets/base",
          "model_name": "LayoutModel",
          "model_module_version": "1.2.0",
          "state": {
            "_view_name": "LayoutView",
            "grid_template_rows": null,
            "right": null,
            "justify_content": null,
            "_view_module": "@jupyter-widgets/base",
            "overflow": null,
            "_model_module_version": "1.2.0",
            "_view_count": null,
            "flex_flow": null,
            "width": null,
            "min_width": null,
            "border": null,
            "align_items": null,
            "bottom": null,
            "_model_module": "@jupyter-widgets/base",
            "top": null,
            "grid_column": null,
            "overflow_y": null,
            "overflow_x": null,
            "grid_auto_flow": null,
            "grid_area": null,
            "grid_template_columns": null,
            "flex": null,
            "_model_name": "LayoutModel",
            "justify_items": null,
            "grid_row": null,
            "max_height": null,
            "align_content": null,
            "visibility": null,
            "align_self": null,
            "height": null,
            "min_height": null,
            "padding": null,
            "grid_auto_rows": null,
            "grid_gap": null,
            "max_width": null,
            "order": null,
            "_view_module_version": "1.2.0",
            "grid_template_areas": null,
            "object_position": null,
            "object_fit": null,
            "grid_auto_columns": null,
            "margin": null,
            "display": null,
            "left": null
          }
        },
        "cbc25afda63346a8bb4682a8f8c72b8d": {
          "model_module": "@jupyter-widgets/controls",
          "model_name": "HTMLModel",
          "model_module_version": "1.5.0",
          "state": {
            "_view_name": "HTMLView",
            "style": "IPY_MODEL_393169ba98394d2fad589764ee84956f",
            "_dom_classes": [],
            "description": "",
            "_model_name": "HTMLModel",
            "placeholder": "​",
            "_view_module": "@jupyter-widgets/controls",
            "_model_module_version": "1.5.0",
            "value": "Downloading: 100%",
            "_view_count": null,
            "_view_module_version": "1.5.0",
            "description_tooltip": null,
            "_model_module": "@jupyter-widgets/controls",
            "layout": "IPY_MODEL_5461217568954c1587c32baf46aa1197"
          }
        },
        "f309cf4882fa4ed790c95db3480bf927": {
          "model_module": "@jupyter-widgets/controls",
          "model_name": "FloatProgressModel",
          "model_module_version": "1.5.0",
          "state": {
            "_view_name": "ProgressView",
            "style": "IPY_MODEL_183a00aa9a034ecbba13d4373ced2282",
            "_dom_classes": [],
            "description": "",
            "_model_name": "FloatProgressModel",
            "bar_style": "success",
            "max": 440473133,
            "_view_module": "@jupyter-widgets/controls",
            "_model_module_version": "1.5.0",
            "value": 440473133,
            "_view_count": null,
            "_view_module_version": "1.5.0",
            "orientation": "horizontal",
            "min": 0,
            "description_tooltip": null,
            "_model_module": "@jupyter-widgets/controls",
            "layout": "IPY_MODEL_f94b37a90e4b4c3fba1f6b339e0142ba"
          }
        },
        "ae3ac662885345248edde864ca7cee51": {
          "model_module": "@jupyter-widgets/controls",
          "model_name": "HTMLModel",
          "model_module_version": "1.5.0",
          "state": {
            "_view_name": "HTMLView",
            "style": "IPY_MODEL_78d7b84bf373444680ae9a61735f29ac",
            "_dom_classes": [],
            "description": "",
            "_model_name": "HTMLModel",
            "placeholder": "​",
            "_view_module": "@jupyter-widgets/controls",
            "_model_module_version": "1.5.0",
            "value": " 440M/440M [00:08&lt;00:00, 53.8MB/s]",
            "_view_count": null,
            "_view_module_version": "1.5.0",
            "description_tooltip": null,
            "_model_module": "@jupyter-widgets/controls",
            "layout": "IPY_MODEL_4183b2bbcef84af4b0a3b381ff1fbac6"
          }
        },
        "393169ba98394d2fad589764ee84956f": {
          "model_module": "@jupyter-widgets/controls",
          "model_name": "DescriptionStyleModel",
          "model_module_version": "1.5.0",
          "state": {
            "_view_name": "StyleView",
            "_model_name": "DescriptionStyleModel",
            "description_width": "",
            "_view_module": "@jupyter-widgets/base",
            "_model_module_version": "1.5.0",
            "_view_count": null,
            "_view_module_version": "1.2.0",
            "_model_module": "@jupyter-widgets/controls"
          }
        },
        "5461217568954c1587c32baf46aa1197": {
          "model_module": "@jupyter-widgets/base",
          "model_name": "LayoutModel",
          "model_module_version": "1.2.0",
          "state": {
            "_view_name": "LayoutView",
            "grid_template_rows": null,
            "right": null,
            "justify_content": null,
            "_view_module": "@jupyter-widgets/base",
            "overflow": null,
            "_model_module_version": "1.2.0",
            "_view_count": null,
            "flex_flow": null,
            "width": null,
            "min_width": null,
            "border": null,
            "align_items": null,
            "bottom": null,
            "_model_module": "@jupyter-widgets/base",
            "top": null,
            "grid_column": null,
            "overflow_y": null,
            "overflow_x": null,
            "grid_auto_flow": null,
            "grid_area": null,
            "grid_template_columns": null,
            "flex": null,
            "_model_name": "LayoutModel",
            "justify_items": null,
            "grid_row": null,
            "max_height": null,
            "align_content": null,
            "visibility": null,
            "align_self": null,
            "height": null,
            "min_height": null,
            "padding": null,
            "grid_auto_rows": null,
            "grid_gap": null,
            "max_width": null,
            "order": null,
            "_view_module_version": "1.2.0",
            "grid_template_areas": null,
            "object_position": null,
            "object_fit": null,
            "grid_auto_columns": null,
            "margin": null,
            "display": null,
            "left": null
          }
        },
        "183a00aa9a034ecbba13d4373ced2282": {
          "model_module": "@jupyter-widgets/controls",
          "model_name": "ProgressStyleModel",
          "model_module_version": "1.5.0",
          "state": {
            "_view_name": "StyleView",
            "_model_name": "ProgressStyleModel",
            "description_width": "",
            "_view_module": "@jupyter-widgets/base",
            "_model_module_version": "1.5.0",
            "_view_count": null,
            "_view_module_version": "1.2.0",
            "bar_color": null,
            "_model_module": "@jupyter-widgets/controls"
          }
        },
        "f94b37a90e4b4c3fba1f6b339e0142ba": {
          "model_module": "@jupyter-widgets/base",
          "model_name": "LayoutModel",
          "model_module_version": "1.2.0",
          "state": {
            "_view_name": "LayoutView",
            "grid_template_rows": null,
            "right": null,
            "justify_content": null,
            "_view_module": "@jupyter-widgets/base",
            "overflow": null,
            "_model_module_version": "1.2.0",
            "_view_count": null,
            "flex_flow": null,
            "width": null,
            "min_width": null,
            "border": null,
            "align_items": null,
            "bottom": null,
            "_model_module": "@jupyter-widgets/base",
            "top": null,
            "grid_column": null,
            "overflow_y": null,
            "overflow_x": null,
            "grid_auto_flow": null,
            "grid_area": null,
            "grid_template_columns": null,
            "flex": null,
            "_model_name": "LayoutModel",
            "justify_items": null,
            "grid_row": null,
            "max_height": null,
            "align_content": null,
            "visibility": null,
            "align_self": null,
            "height": null,
            "min_height": null,
            "padding": null,
            "grid_auto_rows": null,
            "grid_gap": null,
            "max_width": null,
            "order": null,
            "_view_module_version": "1.2.0",
            "grid_template_areas": null,
            "object_position": null,
            "object_fit": null,
            "grid_auto_columns": null,
            "margin": null,
            "display": null,
            "left": null
          }
        },
        "78d7b84bf373444680ae9a61735f29ac": {
          "model_module": "@jupyter-widgets/controls",
          "model_name": "DescriptionStyleModel",
          "model_module_version": "1.5.0",
          "state": {
            "_view_name": "StyleView",
            "_model_name": "DescriptionStyleModel",
            "description_width": "",
            "_view_module": "@jupyter-widgets/base",
            "_model_module_version": "1.5.0",
            "_view_count": null,
            "_view_module_version": "1.2.0",
            "_model_module": "@jupyter-widgets/controls"
          }
        },
        "4183b2bbcef84af4b0a3b381ff1fbac6": {
          "model_module": "@jupyter-widgets/base",
          "model_name": "LayoutModel",
          "model_module_version": "1.2.0",
          "state": {
            "_view_name": "LayoutView",
            "grid_template_rows": null,
            "right": null,
            "justify_content": null,
            "_view_module": "@jupyter-widgets/base",
            "overflow": null,
            "_model_module_version": "1.2.0",
            "_view_count": null,
            "flex_flow": null,
            "width": null,
            "min_width": null,
            "border": null,
            "align_items": null,
            "bottom": null,
            "_model_module": "@jupyter-widgets/base",
            "top": null,
            "grid_column": null,
            "overflow_y": null,
            "overflow_x": null,
            "grid_auto_flow": null,
            "grid_area": null,
            "grid_template_columns": null,
            "flex": null,
            "_model_name": "LayoutModel",
            "justify_items": null,
            "grid_row": null,
            "max_height": null,
            "align_content": null,
            "visibility": null,
            "align_self": null,
            "height": null,
            "min_height": null,
            "padding": null,
            "grid_auto_rows": null,
            "grid_gap": null,
            "max_width": null,
            "order": null,
            "_view_module_version": "1.2.0",
            "grid_template_areas": null,
            "object_position": null,
            "object_fit": null,
            "grid_auto_columns": null,
            "margin": null,
            "display": null,
            "left": null
          }
        },
        "98f827c2b8b1483db614bacbd474b17d": {
          "model_module": "@jupyter-widgets/controls",
          "model_name": "HBoxModel",
          "model_module_version": "1.5.0",
          "state": {
            "_view_name": "HBoxView",
            "_dom_classes": [],
            "_model_name": "HBoxModel",
            "_view_module": "@jupyter-widgets/controls",
            "_model_module_version": "1.5.0",
            "_view_count": null,
            "_view_module_version": "1.5.0",
            "box_style": "",
            "layout": "IPY_MODEL_efd3eb07b50b48169d25420245df83c9",
            "_model_module": "@jupyter-widgets/controls",
            "children": [
              "IPY_MODEL_1b1bae3bda3e4319a6ecb1f03f088140",
              "IPY_MODEL_0b031a37f1db4e98904b3687595d7353",
              "IPY_MODEL_bdd7428bd1fa40fb8cceff2eda8da755"
            ]
          }
        },
        "efd3eb07b50b48169d25420245df83c9": {
          "model_module": "@jupyter-widgets/base",
          "model_name": "LayoutModel",
          "model_module_version": "1.2.0",
          "state": {
            "_view_name": "LayoutView",
            "grid_template_rows": null,
            "right": null,
            "justify_content": null,
            "_view_module": "@jupyter-widgets/base",
            "overflow": null,
            "_model_module_version": "1.2.0",
            "_view_count": null,
            "flex_flow": null,
            "width": null,
            "min_width": null,
            "border": null,
            "align_items": null,
            "bottom": null,
            "_model_module": "@jupyter-widgets/base",
            "top": null,
            "grid_column": null,
            "overflow_y": null,
            "overflow_x": null,
            "grid_auto_flow": null,
            "grid_area": null,
            "grid_template_columns": null,
            "flex": null,
            "_model_name": "LayoutModel",
            "justify_items": null,
            "grid_row": null,
            "max_height": null,
            "align_content": null,
            "visibility": null,
            "align_self": null,
            "height": null,
            "min_height": null,
            "padding": null,
            "grid_auto_rows": null,
            "grid_gap": null,
            "max_width": null,
            "order": null,
            "_view_module_version": "1.2.0",
            "grid_template_areas": null,
            "object_position": null,
            "object_fit": null,
            "grid_auto_columns": null,
            "margin": null,
            "display": null,
            "left": null
          }
        },
        "1b1bae3bda3e4319a6ecb1f03f088140": {
          "model_module": "@jupyter-widgets/controls",
          "model_name": "HTMLModel",
          "model_module_version": "1.5.0",
          "state": {
            "_view_name": "HTMLView",
            "style": "IPY_MODEL_590f99c6211d4f0abbba6d5c8b74c5e4",
            "_dom_classes": [],
            "description": "",
            "_model_name": "HTMLModel",
            "placeholder": "​",
            "_view_module": "@jupyter-widgets/controls",
            "_model_module_version": "1.5.0",
            "value": "Downloading: 100%",
            "_view_count": null,
            "_view_module_version": "1.5.0",
            "description_tooltip": null,
            "_model_module": "@jupyter-widgets/controls",
            "layout": "IPY_MODEL_5423971eb9f34709827ee358ce9795c4"
          }
        },
        "0b031a37f1db4e98904b3687595d7353": {
          "model_module": "@jupyter-widgets/controls",
          "model_name": "FloatProgressModel",
          "model_module_version": "1.5.0",
          "state": {
            "_view_name": "ProgressView",
            "style": "IPY_MODEL_da6493902342452c9a350cf2504162ec",
            "_dom_classes": [],
            "description": "",
            "_model_name": "FloatProgressModel",
            "bar_style": "success",
            "max": 28,
            "_view_module": "@jupyter-widgets/controls",
            "_model_module_version": "1.5.0",
            "value": 28,
            "_view_count": null,
            "_view_module_version": "1.5.0",
            "orientation": "horizontal",
            "min": 0,
            "description_tooltip": null,
            "_model_module": "@jupyter-widgets/controls",
            "layout": "IPY_MODEL_828d23373ef541078664b6fd2b0bfb44"
          }
        },
        "bdd7428bd1fa40fb8cceff2eda8da755": {
          "model_module": "@jupyter-widgets/controls",
          "model_name": "HTMLModel",
          "model_module_version": "1.5.0",
          "state": {
            "_view_name": "HTMLView",
            "style": "IPY_MODEL_0d2e86e7488d4c66a5199b7e5c2c939d",
            "_dom_classes": [],
            "description": "",
            "_model_name": "HTMLModel",
            "placeholder": "​",
            "_view_module": "@jupyter-widgets/controls",
            "_model_module_version": "1.5.0",
            "value": " 28.0/28.0 [00:00&lt;00:00, 902B/s]",
            "_view_count": null,
            "_view_module_version": "1.5.0",
            "description_tooltip": null,
            "_model_module": "@jupyter-widgets/controls",
            "layout": "IPY_MODEL_953e0bfba7cf42c6a10db847e3e5fd3b"
          }
        },
        "590f99c6211d4f0abbba6d5c8b74c5e4": {
          "model_module": "@jupyter-widgets/controls",
          "model_name": "DescriptionStyleModel",
          "model_module_version": "1.5.0",
          "state": {
            "_view_name": "StyleView",
            "_model_name": "DescriptionStyleModel",
            "description_width": "",
            "_view_module": "@jupyter-widgets/base",
            "_model_module_version": "1.5.0",
            "_view_count": null,
            "_view_module_version": "1.2.0",
            "_model_module": "@jupyter-widgets/controls"
          }
        },
        "5423971eb9f34709827ee358ce9795c4": {
          "model_module": "@jupyter-widgets/base",
          "model_name": "LayoutModel",
          "model_module_version": "1.2.0",
          "state": {
            "_view_name": "LayoutView",
            "grid_template_rows": null,
            "right": null,
            "justify_content": null,
            "_view_module": "@jupyter-widgets/base",
            "overflow": null,
            "_model_module_version": "1.2.0",
            "_view_count": null,
            "flex_flow": null,
            "width": null,
            "min_width": null,
            "border": null,
            "align_items": null,
            "bottom": null,
            "_model_module": "@jupyter-widgets/base",
            "top": null,
            "grid_column": null,
            "overflow_y": null,
            "overflow_x": null,
            "grid_auto_flow": null,
            "grid_area": null,
            "grid_template_columns": null,
            "flex": null,
            "_model_name": "LayoutModel",
            "justify_items": null,
            "grid_row": null,
            "max_height": null,
            "align_content": null,
            "visibility": null,
            "align_self": null,
            "height": null,
            "min_height": null,
            "padding": null,
            "grid_auto_rows": null,
            "grid_gap": null,
            "max_width": null,
            "order": null,
            "_view_module_version": "1.2.0",
            "grid_template_areas": null,
            "object_position": null,
            "object_fit": null,
            "grid_auto_columns": null,
            "margin": null,
            "display": null,
            "left": null
          }
        },
        "da6493902342452c9a350cf2504162ec": {
          "model_module": "@jupyter-widgets/controls",
          "model_name": "ProgressStyleModel",
          "model_module_version": "1.5.0",
          "state": {
            "_view_name": "StyleView",
            "_model_name": "ProgressStyleModel",
            "description_width": "",
            "_view_module": "@jupyter-widgets/base",
            "_model_module_version": "1.5.0",
            "_view_count": null,
            "_view_module_version": "1.2.0",
            "bar_color": null,
            "_model_module": "@jupyter-widgets/controls"
          }
        },
        "828d23373ef541078664b6fd2b0bfb44": {
          "model_module": "@jupyter-widgets/base",
          "model_name": "LayoutModel",
          "model_module_version": "1.2.0",
          "state": {
            "_view_name": "LayoutView",
            "grid_template_rows": null,
            "right": null,
            "justify_content": null,
            "_view_module": "@jupyter-widgets/base",
            "overflow": null,
            "_model_module_version": "1.2.0",
            "_view_count": null,
            "flex_flow": null,
            "width": null,
            "min_width": null,
            "border": null,
            "align_items": null,
            "bottom": null,
            "_model_module": "@jupyter-widgets/base",
            "top": null,
            "grid_column": null,
            "overflow_y": null,
            "overflow_x": null,
            "grid_auto_flow": null,
            "grid_area": null,
            "grid_template_columns": null,
            "flex": null,
            "_model_name": "LayoutModel",
            "justify_items": null,
            "grid_row": null,
            "max_height": null,
            "align_content": null,
            "visibility": null,
            "align_self": null,
            "height": null,
            "min_height": null,
            "padding": null,
            "grid_auto_rows": null,
            "grid_gap": null,
            "max_width": null,
            "order": null,
            "_view_module_version": "1.2.0",
            "grid_template_areas": null,
            "object_position": null,
            "object_fit": null,
            "grid_auto_columns": null,
            "margin": null,
            "display": null,
            "left": null
          }
        },
        "0d2e86e7488d4c66a5199b7e5c2c939d": {
          "model_module": "@jupyter-widgets/controls",
          "model_name": "DescriptionStyleModel",
          "model_module_version": "1.5.0",
          "state": {
            "_view_name": "StyleView",
            "_model_name": "DescriptionStyleModel",
            "description_width": "",
            "_view_module": "@jupyter-widgets/base",
            "_model_module_version": "1.5.0",
            "_view_count": null,
            "_view_module_version": "1.2.0",
            "_model_module": "@jupyter-widgets/controls"
          }
        },
        "953e0bfba7cf42c6a10db847e3e5fd3b": {
          "model_module": "@jupyter-widgets/base",
          "model_name": "LayoutModel",
          "model_module_version": "1.2.0",
          "state": {
            "_view_name": "LayoutView",
            "grid_template_rows": null,
            "right": null,
            "justify_content": null,
            "_view_module": "@jupyter-widgets/base",
            "overflow": null,
            "_model_module_version": "1.2.0",
            "_view_count": null,
            "flex_flow": null,
            "width": null,
            "min_width": null,
            "border": null,
            "align_items": null,
            "bottom": null,
            "_model_module": "@jupyter-widgets/base",
            "top": null,
            "grid_column": null,
            "overflow_y": null,
            "overflow_x": null,
            "grid_auto_flow": null,
            "grid_area": null,
            "grid_template_columns": null,
            "flex": null,
            "_model_name": "LayoutModel",
            "justify_items": null,
            "grid_row": null,
            "max_height": null,
            "align_content": null,
            "visibility": null,
            "align_self": null,
            "height": null,
            "min_height": null,
            "padding": null,
            "grid_auto_rows": null,
            "grid_gap": null,
            "max_width": null,
            "order": null,
            "_view_module_version": "1.2.0",
            "grid_template_areas": null,
            "object_position": null,
            "object_fit": null,
            "grid_auto_columns": null,
            "margin": null,
            "display": null,
            "left": null
          }
        },
        "e3e3d40726b74378b70c8b9f6a2154f2": {
          "model_module": "@jupyter-widgets/controls",
          "model_name": "HBoxModel",
          "model_module_version": "1.5.0",
          "state": {
            "_view_name": "HBoxView",
            "_dom_classes": [],
            "_model_name": "HBoxModel",
            "_view_module": "@jupyter-widgets/controls",
            "_model_module_version": "1.5.0",
            "_view_count": null,
            "_view_module_version": "1.5.0",
            "box_style": "",
            "layout": "IPY_MODEL_e6af499205684c6ba24fd6049018866f",
            "_model_module": "@jupyter-widgets/controls",
            "children": [
              "IPY_MODEL_c13605c58c9c464281ff77fde8f0ebbf",
              "IPY_MODEL_904ba1682a284a6bb096e9e036ad26dc",
              "IPY_MODEL_cc1968895d5a423eae5c45a69bd93a5d"
            ]
          }
        },
        "e6af499205684c6ba24fd6049018866f": {
          "model_module": "@jupyter-widgets/base",
          "model_name": "LayoutModel",
          "model_module_version": "1.2.0",
          "state": {
            "_view_name": "LayoutView",
            "grid_template_rows": null,
            "right": null,
            "justify_content": null,
            "_view_module": "@jupyter-widgets/base",
            "overflow": null,
            "_model_module_version": "1.2.0",
            "_view_count": null,
            "flex_flow": null,
            "width": null,
            "min_width": null,
            "border": null,
            "align_items": null,
            "bottom": null,
            "_model_module": "@jupyter-widgets/base",
            "top": null,
            "grid_column": null,
            "overflow_y": null,
            "overflow_x": null,
            "grid_auto_flow": null,
            "grid_area": null,
            "grid_template_columns": null,
            "flex": null,
            "_model_name": "LayoutModel",
            "justify_items": null,
            "grid_row": null,
            "max_height": null,
            "align_content": null,
            "visibility": null,
            "align_self": null,
            "height": null,
            "min_height": null,
            "padding": null,
            "grid_auto_rows": null,
            "grid_gap": null,
            "max_width": null,
            "order": null,
            "_view_module_version": "1.2.0",
            "grid_template_areas": null,
            "object_position": null,
            "object_fit": null,
            "grid_auto_columns": null,
            "margin": null,
            "display": null,
            "left": null
          }
        },
        "c13605c58c9c464281ff77fde8f0ebbf": {
          "model_module": "@jupyter-widgets/controls",
          "model_name": "HTMLModel",
          "model_module_version": "1.5.0",
          "state": {
            "_view_name": "HTMLView",
            "style": "IPY_MODEL_00b20c8478a04f34a53682bb9e878435",
            "_dom_classes": [],
            "description": "",
            "_model_name": "HTMLModel",
            "placeholder": "​",
            "_view_module": "@jupyter-widgets/controls",
            "_model_module_version": "1.5.0",
            "value": "Downloading: 100%",
            "_view_count": null,
            "_view_module_version": "1.5.0",
            "description_tooltip": null,
            "_model_module": "@jupyter-widgets/controls",
            "layout": "IPY_MODEL_d955423799d64f43a8c21219e403d48e"
          }
        },
        "904ba1682a284a6bb096e9e036ad26dc": {
          "model_module": "@jupyter-widgets/controls",
          "model_name": "FloatProgressModel",
          "model_module_version": "1.5.0",
          "state": {
            "_view_name": "ProgressView",
            "style": "IPY_MODEL_f1e97b5d012245e79a523e2264381d5c",
            "_dom_classes": [],
            "description": "",
            "_model_name": "FloatProgressModel",
            "bar_style": "success",
            "max": 231508,
            "_view_module": "@jupyter-widgets/controls",
            "_model_module_version": "1.5.0",
            "value": 231508,
            "_view_count": null,
            "_view_module_version": "1.5.0",
            "orientation": "horizontal",
            "min": 0,
            "description_tooltip": null,
            "_model_module": "@jupyter-widgets/controls",
            "layout": "IPY_MODEL_de9b6a606a6e489ba844abed394fdec2"
          }
        },
        "cc1968895d5a423eae5c45a69bd93a5d": {
          "model_module": "@jupyter-widgets/controls",
          "model_name": "HTMLModel",
          "model_module_version": "1.5.0",
          "state": {
            "_view_name": "HTMLView",
            "style": "IPY_MODEL_8f6272679c3b424c9e682653afecd099",
            "_dom_classes": [],
            "description": "",
            "_model_name": "HTMLModel",
            "placeholder": "​",
            "_view_module": "@jupyter-widgets/controls",
            "_model_module_version": "1.5.0",
            "value": " 232k/232k [00:00&lt;00:00, 888kB/s]",
            "_view_count": null,
            "_view_module_version": "1.5.0",
            "description_tooltip": null,
            "_model_module": "@jupyter-widgets/controls",
            "layout": "IPY_MODEL_b40b5cdb93c142049df71315a411a078"
          }
        },
        "00b20c8478a04f34a53682bb9e878435": {
          "model_module": "@jupyter-widgets/controls",
          "model_name": "DescriptionStyleModel",
          "model_module_version": "1.5.0",
          "state": {
            "_view_name": "StyleView",
            "_model_name": "DescriptionStyleModel",
            "description_width": "",
            "_view_module": "@jupyter-widgets/base",
            "_model_module_version": "1.5.0",
            "_view_count": null,
            "_view_module_version": "1.2.0",
            "_model_module": "@jupyter-widgets/controls"
          }
        },
        "d955423799d64f43a8c21219e403d48e": {
          "model_module": "@jupyter-widgets/base",
          "model_name": "LayoutModel",
          "model_module_version": "1.2.0",
          "state": {
            "_view_name": "LayoutView",
            "grid_template_rows": null,
            "right": null,
            "justify_content": null,
            "_view_module": "@jupyter-widgets/base",
            "overflow": null,
            "_model_module_version": "1.2.0",
            "_view_count": null,
            "flex_flow": null,
            "width": null,
            "min_width": null,
            "border": null,
            "align_items": null,
            "bottom": null,
            "_model_module": "@jupyter-widgets/base",
            "top": null,
            "grid_column": null,
            "overflow_y": null,
            "overflow_x": null,
            "grid_auto_flow": null,
            "grid_area": null,
            "grid_template_columns": null,
            "flex": null,
            "_model_name": "LayoutModel",
            "justify_items": null,
            "grid_row": null,
            "max_height": null,
            "align_content": null,
            "visibility": null,
            "align_self": null,
            "height": null,
            "min_height": null,
            "padding": null,
            "grid_auto_rows": null,
            "grid_gap": null,
            "max_width": null,
            "order": null,
            "_view_module_version": "1.2.0",
            "grid_template_areas": null,
            "object_position": null,
            "object_fit": null,
            "grid_auto_columns": null,
            "margin": null,
            "display": null,
            "left": null
          }
        },
        "f1e97b5d012245e79a523e2264381d5c": {
          "model_module": "@jupyter-widgets/controls",
          "model_name": "ProgressStyleModel",
          "model_module_version": "1.5.0",
          "state": {
            "_view_name": "StyleView",
            "_model_name": "ProgressStyleModel",
            "description_width": "",
            "_view_module": "@jupyter-widgets/base",
            "_model_module_version": "1.5.0",
            "_view_count": null,
            "_view_module_version": "1.2.0",
            "bar_color": null,
            "_model_module": "@jupyter-widgets/controls"
          }
        },
        "de9b6a606a6e489ba844abed394fdec2": {
          "model_module": "@jupyter-widgets/base",
          "model_name": "LayoutModel",
          "model_module_version": "1.2.0",
          "state": {
            "_view_name": "LayoutView",
            "grid_template_rows": null,
            "right": null,
            "justify_content": null,
            "_view_module": "@jupyter-widgets/base",
            "overflow": null,
            "_model_module_version": "1.2.0",
            "_view_count": null,
            "flex_flow": null,
            "width": null,
            "min_width": null,
            "border": null,
            "align_items": null,
            "bottom": null,
            "_model_module": "@jupyter-widgets/base",
            "top": null,
            "grid_column": null,
            "overflow_y": null,
            "overflow_x": null,
            "grid_auto_flow": null,
            "grid_area": null,
            "grid_template_columns": null,
            "flex": null,
            "_model_name": "LayoutModel",
            "justify_items": null,
            "grid_row": null,
            "max_height": null,
            "align_content": null,
            "visibility": null,
            "align_self": null,
            "height": null,
            "min_height": null,
            "padding": null,
            "grid_auto_rows": null,
            "grid_gap": null,
            "max_width": null,
            "order": null,
            "_view_module_version": "1.2.0",
            "grid_template_areas": null,
            "object_position": null,
            "object_fit": null,
            "grid_auto_columns": null,
            "margin": null,
            "display": null,
            "left": null
          }
        },
        "8f6272679c3b424c9e682653afecd099": {
          "model_module": "@jupyter-widgets/controls",
          "model_name": "DescriptionStyleModel",
          "model_module_version": "1.5.0",
          "state": {
            "_view_name": "StyleView",
            "_model_name": "DescriptionStyleModel",
            "description_width": "",
            "_view_module": "@jupyter-widgets/base",
            "_model_module_version": "1.5.0",
            "_view_count": null,
            "_view_module_version": "1.2.0",
            "_model_module": "@jupyter-widgets/controls"
          }
        },
        "b40b5cdb93c142049df71315a411a078": {
          "model_module": "@jupyter-widgets/base",
          "model_name": "LayoutModel",
          "model_module_version": "1.2.0",
          "state": {
            "_view_name": "LayoutView",
            "grid_template_rows": null,
            "right": null,
            "justify_content": null,
            "_view_module": "@jupyter-widgets/base",
            "overflow": null,
            "_model_module_version": "1.2.0",
            "_view_count": null,
            "flex_flow": null,
            "width": null,
            "min_width": null,
            "border": null,
            "align_items": null,
            "bottom": null,
            "_model_module": "@jupyter-widgets/base",
            "top": null,
            "grid_column": null,
            "overflow_y": null,
            "overflow_x": null,
            "grid_auto_flow": null,
            "grid_area": null,
            "grid_template_columns": null,
            "flex": null,
            "_model_name": "LayoutModel",
            "justify_items": null,
            "grid_row": null,
            "max_height": null,
            "align_content": null,
            "visibility": null,
            "align_self": null,
            "height": null,
            "min_height": null,
            "padding": null,
            "grid_auto_rows": null,
            "grid_gap": null,
            "max_width": null,
            "order": null,
            "_view_module_version": "1.2.0",
            "grid_template_areas": null,
            "object_position": null,
            "object_fit": null,
            "grid_auto_columns": null,
            "margin": null,
            "display": null,
            "left": null
          }
        },
        "ce82d0ff4f32409aa63e80b491c03539": {
          "model_module": "@jupyter-widgets/controls",
          "model_name": "HBoxModel",
          "model_module_version": "1.5.0",
          "state": {
            "_view_name": "HBoxView",
            "_dom_classes": [],
            "_model_name": "HBoxModel",
            "_view_module": "@jupyter-widgets/controls",
            "_model_module_version": "1.5.0",
            "_view_count": null,
            "_view_module_version": "1.5.0",
            "box_style": "",
            "layout": "IPY_MODEL_236e6ef328c74b96867192a22cd94f87",
            "_model_module": "@jupyter-widgets/controls",
            "children": [
              "IPY_MODEL_b8ea9d20ce00450bb38b46c06735cb32",
              "IPY_MODEL_012977df2e2140ceae942af7792249b5",
              "IPY_MODEL_4f69b22eefde447cab67f0299befc774"
            ]
          }
        },
        "236e6ef328c74b96867192a22cd94f87": {
          "model_module": "@jupyter-widgets/base",
          "model_name": "LayoutModel",
          "model_module_version": "1.2.0",
          "state": {
            "_view_name": "LayoutView",
            "grid_template_rows": null,
            "right": null,
            "justify_content": null,
            "_view_module": "@jupyter-widgets/base",
            "overflow": null,
            "_model_module_version": "1.2.0",
            "_view_count": null,
            "flex_flow": null,
            "width": null,
            "min_width": null,
            "border": null,
            "align_items": null,
            "bottom": null,
            "_model_module": "@jupyter-widgets/base",
            "top": null,
            "grid_column": null,
            "overflow_y": null,
            "overflow_x": null,
            "grid_auto_flow": null,
            "grid_area": null,
            "grid_template_columns": null,
            "flex": null,
            "_model_name": "LayoutModel",
            "justify_items": null,
            "grid_row": null,
            "max_height": null,
            "align_content": null,
            "visibility": null,
            "align_self": null,
            "height": null,
            "min_height": null,
            "padding": null,
            "grid_auto_rows": null,
            "grid_gap": null,
            "max_width": null,
            "order": null,
            "_view_module_version": "1.2.0",
            "grid_template_areas": null,
            "object_position": null,
            "object_fit": null,
            "grid_auto_columns": null,
            "margin": null,
            "display": null,
            "left": null
          }
        },
        "b8ea9d20ce00450bb38b46c06735cb32": {
          "model_module": "@jupyter-widgets/controls",
          "model_name": "HTMLModel",
          "model_module_version": "1.5.0",
          "state": {
            "_view_name": "HTMLView",
            "style": "IPY_MODEL_9aac744a48e94f92af1822a05a6e15da",
            "_dom_classes": [],
            "description": "",
            "_model_name": "HTMLModel",
            "placeholder": "​",
            "_view_module": "@jupyter-widgets/controls",
            "_model_module_version": "1.5.0",
            "value": "Downloading: 100%",
            "_view_count": null,
            "_view_module_version": "1.5.0",
            "description_tooltip": null,
            "_model_module": "@jupyter-widgets/controls",
            "layout": "IPY_MODEL_a8484601ee704915972977dcb6cd070f"
          }
        },
        "012977df2e2140ceae942af7792249b5": {
          "model_module": "@jupyter-widgets/controls",
          "model_name": "FloatProgressModel",
          "model_module_version": "1.5.0",
          "state": {
            "_view_name": "ProgressView",
            "style": "IPY_MODEL_3f46df698e49443eb5d71df3bebbc7b5",
            "_dom_classes": [],
            "description": "",
            "_model_name": "FloatProgressModel",
            "bar_style": "success",
            "max": 466062,
            "_view_module": "@jupyter-widgets/controls",
            "_model_module_version": "1.5.0",
            "value": 466062,
            "_view_count": null,
            "_view_module_version": "1.5.0",
            "orientation": "horizontal",
            "min": 0,
            "description_tooltip": null,
            "_model_module": "@jupyter-widgets/controls",
            "layout": "IPY_MODEL_de7b55ba51ff4e4caf7d2296e50cb1a3"
          }
        },
        "4f69b22eefde447cab67f0299befc774": {
          "model_module": "@jupyter-widgets/controls",
          "model_name": "HTMLModel",
          "model_module_version": "1.5.0",
          "state": {
            "_view_name": "HTMLView",
            "style": "IPY_MODEL_04052a66796945e3a8ba63ad58d9314c",
            "_dom_classes": [],
            "description": "",
            "_model_name": "HTMLModel",
            "placeholder": "​",
            "_view_module": "@jupyter-widgets/controls",
            "_model_module_version": "1.5.0",
            "value": " 466k/466k [00:00&lt;00:00, 1.25MB/s]",
            "_view_count": null,
            "_view_module_version": "1.5.0",
            "description_tooltip": null,
            "_model_module": "@jupyter-widgets/controls",
            "layout": "IPY_MODEL_1854a6b452b14ee297b184dc04a55bee"
          }
        },
        "9aac744a48e94f92af1822a05a6e15da": {
          "model_module": "@jupyter-widgets/controls",
          "model_name": "DescriptionStyleModel",
          "model_module_version": "1.5.0",
          "state": {
            "_view_name": "StyleView",
            "_model_name": "DescriptionStyleModel",
            "description_width": "",
            "_view_module": "@jupyter-widgets/base",
            "_model_module_version": "1.5.0",
            "_view_count": null,
            "_view_module_version": "1.2.0",
            "_model_module": "@jupyter-widgets/controls"
          }
        },
        "a8484601ee704915972977dcb6cd070f": {
          "model_module": "@jupyter-widgets/base",
          "model_name": "LayoutModel",
          "model_module_version": "1.2.0",
          "state": {
            "_view_name": "LayoutView",
            "grid_template_rows": null,
            "right": null,
            "justify_content": null,
            "_view_module": "@jupyter-widgets/base",
            "overflow": null,
            "_model_module_version": "1.2.0",
            "_view_count": null,
            "flex_flow": null,
            "width": null,
            "min_width": null,
            "border": null,
            "align_items": null,
            "bottom": null,
            "_model_module": "@jupyter-widgets/base",
            "top": null,
            "grid_column": null,
            "overflow_y": null,
            "overflow_x": null,
            "grid_auto_flow": null,
            "grid_area": null,
            "grid_template_columns": null,
            "flex": null,
            "_model_name": "LayoutModel",
            "justify_items": null,
            "grid_row": null,
            "max_height": null,
            "align_content": null,
            "visibility": null,
            "align_self": null,
            "height": null,
            "min_height": null,
            "padding": null,
            "grid_auto_rows": null,
            "grid_gap": null,
            "max_width": null,
            "order": null,
            "_view_module_version": "1.2.0",
            "grid_template_areas": null,
            "object_position": null,
            "object_fit": null,
            "grid_auto_columns": null,
            "margin": null,
            "display": null,
            "left": null
          }
        },
        "3f46df698e49443eb5d71df3bebbc7b5": {
          "model_module": "@jupyter-widgets/controls",
          "model_name": "ProgressStyleModel",
          "model_module_version": "1.5.0",
          "state": {
            "_view_name": "StyleView",
            "_model_name": "ProgressStyleModel",
            "description_width": "",
            "_view_module": "@jupyter-widgets/base",
            "_model_module_version": "1.5.0",
            "_view_count": null,
            "_view_module_version": "1.2.0",
            "bar_color": null,
            "_model_module": "@jupyter-widgets/controls"
          }
        },
        "de7b55ba51ff4e4caf7d2296e50cb1a3": {
          "model_module": "@jupyter-widgets/base",
          "model_name": "LayoutModel",
          "model_module_version": "1.2.0",
          "state": {
            "_view_name": "LayoutView",
            "grid_template_rows": null,
            "right": null,
            "justify_content": null,
            "_view_module": "@jupyter-widgets/base",
            "overflow": null,
            "_model_module_version": "1.2.0",
            "_view_count": null,
            "flex_flow": null,
            "width": null,
            "min_width": null,
            "border": null,
            "align_items": null,
            "bottom": null,
            "_model_module": "@jupyter-widgets/base",
            "top": null,
            "grid_column": null,
            "overflow_y": null,
            "overflow_x": null,
            "grid_auto_flow": null,
            "grid_area": null,
            "grid_template_columns": null,
            "flex": null,
            "_model_name": "LayoutModel",
            "justify_items": null,
            "grid_row": null,
            "max_height": null,
            "align_content": null,
            "visibility": null,
            "align_self": null,
            "height": null,
            "min_height": null,
            "padding": null,
            "grid_auto_rows": null,
            "grid_gap": null,
            "max_width": null,
            "order": null,
            "_view_module_version": "1.2.0",
            "grid_template_areas": null,
            "object_position": null,
            "object_fit": null,
            "grid_auto_columns": null,
            "margin": null,
            "display": null,
            "left": null
          }
        },
        "04052a66796945e3a8ba63ad58d9314c": {
          "model_module": "@jupyter-widgets/controls",
          "model_name": "DescriptionStyleModel",
          "model_module_version": "1.5.0",
          "state": {
            "_view_name": "StyleView",
            "_model_name": "DescriptionStyleModel",
            "description_width": "",
            "_view_module": "@jupyter-widgets/base",
            "_model_module_version": "1.5.0",
            "_view_count": null,
            "_view_module_version": "1.2.0",
            "_model_module": "@jupyter-widgets/controls"
          }
        },
        "1854a6b452b14ee297b184dc04a55bee": {
          "model_module": "@jupyter-widgets/base",
          "model_name": "LayoutModel",
          "model_module_version": "1.2.0",
          "state": {
            "_view_name": "LayoutView",
            "grid_template_rows": null,
            "right": null,
            "justify_content": null,
            "_view_module": "@jupyter-widgets/base",
            "overflow": null,
            "_model_module_version": "1.2.0",
            "_view_count": null,
            "flex_flow": null,
            "width": null,
            "min_width": null,
            "border": null,
            "align_items": null,
            "bottom": null,
            "_model_module": "@jupyter-widgets/base",
            "top": null,
            "grid_column": null,
            "overflow_y": null,
            "overflow_x": null,
            "grid_auto_flow": null,
            "grid_area": null,
            "grid_template_columns": null,
            "flex": null,
            "_model_name": "LayoutModel",
            "justify_items": null,
            "grid_row": null,
            "max_height": null,
            "align_content": null,
            "visibility": null,
            "align_self": null,
            "height": null,
            "min_height": null,
            "padding": null,
            "grid_auto_rows": null,
            "grid_gap": null,
            "max_width": null,
            "order": null,
            "_view_module_version": "1.2.0",
            "grid_template_areas": null,
            "object_position": null,
            "object_fit": null,
            "grid_auto_columns": null,
            "margin": null,
            "display": null,
            "left": null
          }
        }
      }
    }
  },
  "cells": [
    {
      "cell_type": "markdown",
      "metadata": {
        "id": "view-in-github",
        "colab_type": "text"
      },
      "source": [
        "<a href=\"https://colab.research.google.com/github/JuanJoseMV/neuraltextgen/blob/main/texygen_test.ipynb\" target=\"_parent\"><img src=\"https://colab.research.google.com/assets/colab-badge.svg\" alt=\"Open In Colab\"/></a>"
      ]
    },
    {
      "cell_type": "code",
      "metadata": {
        "id": "E-gcgNG2Hqy-"
      },
      "source": [
        "%%capture\n",
        "!git clone --recursive https://github.com/JuanJoseMV/neuraltextgen.git\n",
        "!pip install -r /content/neuraltextgen/texygen/requirements.txt\n",
        "!pip install simpletransformers"
      ],
      "execution_count": 2,
      "outputs": []
    },
    {
      "cell_type": "code",
      "metadata": {
        "id": "_tiYCIWEoVfh"
      },
      "source": [
        "%%capture\n",
        "! pip install torch==1.7.1+cu101 torchvision==0.8.2+cu101 torchaudio==0.7.2 -f https://download.pytorch.org/whl/torch_stable.html"
      ],
      "execution_count": 3,
      "outputs": []
    },
    {
      "cell_type": "code",
      "metadata": {
        "id": "0BG38Z9ooecZ",
        "outputId": "063d622c-1cd2-4a86-f45b-86f48f903dbe",
        "colab": {
          "base_uri": "https://localhost:8080/"
        }
      },
      "source": [
        "%%writefile setup.sh\n",
        "export CUDA_HOME=/usr/local/cuda-10.1\n",
        "! git clone https://github.com/NVIDIA/apex\n",
        "! pip install -v --no-cache-dir --global-option=\"--cpp_ext\" --global-option=\"--cuda_ext\" ./apex"
      ],
      "execution_count": 4,
      "outputs": [
        {
          "output_type": "stream",
          "text": [
            "Writing setup.sh\n"
          ],
          "name": "stdout"
        }
      ]
    },
    {
      "cell_type": "code",
      "metadata": {
        "id": "CK3X4eNTohN5"
      },
      "source": [
        "%%capture\n",
        "! sh setup.sh"
      ],
      "execution_count": 5,
      "outputs": []
    },
    {
      "cell_type": "code",
      "metadata": {
        "id": "TS6UgtkC6OG7"
      },
      "source": [
        "## Attempt\n",
        "# ! pip install FastBLEU"
      ],
      "execution_count": null,
      "outputs": []
    },
    {
      "cell_type": "code",
      "metadata": {
        "colab": {
          "base_uri": "https://localhost:8080/"
        },
        "id": "W3RdQ0qXHtHS",
        "outputId": "ce82bd10-ba6e-499d-955c-c5e5cdb059d4"
      },
      "source": [
        "import nltk\n",
        "nltk.download('punkt')\n",
        "\n",
        "import sys, os\n",
        "import os\n",
        "os.chdir(\"/content/neuraltextgen/texygen\")\n",
        "from utils.metrics.Bleu import Bleu\n",
        "from utils.metrics.SelfBleu import SelfBleu\n",
        "\n",
        "os.chdir(\"/content/neuraltextgen/\")\n",
        "from NeuralTextGenerator import BertTextGenerator\n",
        "\n",
        "os.chdir(\"/content\")"
      ],
      "execution_count": 6,
      "outputs": [
        {
          "output_type": "stream",
          "text": [
            "[nltk_data] Downloading package punkt to /root/nltk_data...\n",
            "[nltk_data]   Unzipping tokenizers/punkt.zip.\n"
          ],
          "name": "stdout"
        }
      ]
    },
    {
      "cell_type": "code",
      "metadata": {
        "id": "B8vEfVzAIFK0",
        "colab": {
          "base_uri": "https://localhost:8080/",
          "height": 248,
          "referenced_widgets": [
            "03ba1156fb0a4c10af576d24e74e4199",
            "8afdc24b87304c45bfc28d5191a2d688",
            "aecd06c7ff734eeb9467159b4f515eb3",
            "6078c60a62f74b5fb25b19ee32a8bc2a",
            "3fceaa25ec49427eb0cf2ec822754bae",
            "63febdfdd2674d679fabb4fd78572ed0",
            "923b5ab8957e416e81440a512344b20e",
            "d7e73007be374280a169986ae78075b1",
            "b67813e95ceb4930ae591dedd1d2a78e",
            "cfdc20ef97464c9890a8a1b4807523ff",
            "346079f122144c85b29e56751cc02a29",
            "002460c315e34dccbdd56c337adf5ae1",
            "bfa6cde2597c42ca8dc76d5bafdc4f71",
            "cbc25afda63346a8bb4682a8f8c72b8d",
            "f309cf4882fa4ed790c95db3480bf927",
            "ae3ac662885345248edde864ca7cee51",
            "393169ba98394d2fad589764ee84956f",
            "5461217568954c1587c32baf46aa1197",
            "183a00aa9a034ecbba13d4373ced2282",
            "f94b37a90e4b4c3fba1f6b339e0142ba",
            "78d7b84bf373444680ae9a61735f29ac",
            "4183b2bbcef84af4b0a3b381ff1fbac6",
            "98f827c2b8b1483db614bacbd474b17d",
            "efd3eb07b50b48169d25420245df83c9",
            "1b1bae3bda3e4319a6ecb1f03f088140",
            "0b031a37f1db4e98904b3687595d7353",
            "bdd7428bd1fa40fb8cceff2eda8da755",
            "590f99c6211d4f0abbba6d5c8b74c5e4",
            "5423971eb9f34709827ee358ce9795c4",
            "da6493902342452c9a350cf2504162ec",
            "828d23373ef541078664b6fd2b0bfb44",
            "0d2e86e7488d4c66a5199b7e5c2c939d",
            "953e0bfba7cf42c6a10db847e3e5fd3b",
            "e3e3d40726b74378b70c8b9f6a2154f2",
            "e6af499205684c6ba24fd6049018866f",
            "c13605c58c9c464281ff77fde8f0ebbf",
            "904ba1682a284a6bb096e9e036ad26dc",
            "cc1968895d5a423eae5c45a69bd93a5d",
            "00b20c8478a04f34a53682bb9e878435",
            "d955423799d64f43a8c21219e403d48e",
            "f1e97b5d012245e79a523e2264381d5c",
            "de9b6a606a6e489ba844abed394fdec2",
            "8f6272679c3b424c9e682653afecd099",
            "b40b5cdb93c142049df71315a411a078",
            "ce82d0ff4f32409aa63e80b491c03539",
            "236e6ef328c74b96867192a22cd94f87",
            "b8ea9d20ce00450bb38b46c06735cb32",
            "012977df2e2140ceae942af7792249b5",
            "4f69b22eefde447cab67f0299befc774",
            "9aac744a48e94f92af1822a05a6e15da",
            "a8484601ee704915972977dcb6cd070f",
            "3f46df698e49443eb5d71df3bebbc7b5",
            "de7b55ba51ff4e4caf7d2296e50cb1a3",
            "04052a66796945e3a8ba63ad58d9314c",
            "1854a6b452b14ee297b184dc04a55bee"
          ]
        },
        "outputId": "b106b965-d7d5-4cc9-9702-027642973025"
      },
      "source": [
        "bert_model = BertTextGenerator('bert-base-uncased')\n",
        "\n",
        "parameters = {'n_sentences': 100,  # 1000\n",
        "              'batch_size': 50,  # 50\n",
        "              'max_len': 40,\n",
        "              'top_k': 100,\n",
        "              'temperature': 1,\n",
        "              'burnin': 250,\n",
        "              'sample': True,\n",
        "              'max_iter': 500,\n",
        "              'seed_text': \"\"\n",
        "              }\n",
        "\n",
        "# \"key1=val1_key2=val2_...txt\"\n",
        "file_path = \"_\".join([f\"{k}={v}\" for k, v in parameters.items()])+\".txt\"\n",
        "\n",
        "bert_sents = bert_model.generate(save_to_path=file_path, **parameters)\n"
      ],
      "execution_count": 7,
      "outputs": [
        {
          "output_type": "display_data",
          "data": {
            "application/vnd.jupyter.widget-view+json": {
              "model_id": "03ba1156fb0a4c10af576d24e74e4199",
              "version_minor": 0,
              "version_major": 2
            },
            "text/plain": [
              "Downloading:   0%|          | 0.00/570 [00:00<?, ?B/s]"
            ]
          },
          "metadata": {}
        },
        {
          "output_type": "display_data",
          "data": {
            "application/vnd.jupyter.widget-view+json": {
              "model_id": "002460c315e34dccbdd56c337adf5ae1",
              "version_minor": 0,
              "version_major": 2
            },
            "text/plain": [
              "Downloading:   0%|          | 0.00/440M [00:00<?, ?B/s]"
            ]
          },
          "metadata": {}
        },
        {
          "output_type": "stream",
          "text": [
            "Some weights of the model checkpoint at bert-base-uncased were not used when initializing BertForMaskedLM: ['cls.seq_relationship.weight', 'cls.seq_relationship.bias']\n",
            "- This IS expected if you are initializing BertForMaskedLM from the checkpoint of a model trained on another task or with another architecture (e.g. initializing a BertForSequenceClassification model from a BertForPreTraining model).\n",
            "- This IS NOT expected if you are initializing BertForMaskedLM from the checkpoint of a model that you expect to be exactly identical (initializing a BertForSequenceClassification model from a BertForSequenceClassification model).\n"
          ],
          "name": "stderr"
        },
        {
          "output_type": "display_data",
          "data": {
            "application/vnd.jupyter.widget-view+json": {
              "model_id": "98f827c2b8b1483db614bacbd474b17d",
              "version_minor": 0,
              "version_major": 2
            },
            "text/plain": [
              "Downloading:   0%|          | 0.00/28.0 [00:00<?, ?B/s]"
            ]
          },
          "metadata": {}
        },
        {
          "output_type": "display_data",
          "data": {
            "application/vnd.jupyter.widget-view+json": {
              "model_id": "e3e3d40726b74378b70c8b9f6a2154f2",
              "version_minor": 0,
              "version_major": 2
            },
            "text/plain": [
              "Downloading:   0%|          | 0.00/232k [00:00<?, ?B/s]"
            ]
          },
          "metadata": {}
        },
        {
          "output_type": "display_data",
          "data": {
            "application/vnd.jupyter.widget-view+json": {
              "model_id": "ce82d0ff4f32409aa63e80b491c03539",
              "version_minor": 0,
              "version_major": 2
            },
            "text/plain": [
              "Downloading:   0%|          | 0.00/466k [00:00<?, ?B/s]"
            ]
          },
          "metadata": {}
        }
      ]
    },
    {
      "cell_type": "code",
      "metadata": {
        "id": "8J_yZEmpsDAX",
        "colab": {
          "base_uri": "https://localhost:8080/"
        },
        "outputId": "3ad07485-f54b-472c-98f6-4a4cf35fb903"
      },
      "source": [
        "print(\"\\nEnglish text generated: \")\n",
        "for sent in bert_sents:\n",
        "  print(f\"\\t{sent}\")"
      ],
      "execution_count": 8,
      "outputs": [
        {
          "output_type": "stream",
          "text": [
            "\n",
            "English text generated: \n",
            "\toh, but there was something wonderful, wonderful about ian mackenzie and his family, and the wonderful people they all were.\n",
            "\tit's not like i will be here all night, or all day. i will just be burrowed inside.\n",
            "\t\" and so am i. \" \" is that so, little one? \" the queen asked, fully awake now.\n",
            "\t''i must go, and i will not go back there without you.'' my voice comes out hoarse.\n",
            "\tmr. thomas as the chief medical officer of the st mary's hospital. mr. john thomas as medical officer.\n",
            "\tpeter ( peter ) davies, alan bateman, alan davies, alan davies. writer and director : david dench.\n",
            "\t' heven, leave the girls alone. leave the bride and groom alone.'i looked up into his eyes.\n",
            "\the is an executive and management consultant working in the international divisions of ici group, among others, and companies worldwide.\n",
            "\tthe japanese version also features the cover art of the japanese version of the album, along with the japanese version released internationally.\n",
            "\tit was as loud as he could hear in the night, the same as day and night. he scanned the area.\n",
            "\t\" did i what? \" no. \" i never slept with keely. \" shit, was that even possible?\n",
            "\t( david davies, for example, a history of the russian orthodox church, 8 may 2006 ). davies, david.\n",
            "\t( see below ) 1864 - 1865. letters from new york to jack morris :.. letters to jack morris :.\n",
            "\t\" the seed of seed... seed of seed... the seed... the seed of seed... \" the boy nodded slowly.\n",
            "\t\" sometimes you have to find someone who has a whole lot of emotional baggage. \" \" yeah, \" i said.\n",
            "\t2006 rossi, anni ( ed ( ed. ) ) : 2006 - 2007 rossi, anni ( ed. )\n",
            "\the looked so serious, like he was thinking about being with me again. \" let me go, \" he said.\n",
            "\tand the following entities : israel port authority : the port authority's legal successor is the israel economic and monetary authority.\n",
            "\tsir william smith, mp, who was mp for harrow and battersea, died aged 66 years old ( unmarried ).\n",
            "\twhy?'' ( because i live here! )'' you're crazy!'' i love you!\n",
            "\twritten by david bowie. dedicated to david bowie. \" cry for me love, love, love cry for me \".\n",
            "\t\" a horrible, horrible, horrible boy. he was just a little boy. \" and a little boy, too.\n",
            "\tbut i also knew the real world i was in. i had walked into it a year ago and turned it around.\n",
            "\tand i do. well, at first, we all agreed that it was an easy decision. now, i do.\n",
            "\t\" your family is thick as thieves. \" \" no husband, no children. \" the door slammed again and again.\n",
            "\talthough the men had worked hard, they were not very successful. it is also said that the women were very successful.\n",
            "\tbut i also thought about how much my hooking up with my older brother ( and who he was ) had helped.\n",
            "\t\" the symbol can also be attached to something, just like a't.'\" my heart skipped a beat.\n",
            "\the made a sharp turn and entered the cave, lying flat on his back. kendra and the others followed behind him.\n",
            "\tprinciples and applications of mathematics, princeton university press, princeton, 1987, p. 1.......\n",
            "\t\" my lady, hear the voice of richard! the voice of richard! you must hear what he has said! \"\n",
            "\tcolonel john mcdonald ( 1971 - 1999 ) ( retired ). air marshal john j. mcdonald ( retired in 1999 ).\n",
            "\t\" and what do i do if my father wants a piece of me? \" saetan's long fingers steepled.\n",
            "\t\" i'm not sure what that word would mean.'come on,'\" i said, standing up.\n",
            "\tp. 9. jones, nigel ( 2012 - 13 ) - - ; jones, nigel ; - - - - ;\n",
            "\t\" you remember when i said i was watching those old movies and loved them so much? \" i forced a smile.\n",
            "\tthe character first became a playable playable character in the japanese version of revelations ii : revelations and has been appearing ever since.\n",
            "\t\" your presence in the room was designed to protect it. \" \" it was designed, \" daemon sadi said.\n",
            "\tthen the pain goes away and i drift off. i forget where i am. i forget what he did to me.\n",
            "\tjames wilson was born in in the baltimore area of maryland, to lieutenant colonel james milburn wilson and mary ann wilson.\n",
            "\tthe people. the people the ex - cops were talking about, i thought, looking at the people who knew me.\n",
            "\t( 2000 ). our lives together. heart - to - heart. our lives heart to heart. ( 2000 ).\n",
            "\tit is a double double - cd set, with one disc each containing songs by john lennon and clark terry - lewis.\n",
            "\ti now understood why so many different people had lived here since the late 1800s, but they were all gone by now.\n",
            "\talex and i are more than friends. alex and i have always gotten along. alex and i have gotten back together.\n",
            "\toh god, oh my god. if it did happen, then what? \" no, \" i said, stunned.\n",
            "\t\" well, if i said'no government, there would be no government,'\" vanion said bluntly.\n",
            "\thonourable william henry alexander hamilton, member of parliament. the honourable william alexander hamilton, of ballymun. alexander hamilton.\n",
            "\toh, and then he was doing it, laughing and talking again, like he was actually talking to his best friend.\n",
            "\talthough the single version was released in two versions, \" someone like you \" and \" teenage dream \" are almost identical.\n",
            "\thon william thomson lieut. hon james thomson william thomson hon james thomson hon william thomson lieut.\n",
            "\t' why, exactly, are you talking to me?'' my whole life is different. '\n",
            "\the was as far gone as his father and brother. swanny had been raised by swanny.\n",
            "\tthen one, two, three, then three, three, and always one, and always one.\n",
            "\tshe and he are married and he will live with her. she and kabir have two sons.\n",
            "\t27 - 30 ( 2001 ). piano sonata : sonata ( sonata for piano ) in a minor.\n",
            "\teven the dauphin, of the royal house of france, was more a tory than a jacobin.\n",
            "\taccording to her, he was a high - level agent and they often worked together as a team.\n",
            "\tj. bott. ( 1911 ) history of johnson & johnson life insurance co. bott.\n",
            "\tpreparations for the hungarian revolution of 1848. budapest : a. g. varga. english translation.\n",
            "\tand just what the hell was she doing here? far too dangerous to be in a public place.\n",
            "\ti took my wet clothes off, leaving all my wet clothes behind in a very small metal box.\n",
            "\t{ 1 }. two other issues are under consideration, both of which are considered by the committee.\n",
            "\t1, issue # 1, no. 1, 1986. smith, simms ( 1987 ).\n",
            "\tbesson had a young adult son, jean - baptiste, and a daughter marie - josephe.\n",
            "\tcaptain james alexander mcleod. warrant officer james alexander mcleod mc. warrant officer james a. mcleod mc.\n",
            "\ti was shocked, not shocked, not shocked, not in any way. i was shocked too.\n",
            "\tbut more importantly, he had more than a few kids and had a wife who lived with him.\n",
            "\t\" not for me, \" said the wolf. \" no, \" said the crossbreed.\n",
            "\ti asked in disbelief. \" you know her name? \" \" her real name is ember.\n",
            "\tthe \" a \" model and the \" b \" are currently ( ) only available for retail sale.\n",
            "\tten minutes later he was gone. vinny : well, he's a good looking guy.\n",
            "\teven when we are apart, he is always so gentle, and his gentleness always lingers.\n",
            "\t....................\n",
            "\t\" like the blue - eyed girl i was dancing with, \" i said, and he laughed.\n",
            "\tpp. 780 - 788. london : penguin books, 1980. li li and wang li.\n",
            "\the taught courses in philosophy, history, business administration, etc., very popular among his students.\n",
            "\tthey had one daughter, elizabeth ( now a widow ), before she remarried to lord dartmoor.\n",
            "\tnone of the men showed the slightest sign of any kind of evil intent, aside from briec.\n",
            "\tcharacters named \" bob \" \" bob \", \" bob, \" and \" bob \" were introduced.\n",
            "\tshe married john smith, private secretary to john stuart mill and had two sons, but no daughters.\n",
            "\tsci., sci., sci., cit., cit., syst.\n",
            "\t\" so this is it, \" i always tell her, and it always makes me antsy.\n",
            "\tthere, she meets her brother paul ( peter cook ) who lives in st kilda with selina.\n",
            "\ta man who could change the world. but shahara knew what to do with him right now.\n",
            "\tthey had three children, and a very small number of grandchildren, who are buried in the cemetery.\n",
            "\twhen he did, finally, finally calm down, he was back back to his normal normal self.\n",
            "\t\" for the last time, \" he said, still staring out the window at the setting sun.\n",
            "\tafter the album is completed, phil collins also joins the band, replacing keyboard player simon cowell.\n",
            "\ti did not really know him, but sometimes i wondered what he had to do with my life.\n",
            "\tindeed, he knows without a doubt the power he [ the occultist ] has over us all.\n",
            "\t' talk about'write '. talk about'' read'' and'' write '.\n",
            "\tin summer it is dried, and then sun - dried again, and then mixed with fresh water.\n",
            "\tsir sir john mottram, 1st baronet, 2nd baronet, c. b., bt.\n",
            "\ton the most recent occasion he had stopped talking. \" i... \" he sounded almost regretful.\n",
            "\tex - husband, john, and his wife elizabeth, and children, john, john and elizabeth ;\n",
            "\tmember of the conservative party of norway. before the election the deputy party leader was per nilsen.\n",
            "\tit would also be agreed that the scottish government would build a line from mersey to glasgow central.\n",
            "\tif glenda hopewell is in charge of the investigation, she has a point, after all.\n",
            "\tchristian st. germain is a swiss footballer. he has played internationally for the switzerland national football team.\n"
          ],
          "name": "stdout"
        }
      ]
    },
    {
      "cell_type": "markdown",
      "metadata": {
        "id": "BAyLelGANeRN"
      },
      "source": [
        "#Evaluation - Original"
      ]
    },
    {
      "cell_type": "code",
      "metadata": {
        "id": "WReMKKtxNd3Y"
      },
      "source": [
        "from nltk.translate import bleu_score as bleu\n",
        "\n",
        "def prepare_data(data_file, replacements={}, uncased=True):\n",
        "    data = [d.strip().split() for d in open(data_file, 'r').readlines()]\n",
        "    if uncased:\n",
        "        data = [[t.lower() for t in sent] for sent in data]\n",
        "        \n",
        "    for k, v in replacements.items():\n",
        "        data = [[t if t != k else v for t in sent] for sent in data]\n",
        " \n",
        "    return data\n",
        "\n",
        "def prepare_wiki(data_file, uncased=True):\n",
        "    replacements = {\"@@unknown@@\": \"[UNK]\"}\n",
        "    return prepare_data(data_file, replacements=replacements, uncased=uncased)\n",
        "\n",
        "def prepare_tbc(data_file):        \n",
        "    replacements = {\"``\": \"\\\"\", \"\\'\\'\": \"\\\"\"}\n",
        "    return prepare_data(data_file, replacements=replacements)\n",
        "\n",
        "def corpus_bleu(generated, references):\n",
        "    \"\"\" Compute similarity between two corpora as measured by\n",
        "    comparing each sentence of `generated` against all sentences in `references` \n",
        "    \n",
        "    args:\n",
        "        - generated (List[List[str]]): list of sentences (split into tokens)\n",
        "        - references (List[List[str]]): list of sentences (split into tokens)\n",
        "        \n",
        "    returns:\n",
        "        - bleu (float)\n",
        "    \"\"\"    \n",
        "    return bleu.corpus_bleu([references for _ in range(len(generated))], generated)"
      ],
      "execution_count": 8,
      "outputs": []
    },
    {
      "cell_type": "code",
      "metadata": {
        "id": "a1G6pbRKNi2d",
        "colab": {
          "base_uri": "https://localhost:8080/"
        },
        "outputId": "d6989c61-e827-40c7-9f11-55f5b238c3e1"
      },
      "source": [
        "! git clone https://github.com/nyu-dl/bert-gen\n",
        "wiki103_file = 'bert-gen/data/wiki103.5k.txt'\n",
        "tbc_file = 'bert-gen/data/tbc.5k.txt'\n",
        "\n",
        "wiki_data = prepare_wiki(wiki103_file)\n",
        "tbc_data = prepare_tbc(tbc_file)"
      ],
      "execution_count": 10,
      "outputs": [
        {
          "output_type": "stream",
          "text": [
            "Cloning into 'bert-gen'...\n",
            "remote: Enumerating objects: 78, done.\u001b[K\n",
            "remote: Total 78 (delta 0), reused 0 (delta 0), pack-reused 78\u001b[K\n",
            "Unpacking objects: 100% (78/78), done.\n"
          ],
          "name": "stdout"
        }
      ]
    },
    {
      "cell_type": "markdown",
      "metadata": {
        "id": "Y4eu_1FlRUbT"
      },
      "source": [
        "Try to evaluate using original functions and no cleaning of wiki-data"
      ]
    },
    {
      "cell_type": "code",
      "metadata": {
        "id": "Apeq6y0zN6Z4",
        "colab": {
          "base_uri": "https://localhost:8080/"
        },
        "outputId": "a1af80c9-883b-442c-ec93-b096747ea5de"
      },
      "source": [
        "print(\"BERT-TBC BLEU: %.2f\" % (100 * corpus_bleu(bert_sents, tbc_data)))\n",
        "print(\"BERT-Wiki103 BLEU: %.2f\" % (100 * corpus_bleu(bert_sents, wiki_data)))\n",
        "print(\"BERT-{TBC + Wiki103} BLEU: %.2f\" % (100 * corpus_bleu(bert_sents, tbc_data[:2500] + wiki_data[:2500])))"
      ],
      "execution_count": 11,
      "outputs": [
        {
          "output_type": "stream",
          "text": [
            "/usr/local/lib/python3.7/dist-packages/nltk/translate/bleu_score.py:490: UserWarning: \n",
            "Corpus/Sentence contains 0 counts of 4-gram overlaps.\n",
            "BLEU scores might be undesirable; use SmoothingFunction().\n",
            "  warnings.warn(_msg)\n"
          ],
          "name": "stderr"
        },
        {
          "output_type": "stream",
          "text": [
            "BERT-TBC BLEU: 2.09\n"
          ],
          "name": "stdout"
        },
        {
          "output_type": "stream",
          "text": [
            "/usr/local/lib/python3.7/dist-packages/nltk/translate/bleu_score.py:490: UserWarning: \n",
            "Corpus/Sentence contains 0 counts of 3-gram overlaps.\n",
            "BLEU scores might be undesirable; use SmoothingFunction().\n",
            "  warnings.warn(_msg)\n"
          ],
          "name": "stderr"
        },
        {
          "output_type": "stream",
          "text": [
            "BERT-Wiki103 BLEU: 27.48\n",
            "BERT-{TBC + Wiki103} BLEU: 26.46\n"
          ],
          "name": "stdout"
        }
      ]
    },
    {
      "cell_type": "markdown",
      "metadata": {
        "id": "RBtiIe1lRbCt"
      },
      "source": [
        "Try to evaluate after cleaning"
      ]
    },
    {
      "cell_type": "code",
      "metadata": {
        "id": "TZCYFkW9RfKe",
        "colab": {
          "base_uri": "https://localhost:8080/"
        },
        "outputId": "8539ea1c-3e8e-4f83-f11a-65872de2c55c"
      },
      "source": [
        "def cleaner(data):\n",
        "  len_mask = []\n",
        "  for i in range(len(data)):\n",
        "    if len(data[i]) < 4:\n",
        "      len_mask.append(False)\n",
        "    else:\n",
        "      len_mask.append(True)\n",
        "\n",
        "  data = [b for a, b in zip(len_mask, data) if a]\n",
        "  return data\n",
        "\n",
        "wiki_data = cleaner(wiki_data)\n",
        "tbc_data = cleaner(tbc_data)\n",
        "\n",
        "print(\"BERT-TBC BLEU: %.2f\" % (100 * corpus_bleu(bert_sents, tbc_data)))\n",
        "print(\"BERT-Wiki103 BLEU: %.2f\" % (100 * corpus_bleu(bert_sents, wiki_data)))\n",
        "print(\"BERT-{TBC + Wiki103} BLEU: %.2f\" % (100 * corpus_bleu(bert_sents, tbc_data[:2500] + wiki_data[:2500])))"
      ],
      "execution_count": 12,
      "outputs": [
        {
          "output_type": "stream",
          "text": [
            "/usr/local/lib/python3.7/dist-packages/nltk/translate/bleu_score.py:490: UserWarning: \n",
            "Corpus/Sentence contains 0 counts of 4-gram overlaps.\n",
            "BLEU scores might be undesirable; use SmoothingFunction().\n",
            "  warnings.warn(_msg)\n"
          ],
          "name": "stderr"
        },
        {
          "output_type": "stream",
          "text": [
            "BERT-TBC BLEU: 2.09\n"
          ],
          "name": "stdout"
        },
        {
          "output_type": "stream",
          "text": [
            "/usr/local/lib/python3.7/dist-packages/nltk/translate/bleu_score.py:490: UserWarning: \n",
            "Corpus/Sentence contains 0 counts of 3-gram overlaps.\n",
            "BLEU scores might be undesirable; use SmoothingFunction().\n",
            "  warnings.warn(_msg)\n"
          ],
          "name": "stderr"
        },
        {
          "output_type": "stream",
          "text": [
            "BERT-Wiki103 BLEU: 27.48\n",
            "BERT-{TBC + Wiki103} BLEU: 26.46\n"
          ],
          "name": "stdout"
        }
      ]
    },
    {
      "cell_type": "markdown",
      "metadata": {
        "id": "l6GquBooOFDS"
      },
      "source": [
        "## Evaluation - Texygen"
      ]
    },
    {
      "cell_type": "code",
      "metadata": {
        "colab": {
          "base_uri": "https://localhost:8080/"
        },
        "id": "qQmE68W1LkXt",
        "outputId": "6caf3985-4c1c-496d-88bd-86cb926c4430"
      },
      "source": [
        "bleu_score_tbc = Bleu(file_path, tbc_file)\n",
        "bleu_score_wiki = Bleu(file_path, wiki103_file)\n",
        "\n",
        "print(\"(Texygen) BERT-TBC BLEU: %.2f\" % (100 * bleu_score_tbc.get_bleu()))\n",
        "print(\"(Texygen) BERT-Wiki103 BLEU: %.2f\" % (100 * bleu_score_wiki.get_bleu()))"
      ],
      "execution_count": 13,
      "outputs": [
        {
          "output_type": "stream",
          "text": [
            "(Texygen) BERT-TBC BLEU: 29.86\n",
            "(Texygen) BERT-Wiki103 BLEU: 22.26\n"
          ],
          "name": "stdout"
        }
      ]
    },
    {
      "cell_type": "code",
      "metadata": {
        "id": "WLM6yrJXxqvf",
        "outputId": "22760696-7119-45bc-8cdf-8d4635624926",
        "colab": {
          "base_uri": "https://localhost:8080/"
        }
      },
      "source": [
        "self_bleu_score = SelfBleu(file_path)\n",
        "\n",
        "print(\"(Texygen) BERT- SelfBLEU: %.2f\" % (100 * self_bleu_score.get_bleu()))\n",
        "print(\"(Texygen) BERT- SelfBLEU: %.2f\" % (100 * self_bleu_score.get_bleu_parallel()))"
      ],
      "execution_count": 73,
      "outputs": [
        {
          "output_type": "stream",
          "text": [
            "(Texygen) BERT- SelfBLEU: 100.00\n",
            "(Texygen) BERT- SelfBLEU: 14.49\n"
          ],
          "name": "stdout"
        }
      ]
    },
    {
      "cell_type": "code",
      "metadata": {
        "id": "0v5S0ELkOOWF",
        "outputId": "dccda71e-a635-4b47-f927-29b9e798194d",
        "colab": {
          "base_uri": "https://localhost:8080/"
        }
      },
      "source": [
        "## (Texygen) methods testing\n",
        "\n",
        "import numpy as np\n",
        "def get_reference(test_data):\n",
        "    if True:\n",
        "        reference = list()\n",
        "        with open(test_data) as real_data:\n",
        "            for text in real_data:\n",
        "                text = nltk.word_tokenize(text)\n",
        "                reference.append(text)\n",
        "        # self.reference = reference\n",
        "        return reference\n",
        "\n",
        "def get_bleu(test_data):\n",
        "    ngram = 4\n",
        "    bleu = list()\n",
        "    reference = get_reference(test_data)\n",
        "    weight = tuple((1. / ngram for _ in range(ngram)))\n",
        "\n",
        "    with open(test_data) as test_data:\n",
        "        for the_hypothesis in test_data:\n",
        "            the_hypothesis = nltk.word_tokenize(the_hypothesis)\n",
        "            ## Exclude hypothesis\n",
        "            index = reference.index(the_hypothesis)\n",
        "            cleaned_reference = reference[:index] + reference[index + 1:]\n",
        "            ##\n",
        "            score = nltk.translate.bleu_score.sentence_bleu(cleaned_reference, the_hypothesis, weight) # Missing SmoothingFunction\n",
        "            bleu.append(score)\n",
        "    return sum(bleu) / len(bleu)\n",
        "\n",
        "get_bleu(file_path)"
      ],
      "execution_count": 72,
      "outputs": [
        {
          "output_type": "stream",
          "text": [
            "/usr/local/lib/python3.7/dist-packages/nltk/translate/bleu_score.py:490: UserWarning: \n",
            "Corpus/Sentence contains 0 counts of 2-gram overlaps.\n",
            "BLEU scores might be undesirable; use SmoothingFunction().\n",
            "  warnings.warn(_msg)\n",
            "/usr/local/lib/python3.7/dist-packages/nltk/translate/bleu_score.py:490: UserWarning: \n",
            "Corpus/Sentence contains 0 counts of 3-gram overlaps.\n",
            "BLEU scores might be undesirable; use SmoothingFunction().\n",
            "  warnings.warn(_msg)\n",
            "/usr/local/lib/python3.7/dist-packages/nltk/translate/bleu_score.py:490: UserWarning: \n",
            "Corpus/Sentence contains 0 counts of 4-gram overlaps.\n",
            "BLEU scores might be undesirable; use SmoothingFunction().\n",
            "  warnings.warn(_msg)\n"
          ],
          "name": "stderr"
        },
        {
          "output_type": "execute_result",
          "data": {
            "text/plain": [
              "0.5701824132971612"
            ]
          },
          "metadata": {},
          "execution_count": 72
        }
      ]
    },
    {
      "cell_type": "code",
      "metadata": {
        "id": "2AI27gS6Cx23",
        "outputId": "a5086430-8d56-4c06-cd7d-9ba8e09873e3",
        "colab": {
          "base_uri": "https://localhost:8080/"
        }
      },
      "source": [
        "## Testing\n",
        "ref = [['a', 'b', 'c', 'd'], ['a', 'b', 'c', 'd'], ['b', 'r', 't', 'f'], ['d','t','f','r']]\n",
        "matrix = []\n",
        "weight = tuple((1. / 2 for _ in range(2)))\n",
        "\n",
        "for index in range(0, len(ref)):\n",
        "    hypothesis = ref[index]\n",
        "    other = ref[:index] + ref[index+1:]\n",
        "    matrix.append([hypothesis])\n",
        "    print(other, hypothesis, nltk.translate.bleu_score.sentence_bleu(other, hypothesis, weight))\n",
        "\n",
        "print(ref[1:], ref[0])\n",
        "print( nltk.translate.bleu_score.sentence_bleu(ref[1:], ref[0], weight) )"
      ],
      "execution_count": 44,
      "outputs": [
        {
          "output_type": "stream",
          "text": [
            "[['a', 'b', 'c', 'd'], ['b', 'r', 't', 'f'], ['d', 't', 'f', 'r']] ['a', 'b', 'c', 'd'] 1.0\n",
            "[['a', 'b', 'c', 'd'], ['b', 'r', 't', 'f'], ['d', 't', 'f', 'r']] ['a', 'b', 'c', 'd'] 1.0\n",
            "[['a', 'b', 'c', 'd'], ['a', 'b', 'c', 'd'], ['d', 't', 'f', 'r']] ['b', 'r', 't', 'f'] 0.5773502691896257\n",
            "[['a', 'b', 'c', 'd'], ['a', 'b', 'c', 'd'], ['b', 'r', 't', 'f']] ['d', 't', 'f', 'r'] 0.5773502691896257\n",
            "[['a', 'b', 'c', 'd'], ['b', 'r', 't', 'f'], ['d', 't', 'f', 'r']] ['a', 'b', 'c', 'd']\n",
            "1.0\n"
          ],
          "name": "stdout"
        }
      ]
    },
    {
      "cell_type": "code",
      "metadata": {
        "id": "DlzAZtw3sOPN",
        "outputId": "1ed70fe9-1f59-481a-c16f-2a4f9d24947a",
        "colab": {
          "base_uri": "https://localhost:8080/"
        }
      },
      "source": [
        "## Paper self-bleu scoring\n",
        "bleu.corpus_bleu([[s for (j, s) in enumerate(bert_sents) if j != i] for i in range(len(bert_sents))], bert_sents)"
      ],
      "execution_count": 28,
      "outputs": [
        {
          "output_type": "execute_result",
          "data": {
            "text/plain": [
              "0.7974059181131615"
            ]
          },
          "metadata": {},
          "execution_count": 28
        }
      ]
    },
    {
      "cell_type": "code",
      "metadata": {
        "id": "nOTBr3OnxIBU"
      },
      "source": [
        "##\n",
        "## (Texygen) Self-bleu class\n",
        "##\n",
        "\n",
        "import os\n",
        "from multiprocessing import Pool\n",
        "\n",
        "import nltk\n",
        "from nltk.translate.bleu_score import SmoothingFunction\n",
        "\n",
        "from utils.metrics.Metrics import Metrics\n",
        "\n",
        "\n",
        "class SelfBleu(Metrics):\n",
        "    def __init__(self, test_text='', gram=3):\n",
        "        super().__init__()\n",
        "        self.name = 'Self-Bleu'\n",
        "        self.test_data = test_text\n",
        "        self.gram = gram\n",
        "        self.sample_size = 500\n",
        "        self.reference = None\n",
        "        self.is_first = True\n",
        "\n",
        "    def get_name(self):\n",
        "        return self.name\n",
        "\n",
        "    def get_score(self, is_fast=True, ignore=False):\n",
        "        if ignore:\n",
        "            return 0\n",
        "        if self.is_first:\n",
        "            self.get_reference()\n",
        "            self.is_first = False\n",
        "        if is_fast:\n",
        "            return self.get_bleu_fast()\n",
        "        return self.get_bleu_parallel()\n",
        "\n",
        "    def get_reference(self):\n",
        "        if self.reference is None:\n",
        "            reference = list()\n",
        "            with open(self.test_data) as real_data:\n",
        "                for text in real_data:\n",
        "                    text = nltk.word_tokenize(text)\n",
        "                    reference.append(text)\n",
        "            self.reference = reference\n",
        "            return reference\n",
        "        else:\n",
        "            return self.reference\n",
        "\n",
        "    def get_bleu(self):\n",
        "        ngram = self.gram\n",
        "        bleu = list()\n",
        "        reference = self.get_reference()\n",
        "        weight = tuple((1. / ngram for _ in range(ngram)))\n",
        "        with open(self.test_data) as test_data:\n",
        "            for hypothesis in test_data:\n",
        "                hypothesis = nltk.word_tokenize(hypothesis)\n",
        "                bleu.append(nltk.translate.bleu_score.sentence_bleu(reference, hypothesis, weight,\n",
        "                                                                    smoothing_function=SmoothingFunction().method1))\n",
        "        return sum(bleu) / len(bleu)\n",
        "\n",
        "    def calc_bleu(self, reference, hypothesis, weight):\n",
        "        return nltk.translate.bleu_score.sentence_bleu(reference, hypothesis, weight,\n",
        "                                                       smoothing_function=SmoothingFunction().method1)\n",
        "\n",
        "    def get_bleu_fast(self):\n",
        "        reference = self.get_reference()\n",
        "        # random.shuffle(reference)\n",
        "        reference = reference[0:self.sample_size]\n",
        "        return self.get_bleu_parallel(reference=reference)\n",
        "\n",
        "    def get_bleu_parallel(self, reference=None):\n",
        "        ngram = self.gram\n",
        "        if reference is None:\n",
        "            reference = self.get_reference()\n",
        "        weight = tuple((1. / ngram for _ in range(ngram)))\n",
        "        pool = Pool(os.cpu_count())\n",
        "        result = list()\n",
        "        sentence_num = len(reference)\n",
        "        for index in range(sentence_num):\n",
        "            hypothesis = reference[index]\n",
        "            other = reference[:index] + reference[index+1:]\n",
        "            result.append(pool.apply_async(self.calc_bleu, args=(other, hypothesis, weight)))\n",
        "\n",
        "        score = 0.0\n",
        "        cnt = 0\n",
        "        for i in result:\n",
        "            score += i.get()\n",
        "            cnt += 1\n",
        "        pool.close()\n",
        "        pool.join()\n",
        "        return score / cnt"
      ],
      "execution_count": 19,
      "outputs": []
    }
  ]
}