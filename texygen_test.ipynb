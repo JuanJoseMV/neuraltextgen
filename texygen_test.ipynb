{
  "nbformat": 4,
  "nbformat_minor": 0,
  "metadata": {
    "colab": {
      "name": "texygen_test.ipynb",
      "provenance": [],
      "collapsed_sections": [],
      "authorship_tag": "ABX9TyMMyUijZO/5SVtmV/8EjAJT",
      "include_colab_link": true
    },
    "kernelspec": {
      "name": "python3",
      "display_name": "Python 3"
    },
    "language_info": {
      "name": "python"
    }
  },
  "cells": [
    {
      "cell_type": "markdown",
      "metadata": {
        "id": "view-in-github",
        "colab_type": "text"
      },
      "source": [
        "<a href=\"https://colab.research.google.com/github/JuanJoseMV/neuraltextgen/blob/main/texygen_test.ipynb\" target=\"_parent\"><img src=\"https://colab.research.google.com/assets/colab-badge.svg\" alt=\"Open In Colab\"/></a>"
      ]
    },
    {
      "cell_type": "code",
      "metadata": {
        "colab": {
          "base_uri": "https://localhost:8080/"
        },
        "id": "E-gcgNG2Hqy-",
        "outputId": "5c51ee54-b8a7-405d-b8a3-e3acf5c63d9e"
      },
      "source": [
        "# !git clone https://github.com/geek-ai/Texygen.git\n",
        "!git clone --recursive https://github.com/JuanJoseMV/neuraltextgen.git\n",
        "!pip install -r /content/neuraltextgen/texygen/requirements.txt"
      ],
      "execution_count": 3,
      "outputs": [
        {
          "output_type": "stream",
          "text": [
            "fatal: destination path 'neuraltextgen' already exists and is not an empty directory.\n",
            "Requirement already satisfied: colorama in /usr/local/lib/python3.7/dist-packages (from -r /content/neuraltextgen/texygen/requirements.txt (line 1)) (0.4.4)\n",
            "Requirement already satisfied: numpy>=1.12.1 in /usr/local/lib/python3.7/dist-packages (from -r /content/neuraltextgen/texygen/requirements.txt (line 2)) (1.19.5)\n",
            "Requirement already satisfied: tensorflow>=1.5.0 in /usr/local/lib/python3.7/dist-packages (from -r /content/neuraltextgen/texygen/requirements.txt (line 3)) (2.5.0)\n",
            "Requirement already satisfied: scipy>=0.19.0 in /usr/local/lib/python3.7/dist-packages (from -r /content/neuraltextgen/texygen/requirements.txt (line 4)) (1.4.1)\n",
            "Requirement already satisfied: nltk>=3.2.3 in /usr/local/lib/python3.7/dist-packages (from -r /content/neuraltextgen/texygen/requirements.txt (line 5)) (3.2.5)\n",
            "Requirement already satisfied: tensorboard~=2.5 in /usr/local/lib/python3.7/dist-packages (from tensorflow>=1.5.0->-r /content/neuraltextgen/texygen/requirements.txt (line 3)) (2.5.0)\n",
            "Requirement already satisfied: gast==0.4.0 in /usr/local/lib/python3.7/dist-packages (from tensorflow>=1.5.0->-r /content/neuraltextgen/texygen/requirements.txt (line 3)) (0.4.0)\n",
            "Requirement already satisfied: protobuf>=3.9.2 in /usr/local/lib/python3.7/dist-packages (from tensorflow>=1.5.0->-r /content/neuraltextgen/texygen/requirements.txt (line 3)) (3.12.4)\n",
            "Requirement already satisfied: opt-einsum~=3.3.0 in /usr/local/lib/python3.7/dist-packages (from tensorflow>=1.5.0->-r /content/neuraltextgen/texygen/requirements.txt (line 3)) (3.3.0)\n",
            "Requirement already satisfied: grpcio~=1.34.0 in /usr/local/lib/python3.7/dist-packages (from tensorflow>=1.5.0->-r /content/neuraltextgen/texygen/requirements.txt (line 3)) (1.34.1)\n",
            "Requirement already satisfied: tensorflow-estimator<2.6.0,>=2.5.0rc0 in /usr/local/lib/python3.7/dist-packages (from tensorflow>=1.5.0->-r /content/neuraltextgen/texygen/requirements.txt (line 3)) (2.5.0)\n",
            "Requirement already satisfied: keras-nightly~=2.5.0.dev in /usr/local/lib/python3.7/dist-packages (from tensorflow>=1.5.0->-r /content/neuraltextgen/texygen/requirements.txt (line 3)) (2.5.0.dev2021032900)\n",
            "Requirement already satisfied: wheel~=0.35 in /usr/local/lib/python3.7/dist-packages (from tensorflow>=1.5.0->-r /content/neuraltextgen/texygen/requirements.txt (line 3)) (0.36.2)\n",
            "Requirement already satisfied: h5py~=3.1.0 in /usr/local/lib/python3.7/dist-packages (from tensorflow>=1.5.0->-r /content/neuraltextgen/texygen/requirements.txt (line 3)) (3.1.0)\n",
            "Requirement already satisfied: typing-extensions~=3.7.4 in /usr/local/lib/python3.7/dist-packages (from tensorflow>=1.5.0->-r /content/neuraltextgen/texygen/requirements.txt (line 3)) (3.7.4.3)\n",
            "Requirement already satisfied: termcolor~=1.1.0 in /usr/local/lib/python3.7/dist-packages (from tensorflow>=1.5.0->-r /content/neuraltextgen/texygen/requirements.txt (line 3)) (1.1.0)\n",
            "Requirement already satisfied: six~=1.15.0 in /usr/local/lib/python3.7/dist-packages (from tensorflow>=1.5.0->-r /content/neuraltextgen/texygen/requirements.txt (line 3)) (1.15.0)\n",
            "Requirement already satisfied: keras-preprocessing~=1.1.2 in /usr/local/lib/python3.7/dist-packages (from tensorflow>=1.5.0->-r /content/neuraltextgen/texygen/requirements.txt (line 3)) (1.1.2)\n",
            "Requirement already satisfied: astunparse~=1.6.3 in /usr/local/lib/python3.7/dist-packages (from tensorflow>=1.5.0->-r /content/neuraltextgen/texygen/requirements.txt (line 3)) (1.6.3)\n",
            "Requirement already satisfied: google-pasta~=0.2 in /usr/local/lib/python3.7/dist-packages (from tensorflow>=1.5.0->-r /content/neuraltextgen/texygen/requirements.txt (line 3)) (0.2.0)\n",
            "Requirement already satisfied: absl-py~=0.10 in /usr/local/lib/python3.7/dist-packages (from tensorflow>=1.5.0->-r /content/neuraltextgen/texygen/requirements.txt (line 3)) (0.12.0)\n",
            "Requirement already satisfied: flatbuffers~=1.12.0 in /usr/local/lib/python3.7/dist-packages (from tensorflow>=1.5.0->-r /content/neuraltextgen/texygen/requirements.txt (line 3)) (1.12)\n",
            "Requirement already satisfied: wrapt~=1.12.1 in /usr/local/lib/python3.7/dist-packages (from tensorflow>=1.5.0->-r /content/neuraltextgen/texygen/requirements.txt (line 3)) (1.12.1)\n",
            "Requirement already satisfied: requests<3,>=2.21.0 in /usr/local/lib/python3.7/dist-packages (from tensorboard~=2.5->tensorflow>=1.5.0->-r /content/neuraltextgen/texygen/requirements.txt (line 3)) (2.23.0)\n",
            "Requirement already satisfied: werkzeug>=0.11.15 in /usr/local/lib/python3.7/dist-packages (from tensorboard~=2.5->tensorflow>=1.5.0->-r /content/neuraltextgen/texygen/requirements.txt (line 3)) (1.0.1)\n",
            "Requirement already satisfied: tensorboard-data-server<0.7.0,>=0.6.0 in /usr/local/lib/python3.7/dist-packages (from tensorboard~=2.5->tensorflow>=1.5.0->-r /content/neuraltextgen/texygen/requirements.txt (line 3)) (0.6.1)\n",
            "Requirement already satisfied: markdown>=2.6.8 in /usr/local/lib/python3.7/dist-packages (from tensorboard~=2.5->tensorflow>=1.5.0->-r /content/neuraltextgen/texygen/requirements.txt (line 3)) (3.3.4)\n",
            "Requirement already satisfied: tensorboard-plugin-wit>=1.6.0 in /usr/local/lib/python3.7/dist-packages (from tensorboard~=2.5->tensorflow>=1.5.0->-r /content/neuraltextgen/texygen/requirements.txt (line 3)) (1.8.0)\n",
            "Requirement already satisfied: setuptools>=41.0.0 in /usr/local/lib/python3.7/dist-packages (from tensorboard~=2.5->tensorflow>=1.5.0->-r /content/neuraltextgen/texygen/requirements.txt (line 3)) (56.1.0)\n",
            "Requirement already satisfied: google-auth<2,>=1.6.3 in /usr/local/lib/python3.7/dist-packages (from tensorboard~=2.5->tensorflow>=1.5.0->-r /content/neuraltextgen/texygen/requirements.txt (line 3)) (1.30.0)\n",
            "Requirement already satisfied: google-auth-oauthlib<0.5,>=0.4.1 in /usr/local/lib/python3.7/dist-packages (from tensorboard~=2.5->tensorflow>=1.5.0->-r /content/neuraltextgen/texygen/requirements.txt (line 3)) (0.4.4)\n",
            "Requirement already satisfied: cached-property; python_version < \"3.8\" in /usr/local/lib/python3.7/dist-packages (from h5py~=3.1.0->tensorflow>=1.5.0->-r /content/neuraltextgen/texygen/requirements.txt (line 3)) (1.5.2)\n",
            "Requirement already satisfied: urllib3!=1.25.0,!=1.25.1,<1.26,>=1.21.1 in /usr/local/lib/python3.7/dist-packages (from requests<3,>=2.21.0->tensorboard~=2.5->tensorflow>=1.5.0->-r /content/neuraltextgen/texygen/requirements.txt (line 3)) (1.24.3)\n",
            "Requirement already satisfied: idna<3,>=2.5 in /usr/local/lib/python3.7/dist-packages (from requests<3,>=2.21.0->tensorboard~=2.5->tensorflow>=1.5.0->-r /content/neuraltextgen/texygen/requirements.txt (line 3)) (2.10)\n",
            "Requirement already satisfied: certifi>=2017.4.17 in /usr/local/lib/python3.7/dist-packages (from requests<3,>=2.21.0->tensorboard~=2.5->tensorflow>=1.5.0->-r /content/neuraltextgen/texygen/requirements.txt (line 3)) (2020.12.5)\n",
            "Requirement already satisfied: chardet<4,>=3.0.2 in /usr/local/lib/python3.7/dist-packages (from requests<3,>=2.21.0->tensorboard~=2.5->tensorflow>=1.5.0->-r /content/neuraltextgen/texygen/requirements.txt (line 3)) (3.0.4)\n",
            "Requirement already satisfied: importlib-metadata; python_version < \"3.8\" in /usr/local/lib/python3.7/dist-packages (from markdown>=2.6.8->tensorboard~=2.5->tensorflow>=1.5.0->-r /content/neuraltextgen/texygen/requirements.txt (line 3)) (4.0.1)\n",
            "Requirement already satisfied: cachetools<5.0,>=2.0.0 in /usr/local/lib/python3.7/dist-packages (from google-auth<2,>=1.6.3->tensorboard~=2.5->tensorflow>=1.5.0->-r /content/neuraltextgen/texygen/requirements.txt (line 3)) (4.2.2)\n",
            "Requirement already satisfied: pyasn1-modules>=0.2.1 in /usr/local/lib/python3.7/dist-packages (from google-auth<2,>=1.6.3->tensorboard~=2.5->tensorflow>=1.5.0->-r /content/neuraltextgen/texygen/requirements.txt (line 3)) (0.2.8)\n",
            "Requirement already satisfied: rsa<5,>=3.1.4; python_version >= \"3.6\" in /usr/local/lib/python3.7/dist-packages (from google-auth<2,>=1.6.3->tensorboard~=2.5->tensorflow>=1.5.0->-r /content/neuraltextgen/texygen/requirements.txt (line 3)) (4.7.2)\n",
            "Requirement already satisfied: requests-oauthlib>=0.7.0 in /usr/local/lib/python3.7/dist-packages (from google-auth-oauthlib<0.5,>=0.4.1->tensorboard~=2.5->tensorflow>=1.5.0->-r /content/neuraltextgen/texygen/requirements.txt (line 3)) (1.3.0)\n",
            "Requirement already satisfied: zipp>=0.5 in /usr/local/lib/python3.7/dist-packages (from importlib-metadata; python_version < \"3.8\"->markdown>=2.6.8->tensorboard~=2.5->tensorflow>=1.5.0->-r /content/neuraltextgen/texygen/requirements.txt (line 3)) (3.4.1)\n",
            "Requirement already satisfied: pyasn1<0.5.0,>=0.4.6 in /usr/local/lib/python3.7/dist-packages (from pyasn1-modules>=0.2.1->google-auth<2,>=1.6.3->tensorboard~=2.5->tensorflow>=1.5.0->-r /content/neuraltextgen/texygen/requirements.txt (line 3)) (0.4.8)\n",
            "Requirement already satisfied: oauthlib>=3.0.0 in /usr/local/lib/python3.7/dist-packages (from requests-oauthlib>=0.7.0->google-auth-oauthlib<0.5,>=0.4.1->tensorboard~=2.5->tensorflow>=1.5.0->-r /content/neuraltextgen/texygen/requirements.txt (line 3)) (3.1.0)\n"
          ],
          "name": "stdout"
        }
      ]
    },
    {
      "cell_type": "code",
      "metadata": {
        "colab": {
          "base_uri": "https://localhost:8080/"
        },
        "id": "W3RdQ0qXHtHS",
        "outputId": "aa8f2e18-7848-448d-ec1b-decf632c1d2c"
      },
      "source": [
        "import nltk\n",
        "nltk.download('punkt')"
      ],
      "execution_count": 4,
      "outputs": [
        {
          "output_type": "stream",
          "text": [
            "[nltk_data] Downloading package punkt to /root/nltk_data...\n",
            "[nltk_data]   Package punkt is already up-to-date!\n"
          ],
          "name": "stdout"
        },
        {
          "output_type": "execute_result",
          "data": {
            "text/plain": [
              "True"
            ]
          },
          "metadata": {
            "tags": []
          },
          "execution_count": 4
        }
      ]
    },
    {
      "cell_type": "code",
      "metadata": {
        "id": "B8vEfVzAIFK0"
      },
      "source": [
        "import sys, os\n",
        "import os\n",
        "os.chdir(\"/content/neuraltextgen/texygen\")\n"
      ],
      "execution_count": 5,
      "outputs": []
    },
    {
      "cell_type": "code",
      "metadata": {
        "id": "LL7PHwMycJoQ"
      },
      "source": [
        "from Texygen.utils.metrics.Bleu import Bleu"
      ],
      "execution_count": 6,
      "outputs": []
    },
    {
      "cell_type": "code",
      "metadata": {
        "colab": {
          "base_uri": "https://localhost:8080/"
        },
        "id": "qQmE68W1LkXt",
        "outputId": "3411ec58-f32a-4d3f-af69-2ea286a3e2ad"
      },
      "source": [
        "wiki = \"In Siberia,Rasputin, un conducente di slitte ubriacone e analfabeta, viene a sapere mentre si trova all'osteria della morte della moglie di un ecclesiastico del posto, tale Meliti.\\n\" \\\n",
        "        \" Il giorno seguente, Meliti, che ignora di essere rimasto vedovo, assume Rasputin che gli racconta di essere un veggente e gli annuncia la morte della moglie.\\n\" \\\n",
        "        \" Quando Meliti scopre che questa è veramente morta, cade ai piedi di Rasputin, dichiarando la sua fede nelle premonizioni di quel sant'uomo.\\n\"\\\n",
        "        \"Ben presto Rasputin stesso comincia a credere nei suoi poteri e si mette a predicare nelle campagne.\\n\"\\\n",
        "        \"Nei suoi giri, incontra Anna, una giovane zingara che cade vittima dei suoi poteri ipnotici.\\n\"\\\n",
        "        \"Il ciarlatano viene arrestato per furto, ma viene liberato dal principe Felix che, dopo avere sentito le voci che circolano sulle sue abilità profetiche di veggente, si reca al villaggio portandolo con sé a San Pietroburgo.\\n\"\\\n",
        "        \"La predizione che Rasputin fa sulla nascita di un figlio maschio erede al trono si avvera e la sua influenza a corte aumenta, tanto che gli viene assegnato un palazzo che diventa la sua dimora.\\n\"\n",
        "\n",
        "\n",
        "bert = 'in 2006 , the army announced plans to overhaul its schedule , notably reducing the march - october period , and shifting away from summer and winter exercises , which were annual , and the february - april period .\\n'\\\n",
        "        'fuck , fuck , i kept it in that - \" fuck , fuck , fuck , fuck , fuck . \" * * * home , i mean , the house was a large part of my life .\\n'\\\n",
        "        'my \" father \" ( matthew 15 : 17 - 26 ) \\' s ornithological name ( \" e \" or \" a \" ) ; my \" mother \" , or my \" sister \" ;\\n'\\\n",
        "        'london : macmillan . 1 june . thompson , thomas ( rev . 2003 ) . toronto ccp . volume 1 : the municipal elections in greater toronto , monday , 5 november 1962 . official party site .\\n'\\\n",
        "        'b : b ( a + 1 ) = 3 and b : b ( a ) = = 2 c : a + ab c = 3 and are the values of all these variables defined as and .\\n'\\\n",
        "        'a : barcelona , 1978 . el gimpy ( poet ) a : barcelona , 1982 . his books published posthumously include : la casa de historia catalan ( house of catalan history ) , impr .\\n'\n",
        "\n",
        "with open(\"wiki.txt\", 'w') as f:\n",
        "    f.write(wiki)\n",
        "\n",
        "with open(\"bert.txt\", 'w') as f:\n",
        "    f.write(bert)\n",
        "\n",
        "bleu_score = Bleu(\"bert.txt\", \"wiki.txt\", 3)\n",
        "bleu_score.get_score()"
      ],
      "execution_count": 7,
      "outputs": [
        {
          "output_type": "execute_result",
          "data": {
            "text/plain": [
              "0.009386014712809162"
            ]
          },
          "metadata": {
            "tags": []
          },
          "execution_count": 7
        }
      ]
    },
    {
      "cell_type": "code",
      "metadata": {
        "id": "bGPCzj08Ov5Z"
      },
      "source": [
        ""
      ],
      "execution_count": null,
      "outputs": []
    }
  ]
}