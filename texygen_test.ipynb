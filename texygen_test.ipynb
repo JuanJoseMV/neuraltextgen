{
  "nbformat": 4,
  "nbformat_minor": 0,
  "metadata": {
    "colab": {
      "name": "texygen_test.ipynb",
      "provenance": [],
      "collapsed_sections": [],
      "authorship_tag": "ABX9TyOdy2KIteR6MTQ1WMx6sKOt",
      "include_colab_link": true
    },
    "kernelspec": {
      "name": "python3",
      "display_name": "Python 3"
    },
    "language_info": {
      "name": "python"
    }
  },
  "cells": [
    {
      "cell_type": "markdown",
      "metadata": {
        "id": "view-in-github",
        "colab_type": "text"
      },
      "source": [
        "<a href=\"https://colab.research.google.com/github/JuanJoseMV/neuraltextgen/blob/main/texygen_test.ipynb\" target=\"_parent\"><img src=\"https://colab.research.google.com/assets/colab-badge.svg\" alt=\"Open In Colab\"/></a>"
      ]
    },
    {
      "cell_type": "code",
      "metadata": {
        "colab": {
          "base_uri": "https://localhost:8080/"
        },
        "id": "E-gcgNG2Hqy-",
        "outputId": "b155c8c2-6d30-4372-a144-0916b1108a53"
      },
      "source": [
        "# !git clone https://github.com/geek-ai/Texygen.git\n",
        "!git clone --recursive https://github.com/JuanJoseMV/neuraltextgen.git\n",
        "!pip install -r /content/neuraltextgen/texygen/requirements.txt"
      ],
      "execution_count": 9,
      "outputs": [
        {
          "output_type": "stream",
          "text": [
            "Cloning into 'neuraltextgen'...\n",
            "remote: Enumerating objects: 24, done.\u001b[K\n",
            "remote: Counting objects:   4% (1/24)\u001b[K\rremote: Counting objects:   8% (2/24)\u001b[K\rremote: Counting objects:  12% (3/24)\u001b[K\rremote: Counting objects:  16% (4/24)\u001b[K\rremote: Counting objects:  20% (5/24)\u001b[K\rremote: Counting objects:  25% (6/24)\u001b[K\rremote: Counting objects:  29% (7/24)\u001b[K\rremote: Counting objects:  33% (8/24)\u001b[K\rremote: Counting objects:  37% (9/24)\u001b[K\rremote: Counting objects:  41% (10/24)\u001b[K\rremote: Counting objects:  45% (11/24)\u001b[K\rremote: Counting objects:  50% (12/24)\u001b[K\rremote: Counting objects:  54% (13/24)\u001b[K\rremote: Counting objects:  58% (14/24)\u001b[K\rremote: Counting objects:  62% (15/24)\u001b[K\rremote: Counting objects:  66% (16/24)\u001b[K\rremote: Counting objects:  70% (17/24)\u001b[K\rremote: Counting objects:  75% (18/24)\u001b[K\rremote: Counting objects:  79% (19/24)\u001b[K\rremote: Counting objects:  83% (20/24)\u001b[K\rremote: Counting objects:  87% (21/24)\u001b[K\rremote: Counting objects:  91% (22/24)\u001b[K\rremote: Counting objects:  95% (23/24)\u001b[K\rremote: Counting objects: 100% (24/24)\u001b[K\rremote: Counting objects: 100% (24/24), done.\u001b[K\n",
            "remote: Compressing objects:   4% (1/22)\u001b[K\rremote: Compressing objects:   9% (2/22)\u001b[K\rremote: Compressing objects:  13% (3/22)\u001b[K\rremote: Compressing objects:  18% (4/22)\u001b[K\rremote: Compressing objects:  22% (5/22)\u001b[K\rremote: Compressing objects:  27% (6/22)\u001b[K\rremote: Compressing objects:  31% (7/22)\u001b[K\rremote: Compressing objects:  36% (8/22)\u001b[K\rremote: Compressing objects:  40% (9/22)\u001b[K\rremote: Compressing objects:  45% (10/22)\u001b[K\rremote: Compressing objects:  50% (11/22)\u001b[K\rremote: Compressing objects:  54% (12/22)\u001b[K\rremote: Compressing objects:  59% (13/22)\u001b[K\rremote: Compressing objects:  63% (14/22)\u001b[K\rremote: Compressing objects:  68% (15/22)\u001b[K\rremote: Compressing objects:  72% (16/22)\u001b[K\rremote: Compressing objects:  77% (17/22)\u001b[K\rremote: Compressing objects:  81% (18/22)\u001b[K\rremote: Compressing objects:  86% (19/22)\u001b[K\rremote: Compressing objects:  90% (20/22)\u001b[K\rremote: Compressing objects:  95% (21/22)\u001b[K\rremote: Compressing objects: 100% (22/22)\u001b[K\rremote: Compressing objects: 100% (22/22), done.\u001b[K\n",
            "remote: Total 24 (delta 9), reused 3 (delta 1), pack-reused 0\u001b[K\n",
            "Unpacking objects:   4% (1/24)   \rUnpacking objects:   8% (2/24)   \rUnpacking objects:  12% (3/24)   \rUnpacking objects:  16% (4/24)   \rUnpacking objects:  20% (5/24)   \rUnpacking objects:  25% (6/24)   \rUnpacking objects:  29% (7/24)   \rUnpacking objects:  33% (8/24)   \rUnpacking objects:  37% (9/24)   \rUnpacking objects:  41% (10/24)   \rUnpacking objects:  45% (11/24)   \rUnpacking objects:  50% (12/24)   \rUnpacking objects:  54% (13/24)   \rUnpacking objects:  58% (14/24)   \rUnpacking objects:  62% (15/24)   \rUnpacking objects:  66% (16/24)   \rUnpacking objects:  70% (17/24)   \rUnpacking objects:  75% (18/24)   \rUnpacking objects:  79% (19/24)   \rUnpacking objects:  83% (20/24)   \rUnpacking objects:  87% (21/24)   \rUnpacking objects:  91% (22/24)   \rUnpacking objects:  95% (23/24)   \rUnpacking objects: 100% (24/24)   \rUnpacking objects: 100% (24/24), done.\n",
            "Submodule 'texygen' (https://github.com/geek-ai/Texygen.git) registered for path 'texygen'\n",
            "Cloning into '/content/neuraltextgen/texygen/neuraltextgen/texygen'...\n",
            "remote: Enumerating objects: 888, done.        \n",
            "remote: Total 888 (delta 0), reused 0 (delta 0), pack-reused 888        \n",
            "Receiving objects: 100% (888/888), 21.85 MiB | 18.96 MiB/s, done.\n",
            "Resolving deltas: 100% (537/537), done.\n",
            "Submodule path 'texygen': checked out '3104e22ac75f3cc2070da2bf5e2da6d2bef149ad'\n",
            "Requirement already satisfied: colorama in /usr/local/lib/python3.7/dist-packages (from -r /content/neuraltextgen/texygen/requirements.txt (line 1)) (0.4.4)\n",
            "Requirement already satisfied: numpy>=1.12.1 in /usr/local/lib/python3.7/dist-packages (from -r /content/neuraltextgen/texygen/requirements.txt (line 2)) (1.19.5)\n",
            "Requirement already satisfied: tensorflow>=1.5.0 in /usr/local/lib/python3.7/dist-packages (from -r /content/neuraltextgen/texygen/requirements.txt (line 3)) (2.5.0)\n",
            "Requirement already satisfied: scipy>=0.19.0 in /usr/local/lib/python3.7/dist-packages (from -r /content/neuraltextgen/texygen/requirements.txt (line 4)) (1.4.1)\n",
            "Requirement already satisfied: nltk>=3.2.3 in /usr/local/lib/python3.7/dist-packages (from -r /content/neuraltextgen/texygen/requirements.txt (line 5)) (3.2.5)\n",
            "Requirement already satisfied: google-pasta~=0.2 in /usr/local/lib/python3.7/dist-packages (from tensorflow>=1.5.0->-r /content/neuraltextgen/texygen/requirements.txt (line 3)) (0.2.0)\n",
            "Requirement already satisfied: grpcio~=1.34.0 in /usr/local/lib/python3.7/dist-packages (from tensorflow>=1.5.0->-r /content/neuraltextgen/texygen/requirements.txt (line 3)) (1.34.1)\n",
            "Requirement already satisfied: wheel~=0.35 in /usr/local/lib/python3.7/dist-packages (from tensorflow>=1.5.0->-r /content/neuraltextgen/texygen/requirements.txt (line 3)) (0.36.2)\n",
            "Requirement already satisfied: gast==0.4.0 in /usr/local/lib/python3.7/dist-packages (from tensorflow>=1.5.0->-r /content/neuraltextgen/texygen/requirements.txt (line 3)) (0.4.0)\n",
            "Requirement already satisfied: flatbuffers~=1.12.0 in /usr/local/lib/python3.7/dist-packages (from tensorflow>=1.5.0->-r /content/neuraltextgen/texygen/requirements.txt (line 3)) (1.12)\n",
            "Requirement already satisfied: six~=1.15.0 in /usr/local/lib/python3.7/dist-packages (from tensorflow>=1.5.0->-r /content/neuraltextgen/texygen/requirements.txt (line 3)) (1.15.0)\n",
            "Requirement already satisfied: wrapt~=1.12.1 in /usr/local/lib/python3.7/dist-packages (from tensorflow>=1.5.0->-r /content/neuraltextgen/texygen/requirements.txt (line 3)) (1.12.1)\n",
            "Requirement already satisfied: keras-nightly~=2.5.0.dev in /usr/local/lib/python3.7/dist-packages (from tensorflow>=1.5.0->-r /content/neuraltextgen/texygen/requirements.txt (line 3)) (2.5.0.dev2021032900)\n",
            "Requirement already satisfied: h5py~=3.1.0 in /usr/local/lib/python3.7/dist-packages (from tensorflow>=1.5.0->-r /content/neuraltextgen/texygen/requirements.txt (line 3)) (3.1.0)\n",
            "Requirement already satisfied: tensorflow-estimator<2.6.0,>=2.5.0rc0 in /usr/local/lib/python3.7/dist-packages (from tensorflow>=1.5.0->-r /content/neuraltextgen/texygen/requirements.txt (line 3)) (2.5.0)\n",
            "Requirement already satisfied: protobuf>=3.9.2 in /usr/local/lib/python3.7/dist-packages (from tensorflow>=1.5.0->-r /content/neuraltextgen/texygen/requirements.txt (line 3)) (3.12.4)\n",
            "Requirement already satisfied: keras-preprocessing~=1.1.2 in /usr/local/lib/python3.7/dist-packages (from tensorflow>=1.5.0->-r /content/neuraltextgen/texygen/requirements.txt (line 3)) (1.1.2)\n",
            "Requirement already satisfied: termcolor~=1.1.0 in /usr/local/lib/python3.7/dist-packages (from tensorflow>=1.5.0->-r /content/neuraltextgen/texygen/requirements.txt (line 3)) (1.1.0)\n",
            "Requirement already satisfied: typing-extensions~=3.7.4 in /usr/local/lib/python3.7/dist-packages (from tensorflow>=1.5.0->-r /content/neuraltextgen/texygen/requirements.txt (line 3)) (3.7.4.3)\n",
            "Requirement already satisfied: astunparse~=1.6.3 in /usr/local/lib/python3.7/dist-packages (from tensorflow>=1.5.0->-r /content/neuraltextgen/texygen/requirements.txt (line 3)) (1.6.3)\n",
            "Requirement already satisfied: absl-py~=0.10 in /usr/local/lib/python3.7/dist-packages (from tensorflow>=1.5.0->-r /content/neuraltextgen/texygen/requirements.txt (line 3)) (0.12.0)\n",
            "Requirement already satisfied: opt-einsum~=3.3.0 in /usr/local/lib/python3.7/dist-packages (from tensorflow>=1.5.0->-r /content/neuraltextgen/texygen/requirements.txt (line 3)) (3.3.0)\n",
            "Requirement already satisfied: tensorboard~=2.5 in /usr/local/lib/python3.7/dist-packages (from tensorflow>=1.5.0->-r /content/neuraltextgen/texygen/requirements.txt (line 3)) (2.5.0)\n",
            "Requirement already satisfied: cached-property; python_version < \"3.8\" in /usr/local/lib/python3.7/dist-packages (from h5py~=3.1.0->tensorflow>=1.5.0->-r /content/neuraltextgen/texygen/requirements.txt (line 3)) (1.5.2)\n",
            "Requirement already satisfied: setuptools in /usr/local/lib/python3.7/dist-packages (from protobuf>=3.9.2->tensorflow>=1.5.0->-r /content/neuraltextgen/texygen/requirements.txt (line 3)) (56.1.0)\n",
            "Requirement already satisfied: google-auth<2,>=1.6.3 in /usr/local/lib/python3.7/dist-packages (from tensorboard~=2.5->tensorflow>=1.5.0->-r /content/neuraltextgen/texygen/requirements.txt (line 3)) (1.30.0)\n",
            "Requirement already satisfied: werkzeug>=0.11.15 in /usr/local/lib/python3.7/dist-packages (from tensorboard~=2.5->tensorflow>=1.5.0->-r /content/neuraltextgen/texygen/requirements.txt (line 3)) (1.0.1)\n",
            "Requirement already satisfied: markdown>=2.6.8 in /usr/local/lib/python3.7/dist-packages (from tensorboard~=2.5->tensorflow>=1.5.0->-r /content/neuraltextgen/texygen/requirements.txt (line 3)) (3.3.4)\n",
            "Requirement already satisfied: google-auth-oauthlib<0.5,>=0.4.1 in /usr/local/lib/python3.7/dist-packages (from tensorboard~=2.5->tensorflow>=1.5.0->-r /content/neuraltextgen/texygen/requirements.txt (line 3)) (0.4.4)\n",
            "Requirement already satisfied: tensorboard-data-server<0.7.0,>=0.6.0 in /usr/local/lib/python3.7/dist-packages (from tensorboard~=2.5->tensorflow>=1.5.0->-r /content/neuraltextgen/texygen/requirements.txt (line 3)) (0.6.1)\n",
            "Requirement already satisfied: tensorboard-plugin-wit>=1.6.0 in /usr/local/lib/python3.7/dist-packages (from tensorboard~=2.5->tensorflow>=1.5.0->-r /content/neuraltextgen/texygen/requirements.txt (line 3)) (1.8.0)\n",
            "Requirement already satisfied: requests<3,>=2.21.0 in /usr/local/lib/python3.7/dist-packages (from tensorboard~=2.5->tensorflow>=1.5.0->-r /content/neuraltextgen/texygen/requirements.txt (line 3)) (2.23.0)\n",
            "Requirement already satisfied: cachetools<5.0,>=2.0.0 in /usr/local/lib/python3.7/dist-packages (from google-auth<2,>=1.6.3->tensorboard~=2.5->tensorflow>=1.5.0->-r /content/neuraltextgen/texygen/requirements.txt (line 3)) (4.2.2)\n",
            "Requirement already satisfied: pyasn1-modules>=0.2.1 in /usr/local/lib/python3.7/dist-packages (from google-auth<2,>=1.6.3->tensorboard~=2.5->tensorflow>=1.5.0->-r /content/neuraltextgen/texygen/requirements.txt (line 3)) (0.2.8)\n",
            "Requirement already satisfied: rsa<5,>=3.1.4; python_version >= \"3.6\" in /usr/local/lib/python3.7/dist-packages (from google-auth<2,>=1.6.3->tensorboard~=2.5->tensorflow>=1.5.0->-r /content/neuraltextgen/texygen/requirements.txt (line 3)) (4.7.2)\n",
            "Requirement already satisfied: importlib-metadata; python_version < \"3.8\" in /usr/local/lib/python3.7/dist-packages (from markdown>=2.6.8->tensorboard~=2.5->tensorflow>=1.5.0->-r /content/neuraltextgen/texygen/requirements.txt (line 3)) (4.0.1)\n",
            "Requirement already satisfied: requests-oauthlib>=0.7.0 in /usr/local/lib/python3.7/dist-packages (from google-auth-oauthlib<0.5,>=0.4.1->tensorboard~=2.5->tensorflow>=1.5.0->-r /content/neuraltextgen/texygen/requirements.txt (line 3)) (1.3.0)\n",
            "Requirement already satisfied: chardet<4,>=3.0.2 in /usr/local/lib/python3.7/dist-packages (from requests<3,>=2.21.0->tensorboard~=2.5->tensorflow>=1.5.0->-r /content/neuraltextgen/texygen/requirements.txt (line 3)) (3.0.4)\n",
            "Requirement already satisfied: certifi>=2017.4.17 in /usr/local/lib/python3.7/dist-packages (from requests<3,>=2.21.0->tensorboard~=2.5->tensorflow>=1.5.0->-r /content/neuraltextgen/texygen/requirements.txt (line 3)) (2020.12.5)\n",
            "Requirement already satisfied: urllib3!=1.25.0,!=1.25.1,<1.26,>=1.21.1 in /usr/local/lib/python3.7/dist-packages (from requests<3,>=2.21.0->tensorboard~=2.5->tensorflow>=1.5.0->-r /content/neuraltextgen/texygen/requirements.txt (line 3)) (1.24.3)\n",
            "Requirement already satisfied: idna<3,>=2.5 in /usr/local/lib/python3.7/dist-packages (from requests<3,>=2.21.0->tensorboard~=2.5->tensorflow>=1.5.0->-r /content/neuraltextgen/texygen/requirements.txt (line 3)) (2.10)\n",
            "Requirement already satisfied: pyasn1<0.5.0,>=0.4.6 in /usr/local/lib/python3.7/dist-packages (from pyasn1-modules>=0.2.1->google-auth<2,>=1.6.3->tensorboard~=2.5->tensorflow>=1.5.0->-r /content/neuraltextgen/texygen/requirements.txt (line 3)) (0.4.8)\n",
            "Requirement already satisfied: zipp>=0.5 in /usr/local/lib/python3.7/dist-packages (from importlib-metadata; python_version < \"3.8\"->markdown>=2.6.8->tensorboard~=2.5->tensorflow>=1.5.0->-r /content/neuraltextgen/texygen/requirements.txt (line 3)) (3.4.1)\n",
            "Requirement already satisfied: oauthlib>=3.0.0 in /usr/local/lib/python3.7/dist-packages (from requests-oauthlib>=0.7.0->google-auth-oauthlib<0.5,>=0.4.1->tensorboard~=2.5->tensorflow>=1.5.0->-r /content/neuraltextgen/texygen/requirements.txt (line 3)) (3.1.0)\n"
          ],
          "name": "stdout"
        }
      ]
    },
    {
      "cell_type": "code",
      "metadata": {
        "colab": {
          "base_uri": "https://localhost:8080/"
        },
        "id": "W3RdQ0qXHtHS",
        "outputId": "2e6dd79e-94db-4f95-8b63-0ef172752916"
      },
      "source": [
        "import nltk\n",
        "nltk.download('punkt')"
      ],
      "execution_count": 10,
      "outputs": [
        {
          "output_type": "stream",
          "text": [
            "[nltk_data] Downloading package punkt to /root/nltk_data...\n",
            "[nltk_data]   Package punkt is already up-to-date!\n"
          ],
          "name": "stdout"
        },
        {
          "output_type": "execute_result",
          "data": {
            "text/plain": [
              "True"
            ]
          },
          "metadata": {
            "tags": []
          },
          "execution_count": 10
        }
      ]
    },
    {
      "cell_type": "code",
      "metadata": {
        "id": "B8vEfVzAIFK0"
      },
      "source": [
        "import sys, os\n",
        "import os\n",
        "os.chdir(\"/content/neuraltextgen/texygen\")\n"
      ],
      "execution_count": 11,
      "outputs": []
    },
    {
      "cell_type": "code",
      "metadata": {
        "id": "LL7PHwMycJoQ"
      },
      "source": [
        "from Texygen.utils.metrics.Bleu import Bleu"
      ],
      "execution_count": 12,
      "outputs": []
    },
    {
      "cell_type": "code",
      "metadata": {
        "colab": {
          "base_uri": "https://localhost:8080/"
        },
        "id": "qQmE68W1LkXt",
        "outputId": "fdb93143-2f2a-43b4-a2c6-5cec03d08d6a"
      },
      "source": [
        "wiki = \"Buffalo is the second-largest city in the U.S. state of New York and the seat of Erie County.\\n\" \\\n",
        "        \"It is located at the eastern end of Lake Erie, adjacent to the Canadian border with Southern Ontario, and at the head of the Niagara River.\\n\" \\\n",
        "        \"With a population estimated at 255,284 in 2019, Buffalo ranks as the 86th-largest city in the United States.\\n\"\\\n",
        "        \"The city and nearby Niagara Falls share the two-county Buffalo–Niagara Falls Metropolitan Statistical Area (MSA), with an estimated population of 1.1 million residents in 2019, making it the 49th largest in the United States.\\n\"\\\n",
        "        \"The city and the surrounding Western New York region is the largest population and economic center between Boston and Cleveland.\\n\"\\\n",
        "        \"Buffalo was incorporated in 1832 as the terminus of the Erie Canal, stimulating its growth as the primary inland port between the Great Lakes and the Atlantic Ocean through transshipment. After railroads superseded the canal's importance, Buffalo became the largest railway hub after Chicago and the city transitioned to manufacturing, which was dominated by steel production.\\n\"\\\n",
        "        \"The opening of the Saint Lawrence Seaway and deindustrialization saw the city's economy diversify to service industries such as health care, retail, tourism, logistics, and education, while retaining some manufacturing.[8] The gross domestic product (GDP) of the Buffalo–Niagara Falls MSA was $53 billion in 2019.[9]Buffalo is the second-largest city in the U.S. state of New York and the seat of Erie County.[6] It is located at the eastern end of Lake Erie, adjacent to the Canadian border with Southern Ontario, and at the head of the Niagara River. With a population estimated at 255,284 in 2019, Buffalo ranks as the 86th-largest city in the United States.[5] The city and nearby Niagara Falls share the two-county Buffalo–Niagara Falls Metropolitan Statistical Area (MSA), with an estimated population of 1.1 million residents in 2019, making it the 49th largest in the United States.\\n\"\n",
        "\n",
        "\n",
        "\n",
        "bert = 'in 2006 , the army announced plans to overhaul its schedule , notably reducing the march - october period , and shifting away from summer and winter exercises , which were annual , and the february - april period .\\n'\\\n",
        "        'fuck , fuck , i kept it in that - \" fuck , fuck , fuck , fuck , fuck . \" * * * home , i mean , the house was a large part of my life .\\n'\\\n",
        "        'my \" father \" ( matthew 15 : 17 - 26 ) \\' s ornithological name ( \" e \" or \" a \" ) ; my \" mother \" , or my \" sister \" ;\\n'\\\n",
        "        'london : macmillan . 1 june . thompson , thomas ( rev . 2003 ) . toronto ccp . volume 1 : the municipal elections in greater toronto , monday , 5 november 1962 . official party site .\\n'\\\n",
        "        'b : b ( a + 1 ) = 3 and b : b ( a ) = = 2 c : a + ab c = 3 and are the values of all these variables defined as and .\\n'\\\n",
        "        'a : barcelona , 1978 . el gimpy ( poet ) a : barcelona , 1982 . his books published posthumously include : la casa de historia catalan ( house of catalan history ) , impr .\\n'\n",
        "\n",
        "with open(\"wiki.txt\", 'w') as f:\n",
        "    f.write(wiki)\n",
        "\n",
        "with open(\"bert.txt\", 'w') as f:\n",
        "    f.write(bert)\n",
        "\n",
        "bleu_score = Bleu(\"bert.txt\", \"wiki.txt\", 3)\n",
        "bleu_score.get_score()"
      ],
      "execution_count": 13,
      "outputs": [
        {
          "output_type": "execute_result",
          "data": {
            "text/plain": [
              "0.021022430228893777"
            ]
          },
          "metadata": {
            "tags": []
          },
          "execution_count": 13
        }
      ]
    },
    {
      "cell_type": "code",
      "metadata": {
        "id": "bGPCzj08Ov5Z"
      },
      "source": [
        ""
      ],
      "execution_count": null,
      "outputs": []
    }
  ]
}